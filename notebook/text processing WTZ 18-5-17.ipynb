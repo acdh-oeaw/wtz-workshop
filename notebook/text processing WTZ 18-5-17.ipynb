{
 "cells": [
  {
   "cell_type": "markdown",
   "metadata": {},
   "source": [
    "### Import files"
   ]
  },
  {
   "cell_type": "code",
   "execution_count": 1,
   "metadata": {
    "collapsed": true
   },
   "outputs": [],
   "source": [
    "from lxml import etree"
   ]
  },
  {
   "cell_type": "code",
   "execution_count": 2,
   "metadata": {},
   "outputs": [
    {
     "name": "stdout",
     "output_type": "stream",
     "text": [
      "<lxml.etree._ElementTree object at 0x7fd9e829d5c8>\n"
     ]
    }
   ],
   "source": [
    "with open('data/Defregger_Franz_1835_1921.xml') as file:\n",
    "    et = etree.parse(file)\n",
    "    print(et)"
   ]
  },
  {
   "cell_type": "code",
   "execution_count": 3,
   "metadata": {
    "collapsed": true
   },
   "outputs": [],
   "source": [
    "ns_oebl = {'xmlns': 'http://www.biographien.ac.at'}"
   ]
  },
  {
   "cell_type": "code",
   "execution_count": 4,
   "metadata": {},
   "outputs": [
    {
     "name": "stdout",
     "output_type": "stream",
     "text": [
      "['Defregger']\n"
     ]
    }
   ],
   "source": [
    "with open('data/Defregger_Franz_1835_1921.xml') as file:\n",
    "    et = etree.parse(file)\n",
    "    name = et.xpath('.//xmlns:Hauptbezeichnung/text()', namespaces=ns_oebl)\n",
    "    print(name)"
   ]
  },
  {
   "cell_type": "code",
   "execution_count": 5,
   "metadata": {},
   "outputs": [
    {
     "name": "stdout",
     "output_type": "stream",
     "text": [
      "Sohn eines Bauern, zeigte früh Interesse für Schnitzen und Zeichnen, aber erst nach dem Tode des Vaters gab er den Hof auf und ging 1860 nach Innsbruck, um bei Stolz die Bildschnitzerei zu erlernen. Auf dessen Rat wandte er sich der Malerei zu, ging 1862 an die Akad. in München, 1863–65 nach Paris, dann nach Tirol zurück, 1867 wieder nach München, wo er in das Atelier Pilotys eintrat, der den entscheidenden Einfluß auf ihn ausübte. 1878 Prof. an der Münchner Akad., 1883 geadelt. D., bedeutend als Landschafts- und Historienmaler, ist außerdem einer der charakteristischesten und letzten Vertreter der naturalistisch betonten bäuerlichen Genremalerei.\n",
      "\n"
     ]
    }
   ],
   "source": [
    "haupttext = ''\n",
    "with open('data/Defregger_Franz_1835_1921.xml') as file:\n",
    "    et = etree.parse(file)\n",
    "    haupttext = et.xpath('.//xmlns:Haupttext[1]/text()', namespaces=ns_oebl)[0]\n",
    "    print(haupttext)"
   ]
  },
  {
   "cell_type": "markdown",
   "metadata": {},
   "source": [
    "### Regex"
   ]
  },
  {
   "cell_type": "code",
   "execution_count": 6,
   "metadata": {
    "collapsed": true
   },
   "outputs": [],
   "source": [
    "import re"
   ]
  },
  {
   "cell_type": "code",
   "execution_count": 7,
   "metadata": {},
   "outputs": [
    {
     "name": "stdout",
     "output_type": "stream",
     "text": [
      "1860\n",
      "1862\n",
      "1863\n",
      "65\n",
      "1867\n",
      "1878\n",
      "1883\n"
     ]
    }
   ],
   "source": [
    "for year in re.finditer(r'\\d{2,4}', haupttext):\n",
    "    print(year.group(0))"
   ]
  },
  {
   "cell_type": "code",
   "execution_count": 8,
   "metadata": {},
   "outputs": [
    {
     "name": "stdout",
     "output_type": "stream",
     "text": [
      "1860\n",
      "1862\n",
      "1863–65\n",
      "1867\n",
      "1878\n",
      "1883\n"
     ]
    }
   ],
   "source": [
    "for year in re.finditer(r'[\\d\\–]{2,7}', haupttext):\n",
    "    print(year.group(0))"
   ]
  },
  {
   "cell_type": "code",
   "execution_count": 9,
   "metadata": {},
   "outputs": [
    {
     "name": "stdout",
     "output_type": "stream",
     "text": [
      "year: 1860 / place: Innsbruck\n",
      "year: 1862 / place: Paris\n",
      "year: 1867 / place: München\n"
     ]
    }
   ],
   "source": [
    "year_place = []\n",
    "for year in re.finditer(r'([\\d\\–]{2,7}).*?\\snach\\s.*?([A-Z]\\w+)', haupttext):\n",
    "    print('year: {} / place: {}'.format(year.group(1), year.group(2)))\n",
    "    year_place.append((year.group(1), year.group(2)))"
   ]
  },
  {
   "cell_type": "markdown",
   "metadata": {},
   "source": [
    "### writing files"
   ]
  },
  {
   "cell_type": "code",
   "execution_count": 10,
   "metadata": {
    "collapsed": true
   },
   "outputs": [],
   "source": [
    "import csv"
   ]
  },
  {
   "cell_type": "code",
   "execution_count": 11,
   "metadata": {},
   "outputs": [
    {
     "data": {
      "text/plain": [
       "[('1860', 'Innsbruck'), ('1862', 'Paris'), ('1867', 'München')]"
      ]
     },
     "execution_count": 11,
     "metadata": {},
     "output_type": "execute_result"
    }
   ],
   "source": [
    "year_place"
   ]
  },
  {
   "cell_type": "code",
   "execution_count": 12,
   "metadata": {},
   "outputs": [
    {
     "data": {
      "text/plain": [
       "[('year', 'place'),\n",
       " ('1860', 'Innsbruck'),\n",
       " ('1862', 'Paris'),\n",
       " ('1867', 'München')]"
      ]
     },
     "execution_count": 12,
     "metadata": {},
     "output_type": "execute_result"
    }
   ],
   "source": [
    "year_place = [('year','place')] + year_place\n",
    "year_place"
   ]
  },
  {
   "cell_type": "code",
   "execution_count": 13,
   "metadata": {
    "collapsed": true
   },
   "outputs": [],
   "source": [
    "with open('data/output.csv', 'w') as output:\n",
    "    csvwriter = csv.writer(output, delimiter=',')\n",
    "    for yplc in year_place:\n",
    "        csvwriter.writerow(yplc)"
   ]
  },
  {
   "cell_type": "markdown",
   "metadata": {},
   "source": [
    "### Sentence splitting"
   ]
  },
  {
   "cell_type": "code",
   "execution_count": 14,
   "metadata": {},
   "outputs": [
    {
     "name": "stdout",
     "output_type": "stream",
     "text": [
      "sentence #0: Sohn eines Bauern, zeigte früh Interesse für Schnitzen und Zeichnen, aber erst nach dem Tode des Vaters gab er den Hof auf und ging 1860 nach Innsbruck, um bei Stolz die Bildschnitzerei zu erlernen\n",
      "sentence #1:  Auf dessen Rat wandte er sich der Malerei zu, ging 1862 an die Akad\n",
      "sentence #2:  in München, 1863–65 nach Paris, dann nach Tirol zurück, 1867 wieder nach München, wo er in das Atelier Pilotys eintrat, der den entscheidenden Einfluß auf ihn ausübte\n",
      "sentence #3:  1878 Prof\n",
      "sentence #4:  an der Münchner Akad\n",
      "sentence #5: , 1883 geadelt\n",
      "sentence #6:  D\n",
      "sentence #7: , bedeutend als Landschafts- und Historienmaler, ist außerdem einer der charakteristischesten und letzten Vertreter der naturalistisch betonten bäuerlichen Genremalerei\n",
      "sentence #8: \n",
      "\n"
     ]
    }
   ],
   "source": [
    "sentences = []\n",
    "for idx, sent in enumerate(re.split(r'[\\.!?;]{1}', haupttext)):\n",
    "    print('sentence #{}: {}'.format(idx, sent))\n",
    "    sentences.append(sent)"
   ]
  },
  {
   "cell_type": "markdown",
   "metadata": {},
   "source": [
    "### Tokenizing"
   ]
  },
  {
   "cell_type": "code",
   "execution_count": 15,
   "metadata": {
    "collapsed": true
   },
   "outputs": [],
   "source": [
    "tokens = []\n",
    "for sent in sentences:\n",
    "    tokens.append(re.split(r'\\W+', sent))"
   ]
  },
  {
   "cell_type": "code",
   "execution_count": 16,
   "metadata": {},
   "outputs": [
    {
     "data": {
      "text/plain": [
       "[['Sohn',\n",
       "  'eines',\n",
       "  'Bauern',\n",
       "  'zeigte',\n",
       "  'früh',\n",
       "  'Interesse',\n",
       "  'für',\n",
       "  'Schnitzen',\n",
       "  'und',\n",
       "  'Zeichnen',\n",
       "  'aber',\n",
       "  'erst',\n",
       "  'nach',\n",
       "  'dem',\n",
       "  'Tode',\n",
       "  'des',\n",
       "  'Vaters',\n",
       "  'gab',\n",
       "  'er',\n",
       "  'den',\n",
       "  'Hof',\n",
       "  'auf',\n",
       "  'und',\n",
       "  'ging',\n",
       "  '1860',\n",
       "  'nach',\n",
       "  'Innsbruck',\n",
       "  'um',\n",
       "  'bei',\n",
       "  'Stolz',\n",
       "  'die',\n",
       "  'Bildschnitzerei',\n",
       "  'zu',\n",
       "  'erlernen'],\n",
       " ['',\n",
       "  'Auf',\n",
       "  'dessen',\n",
       "  'Rat',\n",
       "  'wandte',\n",
       "  'er',\n",
       "  'sich',\n",
       "  'der',\n",
       "  'Malerei',\n",
       "  'zu',\n",
       "  'ging',\n",
       "  '1862',\n",
       "  'an',\n",
       "  'die',\n",
       "  'Akad'],\n",
       " ['',\n",
       "  'in',\n",
       "  'München',\n",
       "  '1863',\n",
       "  '65',\n",
       "  'nach',\n",
       "  'Paris',\n",
       "  'dann',\n",
       "  'nach',\n",
       "  'Tirol',\n",
       "  'zurück',\n",
       "  '1867',\n",
       "  'wieder',\n",
       "  'nach',\n",
       "  'München',\n",
       "  'wo',\n",
       "  'er',\n",
       "  'in',\n",
       "  'das',\n",
       "  'Atelier',\n",
       "  'Pilotys',\n",
       "  'eintrat',\n",
       "  'der',\n",
       "  'den',\n",
       "  'entscheidenden',\n",
       "  'Einfluß',\n",
       "  'auf',\n",
       "  'ihn',\n",
       "  'ausübte'],\n",
       " ['', '1878', 'Prof'],\n",
       " ['', 'an', 'der', 'Münchner', 'Akad'],\n",
       " ['', '1883', 'geadelt'],\n",
       " ['', 'D'],\n",
       " ['',\n",
       "  'bedeutend',\n",
       "  'als',\n",
       "  'Landschafts',\n",
       "  'und',\n",
       "  'Historienmaler',\n",
       "  'ist',\n",
       "  'außerdem',\n",
       "  'einer',\n",
       "  'der',\n",
       "  'charakteristischesten',\n",
       "  'und',\n",
       "  'letzten',\n",
       "  'Vertreter',\n",
       "  'der',\n",
       "  'naturalistisch',\n",
       "  'betonten',\n",
       "  'bäuerlichen',\n",
       "  'Genremalerei'],\n",
       " ['', '']]"
      ]
     },
     "execution_count": 16,
     "metadata": {},
     "output_type": "execute_result"
    }
   ],
   "source": [
    "tokens"
   ]
  },
  {
   "cell_type": "code",
   "execution_count": 17,
   "metadata": {
    "collapsed": true
   },
   "outputs": [],
   "source": [
    "for idx, sent in enumerate(tokens):\n",
    "    result = []\n",
    "    for token in sent:\n",
    "        if len(token) > 0:\n",
    "            result.append(token.strip())\n",
    "    tokens[idx] = result"
   ]
  },
  {
   "cell_type": "code",
   "execution_count": 18,
   "metadata": {},
   "outputs": [
    {
     "data": {
      "text/plain": [
       "[['Sohn',\n",
       "  'eines',\n",
       "  'Bauern',\n",
       "  'zeigte',\n",
       "  'früh',\n",
       "  'Interesse',\n",
       "  'für',\n",
       "  'Schnitzen',\n",
       "  'und',\n",
       "  'Zeichnen',\n",
       "  'aber',\n",
       "  'erst',\n",
       "  'nach',\n",
       "  'dem',\n",
       "  'Tode',\n",
       "  'des',\n",
       "  'Vaters',\n",
       "  'gab',\n",
       "  'er',\n",
       "  'den',\n",
       "  'Hof',\n",
       "  'auf',\n",
       "  'und',\n",
       "  'ging',\n",
       "  '1860',\n",
       "  'nach',\n",
       "  'Innsbruck',\n",
       "  'um',\n",
       "  'bei',\n",
       "  'Stolz',\n",
       "  'die',\n",
       "  'Bildschnitzerei',\n",
       "  'zu',\n",
       "  'erlernen'],\n",
       " ['Auf',\n",
       "  'dessen',\n",
       "  'Rat',\n",
       "  'wandte',\n",
       "  'er',\n",
       "  'sich',\n",
       "  'der',\n",
       "  'Malerei',\n",
       "  'zu',\n",
       "  'ging',\n",
       "  '1862',\n",
       "  'an',\n",
       "  'die',\n",
       "  'Akad'],\n",
       " ['in',\n",
       "  'München',\n",
       "  '1863',\n",
       "  '65',\n",
       "  'nach',\n",
       "  'Paris',\n",
       "  'dann',\n",
       "  'nach',\n",
       "  'Tirol',\n",
       "  'zurück',\n",
       "  '1867',\n",
       "  'wieder',\n",
       "  'nach',\n",
       "  'München',\n",
       "  'wo',\n",
       "  'er',\n",
       "  'in',\n",
       "  'das',\n",
       "  'Atelier',\n",
       "  'Pilotys',\n",
       "  'eintrat',\n",
       "  'der',\n",
       "  'den',\n",
       "  'entscheidenden',\n",
       "  'Einfluß',\n",
       "  'auf',\n",
       "  'ihn',\n",
       "  'ausübte'],\n",
       " ['1878', 'Prof'],\n",
       " ['an', 'der', 'Münchner', 'Akad'],\n",
       " ['1883', 'geadelt'],\n",
       " ['D'],\n",
       " ['bedeutend',\n",
       "  'als',\n",
       "  'Landschafts',\n",
       "  'und',\n",
       "  'Historienmaler',\n",
       "  'ist',\n",
       "  'außerdem',\n",
       "  'einer',\n",
       "  'der',\n",
       "  'charakteristischesten',\n",
       "  'und',\n",
       "  'letzten',\n",
       "  'Vertreter',\n",
       "  'der',\n",
       "  'naturalistisch',\n",
       "  'betonten',\n",
       "  'bäuerlichen',\n",
       "  'Genremalerei'],\n",
       " []]"
      ]
     },
     "execution_count": 18,
     "metadata": {},
     "output_type": "execute_result"
    }
   ],
   "source": [
    "tokens"
   ]
  },
  {
   "cell_type": "markdown",
   "metadata": {},
   "source": [
    "### Sentence splitting with nltk"
   ]
  },
  {
   "cell_type": "code",
   "execution_count": 19,
   "metadata": {
    "collapsed": true
   },
   "outputs": [],
   "source": [
    "import nltk"
   ]
  },
  {
   "cell_type": "code",
   "execution_count": 20,
   "metadata": {},
   "outputs": [
    {
     "name": "stdout",
     "output_type": "stream",
     "text": [
      "NLTK Downloader\n",
      "---------------------------------------------------------------------------\n",
      "    d) Download   l) List    u) Update   c) Config   h) Help   q) Quit\n",
      "---------------------------------------------------------------------------\n",
      "Downloader> q\n"
     ]
    },
    {
     "data": {
      "text/plain": [
       "True"
      ]
     },
     "execution_count": 20,
     "metadata": {},
     "output_type": "execute_result"
    }
   ],
   "source": [
    "nltk.download()"
   ]
  },
  {
   "cell_type": "code",
   "execution_count": 21,
   "metadata": {
    "collapsed": true
   },
   "outputs": [],
   "source": [
    "sent_detector = nltk.data.load('tokenizers/punkt/german.pickle')"
   ]
  },
  {
   "cell_type": "code",
   "execution_count": 22,
   "metadata": {},
   "outputs": [
    {
     "data": {
      "text/plain": [
       "['Sohn eines Bauern, zeigte früh Interesse für Schnitzen und Zeichnen, aber erst nach dem Tode des Vaters gab er den Hof auf und ging 1860 nach Innsbruck, um bei Stolz die Bildschnitzerei zu erlernen.',\n",
       " 'Auf dessen Rat wandte er sich der Malerei zu, ging 1862 an die Akad.',\n",
       " 'in München, 1863–65 nach Paris, dann nach Tirol zurück, 1867 wieder nach München, wo er in das Atelier Pilotys eintrat, der den entscheidenden Einfluß auf ihn ausübte.',\n",
       " '1878 Prof. an der Münchner Akad., 1883 geadelt.',\n",
       " 'D., bedeutend als Landschafts- und Historienmaler, ist außerdem einer der charakteristischesten und letzten Vertreter der naturalistisch betonten bäuerlichen Genremalerei.']"
      ]
     },
     "execution_count": 22,
     "metadata": {},
     "output_type": "execute_result"
    }
   ],
   "source": [
    "sentences_nltk = sent_detector.tokenize(haupttext)\n",
    "sentences_nltk"
   ]
  },
  {
   "cell_type": "markdown",
   "metadata": {},
   "source": [
    "#### As we can see this is far from perfect: You can train your own model!"
   ]
  },
  {
   "cell_type": "markdown",
   "metadata": {
    "collapsed": true
   },
   "source": [
    "### tokenizing with nltk"
   ]
  },
  {
   "cell_type": "code",
   "execution_count": 23,
   "metadata": {},
   "outputs": [
    {
     "data": {
      "text/plain": [
       "['Sohn',\n",
       " 'eines',\n",
       " 'Bauern',\n",
       " ',',\n",
       " 'zeigte',\n",
       " 'früh',\n",
       " 'Interesse',\n",
       " 'für',\n",
       " 'Schnitzen',\n",
       " 'und',\n",
       " 'Zeichnen',\n",
       " ',',\n",
       " 'aber',\n",
       " 'erst',\n",
       " 'nach',\n",
       " 'dem',\n",
       " 'Tode',\n",
       " 'des',\n",
       " 'Vaters',\n",
       " 'gab',\n",
       " 'er',\n",
       " 'den',\n",
       " 'Hof',\n",
       " 'auf',\n",
       " 'und',\n",
       " 'ging',\n",
       " '1860',\n",
       " 'nach',\n",
       " 'Innsbruck',\n",
       " ',',\n",
       " 'um',\n",
       " 'bei',\n",
       " 'Stolz',\n",
       " 'die',\n",
       " 'Bildschnitzerei',\n",
       " 'zu',\n",
       " 'erlernen',\n",
       " '.',\n",
       " 'Auf',\n",
       " 'dessen',\n",
       " 'Rat',\n",
       " 'wandte',\n",
       " 'er',\n",
       " 'sich',\n",
       " 'der',\n",
       " 'Malerei',\n",
       " 'zu',\n",
       " ',',\n",
       " 'ging',\n",
       " '1862',\n",
       " 'an',\n",
       " 'die',\n",
       " 'Akad',\n",
       " '.',\n",
       " 'in',\n",
       " 'München',\n",
       " ',',\n",
       " '1863–65',\n",
       " 'nach',\n",
       " 'Paris',\n",
       " ',',\n",
       " 'dann',\n",
       " 'nach',\n",
       " 'Tirol',\n",
       " 'zurück',\n",
       " ',',\n",
       " '1867',\n",
       " 'wieder',\n",
       " 'nach',\n",
       " 'München',\n",
       " ',',\n",
       " 'wo',\n",
       " 'er',\n",
       " 'in',\n",
       " 'das',\n",
       " 'Atelier',\n",
       " 'Pilotys',\n",
       " 'eintrat',\n",
       " ',',\n",
       " 'der',\n",
       " 'den',\n",
       " 'entscheidenden',\n",
       " 'Einfluß',\n",
       " 'auf',\n",
       " 'ihn',\n",
       " 'ausübte',\n",
       " '.',\n",
       " '1878',\n",
       " 'Prof.',\n",
       " 'an',\n",
       " 'der',\n",
       " 'Münchner',\n",
       " 'Akad.',\n",
       " ',',\n",
       " '1883',\n",
       " 'geadelt',\n",
       " '.',\n",
       " 'D.',\n",
       " ',',\n",
       " 'bedeutend',\n",
       " 'als',\n",
       " 'Landschafts-',\n",
       " 'und',\n",
       " 'Historienmaler',\n",
       " ',',\n",
       " 'ist',\n",
       " 'außerdem',\n",
       " 'einer',\n",
       " 'der',\n",
       " 'charakteristischesten',\n",
       " 'und',\n",
       " 'letzten',\n",
       " 'Vertreter',\n",
       " 'der',\n",
       " 'naturalistisch',\n",
       " 'betonten',\n",
       " 'bäuerlichen',\n",
       " 'Genremalerei',\n",
       " '.']"
      ]
     },
     "execution_count": 23,
     "metadata": {},
     "output_type": "execute_result"
    }
   ],
   "source": [
    "tokens_nltk = nltk.word_tokenize(haupttext)\n",
    "tokens_nltk"
   ]
  },
  {
   "cell_type": "markdown",
   "metadata": {},
   "source": [
    "### TreeTagger in Python\n",
    "Please note that TreeTagger is not included in the Vagrant Box due to licensing issues"
   ]
  },
  {
   "cell_type": "code",
   "execution_count": 24,
   "metadata": {
    "collapsed": true
   },
   "outputs": [],
   "source": [
    "from treetagger import TreeTagger"
   ]
  },
  {
   "cell_type": "code",
   "execution_count": 25,
   "metadata": {},
   "outputs": [],
   "source": [
    "tt = TreeTagger(language='german')"
   ]
  },
  {
   "cell_type": "code",
   "execution_count": 26,
   "metadata": {},
   "outputs": [
    {
     "data": {
      "text/plain": [
       "[['Sohn', 'NN', 'Sohn'],\n",
       " ['eines', 'ART', 'eine'],\n",
       " ['Bauern', 'NN', 'Bauer'],\n",
       " [',', '$,', ','],\n",
       " ['zeigte', 'VVFIN', 'zeigen'],\n",
       " ['früh', 'ADJD', 'früh'],\n",
       " ['Interesse', 'NN', 'Interesse'],\n",
       " ['für', 'APPR', 'für'],\n",
       " ['Schnitzen', 'NN', 'Schnitzen'],\n",
       " ['und', 'KON', 'und'],\n",
       " ['Zeichnen', 'NN', 'Zeichnen'],\n",
       " [',', '$,', ','],\n",
       " ['aber', 'KON', 'aber'],\n",
       " ['erst', 'ADV', 'erst'],\n",
       " ['nach', 'APPR', 'nach'],\n",
       " ['dem', 'ART', 'die'],\n",
       " ['Tode', 'NN', 'Tod'],\n",
       " ['des', 'ART', 'die'],\n",
       " ['Vaters', 'NN', 'Vater'],\n",
       " ['gab', 'VVFIN', 'geben'],\n",
       " ['er', 'PPER', 'er'],\n",
       " ['den', 'ART', 'die'],\n",
       " ['Hof', 'NN', 'Hof'],\n",
       " ['auf', 'PTKVZ', 'auf'],\n",
       " ['und', 'KON', 'und'],\n",
       " ['ging', 'VVFIN', 'gehen'],\n",
       " ['1860', 'CARD', '@card@'],\n",
       " ['nach', 'APPR', 'nach'],\n",
       " ['Innsbruck', 'NE', 'Innsbruck'],\n",
       " [',', '$,', ','],\n",
       " ['um', 'KOUI', 'um'],\n",
       " ['bei', 'APPR', 'bei'],\n",
       " ['Stolz', 'NN', 'Stolz'],\n",
       " ['die', 'ART', 'die'],\n",
       " ['Bildschnitzerei', 'NN', '<unknown>'],\n",
       " ['zu', 'PTKZU', 'zu'],\n",
       " ['erlernen', 'VVINF', 'erlernen'],\n",
       " ['.', '$.', '.'],\n",
       " ['Auf', 'APPR', 'auf'],\n",
       " ['dessen', 'PDAT', 'die'],\n",
       " ['Rat', 'NN', 'Rat'],\n",
       " ['wandte', 'VVFIN', 'wenden'],\n",
       " ['er', 'PPER', 'er'],\n",
       " ['sich', 'PRF', 'sich'],\n",
       " ['der', 'ART', 'die'],\n",
       " ['Malerei', 'NN', 'Malerei'],\n",
       " ['zu', 'PTKVZ', 'zu'],\n",
       " [',', '$,', ','],\n",
       " ['ging', 'VVFIN', 'gehen'],\n",
       " ['1862', 'CARD', '@card@'],\n",
       " ['an', 'APPR', 'an'],\n",
       " ['die', 'ART', 'die'],\n",
       " ['Akad.', 'NN', 'Akad.'],\n",
       " ['in', 'APPR', 'in'],\n",
       " ['München', 'NE', 'München'],\n",
       " [',', '$,', ','],\n",
       " ['1863–65', 'CARD', '<unknown>'],\n",
       " ['nach', 'APPR', 'nach'],\n",
       " ['Paris', 'NE', 'Paris'],\n",
       " [',', '$,', ','],\n",
       " ['dann', 'ADV', 'dann'],\n",
       " ['nach', 'APPR', 'nach'],\n",
       " ['Tirol', 'NE', 'Tirol'],\n",
       " ['zurück', 'PTKVZ', 'zurück'],\n",
       " [',', '$,', ','],\n",
       " ['1867', 'CARD', '@card@'],\n",
       " ['wieder', 'ADV', 'wieder'],\n",
       " ['nach', 'APPR', 'nach'],\n",
       " ['München', 'NE', 'München'],\n",
       " [',', '$,', ','],\n",
       " ['wo', 'PWAV', 'wo'],\n",
       " ['er', 'PPER', 'er'],\n",
       " ['in', 'APPR', 'in'],\n",
       " ['das', 'ART', 'die'],\n",
       " ['Atelier', 'NN', 'Atelier'],\n",
       " ['Pilotys', 'NN', '<unknown>'],\n",
       " ['eintrat', 'VVFIN', 'eintreten'],\n",
       " [',', '$,', ','],\n",
       " ['der', 'PRELS', 'die'],\n",
       " ['den', 'ART', 'die'],\n",
       " ['entscheidenden', 'ADJA', 'entscheidend'],\n",
       " ['Einfluß', 'NN', 'Einfluss'],\n",
       " ['auf', 'APPR', 'auf'],\n",
       " ['ihn', 'PPER', 'er'],\n",
       " ['ausübte', 'VVFIN', 'ausüben'],\n",
       " ['.', '$.', '.'],\n",
       " ['1878', 'CARD', '@card@'],\n",
       " ['Prof.', 'NN', 'Prof.'],\n",
       " ['an', 'APPR', 'an'],\n",
       " ['der', 'ART', 'die'],\n",
       " ['Münchner', 'ADJA', 'Münchner'],\n",
       " ['Akad.', 'NN', 'Akad.'],\n",
       " [',', '$,', ','],\n",
       " ['1883', 'CARD', '@card@'],\n",
       " ['geadelt', 'VVPP', 'adeln'],\n",
       " ['.', '$.', '.'],\n",
       " ['D.', 'NE', 'D.'],\n",
       " [',', '$,', ','],\n",
       " ['bedeutend', 'ADJD', 'bedeutend'],\n",
       " ['als', 'KOKOM', 'als'],\n",
       " ['Landschafts-', 'TRUNC', 'Landschafts-'],\n",
       " ['und', 'KON', 'und'],\n",
       " ['Historienmaler', 'NN', 'Historienmaler'],\n",
       " [',', '$,', ','],\n",
       " ['ist', 'VAFIN', 'sein'],\n",
       " ['außerdem', 'ADV', 'außerdem'],\n",
       " ['einer', 'PIS', 'eine'],\n",
       " ['der', 'ART', 'die'],\n",
       " ['charakteristischesten', 'ADJA', '<unknown>'],\n",
       " ['und', 'KON', 'und'],\n",
       " ['letzten', 'ADJA', 'letzt'],\n",
       " ['Vertreter', 'NN', 'Vertreter'],\n",
       " ['der', 'ART', 'die'],\n",
       " ['naturalistisch', 'ADJD', 'naturalistisch'],\n",
       " ['betonten', 'ADJA', 'betont'],\n",
       " ['bäuerlichen', 'ADJA', 'bäuerlich'],\n",
       " ['Genremalerei', 'NN', 'Genremalerei'],\n",
       " ['.', '$.', '.']]"
      ]
     },
     "execution_count": 26,
     "metadata": {},
     "output_type": "execute_result"
    }
   ],
   "source": [
    "tt.tag(haupttext)"
   ]
  },
  {
   "cell_type": "markdown",
   "metadata": {},
   "source": [
    "### Spacy\n",
    "Spacy is published under a MIT license and brings German and English models out of the box!"
   ]
  },
  {
   "cell_type": "code",
   "execution_count": 27,
   "metadata": {
    "collapsed": true
   },
   "outputs": [],
   "source": [
    "import spacy"
   ]
  },
  {
   "cell_type": "code",
   "execution_count": 28,
   "metadata": {
    "collapsed": true
   },
   "outputs": [],
   "source": [
    "nlp = spacy.load('de')"
   ]
  },
  {
   "cell_type": "code",
   "execution_count": 31,
   "metadata": {},
   "outputs": [],
   "source": [
    "de_doc = nlp(str(haupttext))"
   ]
  },
  {
   "cell_type": "markdown",
   "metadata": {},
   "source": [
    "#### sentence splitting"
   ]
  },
  {
   "cell_type": "code",
   "execution_count": 33,
   "metadata": {},
   "outputs": [
    {
     "name": "stdout",
     "output_type": "stream",
     "text": [
      "sentence 0: Sohn eines Bauern, zeigte früh Interesse für Schnitzen und Zeichnen, aber erst nach dem Tode des Vaters gab er den Hof auf und ging 1860 nach Innsbruck, um bei Stolz die Bildschnitzerei zu erlernen.\n",
      "sentence 1: Auf dessen Rat wandte er sich der Malerei zu, ging 1862 an die Akad.\n",
      "sentence 2: in München, 1863–65 nach Paris, dann nach Tirol zurück, 1867 wieder nach München, wo er in das Atelier Pilotys eintrat, der den entscheidenden Einfluß auf ihn ausübte.\n",
      "sentence 3: 1878 Prof. an der Münchner Akad.\n",
      "sentence 4: , 1883 geadelt.\n",
      "sentence 5: D., bedeutend als Landschafts- und Historienmaler, ist außerdem einer der charakteristischesten und letzten Vertreter der naturalistisch betonten bäuerlichen Genremalerei.\n",
      "\n"
     ]
    }
   ],
   "source": [
    "for indx, sent in enumerate(de_doc.sents):\n",
    "    print('sentence {}: {}'.format(indx, sent))"
   ]
  },
  {
   "cell_type": "markdown",
   "metadata": {},
   "source": [
    "#### Tokens"
   ]
  },
  {
   "cell_type": "code",
   "execution_count": 41,
   "metadata": {},
   "outputs": [
    {
     "name": "stdout",
     "output_type": "stream",
     "text": [
      "Sohn sohn NN NOUN\n",
      "eines eines ART DET\n",
      "Bauern bauern NN NOUN\n",
      ", , $, PUNCT\n",
      "zeigte zeigte VVFIN VERB\n",
      "früh früh ADJD ADJ\n",
      "Interesse interesse NN NOUN\n",
      "für für APPR ADP\n",
      "Schnitzen schnitzen NN NOUN\n",
      "und und KON CONJ\n",
      "Zeichnen zeichnen NN NOUN\n",
      ", , $, PUNCT\n",
      "aber aber KON CONJ\n",
      "erst erst ADV ADV\n",
      "nach nach APPR ADP\n",
      "dem dem ART DET\n",
      "Tode tode NN NOUN\n",
      "des des ART DET\n",
      "Vaters vaters NN NOUN\n",
      "gab gab VVFIN VERB\n",
      "er er PPER PRON\n",
      "den den ART DET\n",
      "Hof hof NN NOUN\n",
      "auf auf PTKVZ PART\n",
      "und und KON CONJ\n",
      "ging ging VVFIN VERB\n",
      "1860 1860 CARD NUM\n",
      "nach nach APPR ADP\n",
      "Innsbruck innsbruck NE PROPN\n",
      ", , $, PUNCT\n",
      "um um KOUI SCONJ\n",
      "bei bei APPR ADP\n",
      "Stolz stolz NN NOUN\n",
      "die die ART DET\n",
      "Bildschnitzerei bildschnitzerei NN NOUN\n",
      "zu zu PTKZU PART\n",
      "erlernen erlernen VVINF VERB\n",
      ". . $. PUNCT\n",
      "Auf auf APPR ADP\n",
      "dessen dessen PDS PRON\n",
      "Rat rat NN NOUN\n",
      "wandte wandte VVFIN VERB\n",
      "er er PPER PRON\n",
      "sich sich PRF PRON\n",
      "der der ART DET\n",
      "Malerei malerei NN NOUN\n",
      "zu zu PTKVZ PART\n",
      ", , $, PUNCT\n",
      "ging ging VVFIN VERB\n",
      "1862 1862 CARD NUM\n",
      "an an APPR ADP\n",
      "die die ART DET\n",
      "Akad akad NN NOUN\n",
      ". . $. PUNCT\n",
      "in in APPR ADP\n",
      "München münchen NE PROPN\n",
      ", , $, PUNCT\n",
      "1863–65 1863–65 NN NOUN\n",
      "nach nach APPR ADP\n",
      "Paris paris NE PROPN\n",
      ", , $, PUNCT\n",
      "dann dann ADV ADV\n",
      "nach nach APPR ADP\n",
      "Tirol tirol NE PROPN\n",
      "zurück zurück PTKVZ PART\n",
      ", , $, PUNCT\n",
      "1867 1867 CARD NUM\n",
      "wieder wieder ADV ADV\n",
      "nach nach APPR ADP\n",
      "München münchen NE PROPN\n",
      ", , $, PUNCT\n",
      "wo wo PWAV ADV\n",
      "er er PPER PRON\n",
      "in in APPR ADP\n",
      "das das ART DET\n",
      "Atelier atelier NN NOUN\n",
      "Pilotys pilotys NE PROPN\n",
      "eintrat eintrat VVFIN VERB\n",
      ", , $, PUNCT\n",
      "der der PRELS PRON\n",
      "den den ART DET\n",
      "entscheidenden entscheidenden ADJA ADJ\n",
      "Einfluß einfluß NN NOUN\n",
      "auf auf APPR ADP\n",
      "ihn ihn PPER PRON\n",
      "ausübte ausübte VVFIN VERB\n",
      ". . $. PUNCT\n",
      "1878 1878 CARD NUM\n",
      "Prof. prof. NN NOUN\n",
      "an an APPR ADP\n",
      "der der ART DET\n",
      "Münchner münchner ADJA ADJ\n",
      "Akad akad NN NOUN\n",
      ". . $. PUNCT\n",
      ", , $, PUNCT\n",
      "1883 1883 CARD NUM\n",
      "geadelt geadelt VVPP VERB\n",
      ". . $. PUNCT\n",
      "D. d. NE PROPN\n",
      ", , $, PUNCT\n",
      "bedeutend bedeutend ADJD ADJ\n",
      "als als APPR ADP\n",
      "Landschafts- landschafts- TRUNC X\n",
      "und und KON CONJ\n",
      "Historienmaler historienmaler NN NOUN\n",
      ", , $, PUNCT\n",
      "ist ist VAFIN AUX\n",
      "außerdem außerdem PROAV ADV\n",
      "einer einer PIS PRON\n",
      "der der ART DET\n",
      "charakteristischesten charakteristischesten ADJA ADJ\n",
      "und und KON CONJ\n",
      "letzten letzten ADJA ADJ\n",
      "Vertreter vertreter NN NOUN\n",
      "der der ART DET\n",
      "naturalistisch naturalistisch ADJD ADJ\n",
      "betonten betonten ADJA ADJ\n",
      "bäuerlichen bäuerlichen ADJA ADJ\n",
      "Genremalerei genremalerei NN NOUN\n",
      ". . $. PUNCT\n",
      "\n",
      " \n",
      " SP SPACE\n"
     ]
    }
   ],
   "source": [
    "for word in de_doc:\n",
    "    print(word.text, word.lemma_, word.tag_, word.pos_)"
   ]
  },
  {
   "cell_type": "markdown",
   "metadata": {},
   "source": [
    "#### Named Entities"
   ]
  },
  {
   "cell_type": "code",
   "execution_count": 37,
   "metadata": {},
   "outputs": [
    {
     "name": "stdout",
     "output_type": "stream",
     "text": [
      "type: LOC; entity: Innsbruck\n",
      "type: LOC; entity: München\n",
      "type: LOC; entity: Paris\n",
      "type: LOC; entity: Tirol \n",
      "type: LOC; entity: München\n",
      "type: LOC; entity: Münchner \n",
      "type: LOC; entity: bäuerlichen \n"
     ]
    }
   ],
   "source": [
    "for ent in de_doc.ents:\n",
    "    print('type: {}; entity: {}'.format(ent.label_, ent.string))"
   ]
  },
  {
   "cell_type": "markdown",
   "metadata": {},
   "source": [
    "### Using Stanbol for entity linking\n",
    "Stanbol is an open-source system for NLP, we use it mainly as a entity hub. Find more information under http://enrich.acdh.oeaw.ac.at"
   ]
  },
  {
   "cell_type": "code",
   "execution_count": 42,
   "metadata": {
    "collapsed": true
   },
   "outputs": [],
   "source": [
    "import requests"
   ]
  },
  {
   "cell_type": "code",
   "execution_count": 43,
   "metadata": {
    "collapsed": true
   },
   "outputs": [],
   "source": [
    "url = 'http://enrich.acdh.oeaw.ac.at/entityhub/site/geoNames_S_P_A/find'"
   ]
  },
  {
   "cell_type": "code",
   "execution_count": 44,
   "metadata": {
    "collapsed": true
   },
   "outputs": [],
   "source": [
    "ldpath = \"long = <http://www.w3.org/2003/01/geo/wgs84_pos#long>;\\n\"\n",
    "ldpath += \"lat = <http://www.w3.org/2003/01/geo/wgs84_pos#lat>;\\n\"\n",
    "ldpath += \"featureCode = <http://www.geonames.org/ontology#featureCode>;\""
   ]
  },
  {
   "cell_type": "code",
   "execution_count": 51,
   "metadata": {
    "collapsed": true
   },
   "outputs": [],
   "source": [
    "params = {'name': 'Wien', 'limit': 20, 'ldpath': ldpath}\n",
    "headers = {'Content-Type': 'application/json'}"
   ]
  },
  {
   "cell_type": "code",
   "execution_count": 52,
   "metadata": {
    "collapsed": true
   },
   "outputs": [],
   "source": [
    "res = requests.get(url, params=params, headers=headers)"
   ]
  },
  {
   "cell_type": "code",
   "execution_count": 53,
   "metadata": {},
   "outputs": [
    {
     "data": {
      "text/plain": [
       "<Response [200]>"
      ]
     },
     "execution_count": 53,
     "metadata": {},
     "output_type": "execute_result"
    }
   ],
   "source": [
    "res"
   ]
  },
  {
   "cell_type": "code",
   "execution_count": 54,
   "metadata": {},
   "outputs": [
    {
     "data": {
      "text/plain": [
       "{'query': {'constraints': [{'boost': 1,\n",
       "    'field': 'http://www.w3.org/2000/01/rdf-schema#label',\n",
       "    'patternType': 'wildcard',\n",
       "    'proximityRanking': False,\n",
       "    'text': 'Wien',\n",
       "    'type': 'text'}],\n",
       "  'ldpath': 'long = <http://www.w3.org/2003/01/geo/wgs84_pos#long>;\\nlat = <http://www.w3.org/2003/01/geo/wgs84_pos#lat>;\\nfeatureCode = <http://www.geonames.org/ontology#featureCode>;',\n",
       "  'limit': 20,\n",
       "  'offset': 0,\n",
       "  'selected': []},\n",
       " 'results': [{'featureCode': [{'type': 'reference',\n",
       "     'value': 'http://www.geonames.org/ontology#P.PPLA3',\n",
       "     'xsd:datatype': 'xsd:anyURI'}],\n",
       "   'http://stanbol.apache.org/ontology/entityhub/query#score': [{'type': 'value',\n",
       "     'value': 69.67534,\n",
       "     'xsd:datatype': 'xsd:double'}],\n",
       "   'id': 'http://sws.geonames.org/2782067/',\n",
       "   'lat': [{'type': 'text', 'value': '48.00543'}],\n",
       "   'long': [{'type': 'text', 'value': '16.23264'}]},\n",
       "  {'featureCode': [{'type': 'reference',\n",
       "     'value': 'http://www.geonames.org/ontology#P.PPLC',\n",
       "     'xsd:datatype': 'xsd:anyURI'}],\n",
       "   'http://stanbol.apache.org/ontology/entityhub/query#score': [{'type': 'value',\n",
       "     'value': 68.41983,\n",
       "     'xsd:datatype': 'xsd:double'}],\n",
       "   'id': 'http://sws.geonames.org/2761369/',\n",
       "   'lat': [{'type': 'text', 'value': '48.20849'}],\n",
       "   'long': [{'type': 'text', 'value': '16.37208'}]},\n",
       "  {'featureCode': [{'type': 'reference',\n",
       "     'value': 'http://www.geonames.org/ontology#A.ADM1',\n",
       "     'xsd:datatype': 'xsd:anyURI'}],\n",
       "   'http://stanbol.apache.org/ontology/entityhub/query#score': [{'type': 'value',\n",
       "     'value': 55.864555,\n",
       "     'xsd:datatype': 'xsd:double'}],\n",
       "   'id': 'http://sws.geonames.org/2761367/',\n",
       "   'lat': [{'type': 'text', 'value': '48.2082'}],\n",
       "   'long': [{'type': 'text', 'value': '16.37169'}]},\n",
       "  {'featureCode': [{'type': 'reference',\n",
       "     'value': 'http://www.geonames.org/ontology#A.ADM2',\n",
       "     'xsd:datatype': 'xsd:anyURI'}],\n",
       "   'http://stanbol.apache.org/ontology/entityhub/query#score': [{'type': 'value',\n",
       "     'value': 46.5538,\n",
       "     'xsd:datatype': 'xsd:double'}],\n",
       "   'id': 'http://sws.geonames.org/2761333/',\n",
       "   'lat': [{'type': 'text', 'value': '48.2066'}],\n",
       "   'long': [{'type': 'text', 'value': '16.37341'}]},\n",
       "  {'featureCode': [{'type': 'reference',\n",
       "     'value': 'http://www.geonames.org/ontology#P.PPL',\n",
       "     'xsd:datatype': 'xsd:anyURI'}],\n",
       "   'http://stanbol.apache.org/ontology/entityhub/query#score': [{'type': 'value',\n",
       "     'value': 39.502205,\n",
       "     'xsd:datatype': 'xsd:double'}],\n",
       "   'id': 'http://sws.geonames.org/5278997/',\n",
       "   'lat': [{'type': 'text', 'value': '44.90191'}],\n",
       "   'long': [{'type': 'text', 'value': '-90.02458'}]},\n",
       "  {'featureCode': [{'type': 'reference',\n",
       "     'value': 'http://www.geonames.org/ontology#P.PPL',\n",
       "     'xsd:datatype': 'xsd:anyURI'}],\n",
       "   'http://stanbol.apache.org/ontology/entityhub/query#score': [{'type': 'value',\n",
       "     'value': 39.502205,\n",
       "     'xsd:datatype': 'xsd:double'}],\n",
       "   'id': 'http://sws.geonames.org/4414672/',\n",
       "   'lat': [{'type': 'text', 'value': '39.66086'}],\n",
       "   'long': [{'type': 'text', 'value': '-92.78436'}]},\n",
       "  {'featureCode': [{'type': 'reference',\n",
       "     'value': 'http://www.geonames.org/ontology#A.ADM2',\n",
       "     'xsd:datatype': 'xsd:anyURI'}],\n",
       "   'http://stanbol.apache.org/ontology/entityhub/query#score': [{'type': 'value',\n",
       "     'value': 34.209915,\n",
       "     'xsd:datatype': 'xsd:double'}],\n",
       "   'id': 'http://sws.geonames.org/2761332/',\n",
       "   'lat': [{'type': 'text', 'value': '48.23824'}],\n",
       "   'long': [{'type': 'text', 'value': '16.16489'}]},\n",
       "  {'featureCode': [{'type': 'reference',\n",
       "     'value': 'http://www.geonames.org/ontology#P.PPLC',\n",
       "     'xsd:datatype': 'xsd:anyURI'}],\n",
       "   'http://stanbol.apache.org/ontology/entityhub/query#score': [{'type': 'value',\n",
       "     'value': 32.918507,\n",
       "     'xsd:datatype': 'xsd:double'}],\n",
       "   'id': 'http://sws.geonames.org/1651944/',\n",
       "   'lat': [{'type': 'text', 'value': '17.96667'}],\n",
       "   'long': [{'type': 'text', 'value': '102.6'}]},\n",
       "  {'featureCode': [{'type': 'reference',\n",
       "     'value': 'http://www.geonames.org/ontology#S.UNIV',\n",
       "     'xsd:datatype': 'xsd:anyURI'}],\n",
       "   'http://stanbol.apache.org/ontology/entityhub/query#score': [{'type': 'value',\n",
       "     'value': 27.932278,\n",
       "     'xsd:datatype': 'xsd:double'}],\n",
       "   'id': 'http://sws.geonames.org/6944029/',\n",
       "   'lat': [{'type': 'text', 'value': '48.199'}],\n",
       "   'long': [{'type': 'text', 'value': '16.3698'}]},\n",
       "  {'featureCode': [{'type': 'reference',\n",
       "     'value': 'http://www.geonames.org/ontology#S.UNIV',\n",
       "     'xsd:datatype': 'xsd:anyURI'}],\n",
       "   'http://stanbol.apache.org/ontology/entityhub/query#score': [{'type': 'value',\n",
       "     'value': 26.334805,\n",
       "     'xsd:datatype': 'xsd:double'}],\n",
       "   'id': 'http://sws.geonames.org/6354993/',\n",
       "   'lat': [{'type': 'text', 'value': '48.21303'}],\n",
       "   'long': [{'type': 'text', 'value': '16.35993'}]},\n",
       "  {'featureCode': [{'type': 'reference',\n",
       "     'value': 'http://www.geonames.org/ontology#A.ADM3',\n",
       "     'xsd:datatype': 'xsd:anyURI'}],\n",
       "   'http://stanbol.apache.org/ontology/entityhub/query#score': [{'type': 'value',\n",
       "     'value': 26.334805,\n",
       "     'xsd:datatype': 'xsd:double'}],\n",
       "   'id': 'http://sws.geonames.org/2781464/',\n",
       "   'lat': [{'type': 'text', 'value': '48.13858'}],\n",
       "   'long': [{'type': 'text', 'value': '16.15718'}]},\n",
       "  {'featureCode': [{'type': 'reference',\n",
       "     'value': 'http://www.geonames.org/ontology#P.PPL',\n",
       "     'xsd:datatype': 'xsd:anyURI'}],\n",
       "   'http://stanbol.apache.org/ontology/entityhub/query#score': [{'type': 'value',\n",
       "     'value': 26.334805,\n",
       "     'xsd:datatype': 'xsd:double'}],\n",
       "   'id': 'http://sws.geonames.org/2764000/',\n",
       "   'lat': [{'type': 'text', 'value': '48.10038'}],\n",
       "   'long': [{'type': 'text', 'value': '16.13746'}]},\n",
       "  {'featureCode': [{'type': 'reference',\n",
       "     'value': 'http://www.geonames.org/ontology#P.PPL',\n",
       "     'xsd:datatype': 'xsd:anyURI'}],\n",
       "   'http://stanbol.apache.org/ontology/entityhub/query#score': [{'type': 'value',\n",
       "     'value': 26.334805,\n",
       "     'xsd:datatype': 'xsd:double'}],\n",
       "   'id': 'http://sws.geonames.org/2767966/',\n",
       "   'lat': [{'type': 'text', 'value': '48.12772'}],\n",
       "   'long': [{'type': 'text', 'value': '16.46379'}]},\n",
       "  {'featureCode': [{'type': 'reference',\n",
       "     'value': 'http://www.geonames.org/ontology#P.PPL',\n",
       "     'xsd:datatype': 'xsd:anyURI'}],\n",
       "   'http://stanbol.apache.org/ontology/entityhub/query#score': [{'type': 'value',\n",
       "     'value': 26.334805,\n",
       "     'xsd:datatype': 'xsd:double'}],\n",
       "   'id': 'http://sws.geonames.org/2773976/',\n",
       "   'lat': [{'type': 'text', 'value': '48.36138'}],\n",
       "   'long': [{'type': 'text', 'value': '15.6078'}]},\n",
       "  {'featureCode': [{'type': 'reference',\n",
       "     'value': 'http://www.geonames.org/ontology#P.PPLA3',\n",
       "     'xsd:datatype': 'xsd:anyURI'}],\n",
       "   'http://stanbol.apache.org/ontology/entityhub/query#score': [{'type': 'value',\n",
       "     'value': 26.334805,\n",
       "     'xsd:datatype': 'xsd:double'}],\n",
       "   'id': 'http://sws.geonames.org/2781463/',\n",
       "   'lat': [{'type': 'text', 'value': '48.13333'}],\n",
       "   'long': [{'type': 'text', 'value': '16.15'}]},\n",
       "  {'featureCode': [{'type': 'reference',\n",
       "     'value': 'http://www.geonames.org/ontology#A.ADM3',\n",
       "     'xsd:datatype': 'xsd:anyURI'}],\n",
       "   'http://stanbol.apache.org/ontology/entityhub/query#score': [{'type': 'value',\n",
       "     'value': 19.751102,\n",
       "     'xsd:datatype': 'xsd:double'}],\n",
       "   'id': 'http://sws.geonames.org/7871946/',\n",
       "   'lat': [{'type': 'text', 'value': '48.31428'}],\n",
       "   'long': [{'type': 'text', 'value': '16.47557'}]},\n",
       "  {'featureCode': [{'type': 'reference',\n",
       "     'value': 'http://www.geonames.org/ontology#P.PPLA3',\n",
       "     'xsd:datatype': 'xsd:anyURI'}],\n",
       "   'http://stanbol.apache.org/ontology/entityhub/query#score': [{'type': 'value',\n",
       "     'value': 19.751102,\n",
       "     'xsd:datatype': 'xsd:double'}],\n",
       "   'id': 'http://sws.geonames.org/2778690/',\n",
       "   'lat': [{'type': 'text', 'value': '48.29447'}],\n",
       "   'long': [{'type': 'text', 'value': '16.46765'}]},\n",
       "  {'featureCode': [{'type': 'reference',\n",
       "     'value': 'http://www.geonames.org/ontology#A.ADMD',\n",
       "     'xsd:datatype': 'xsd:anyURI'}],\n",
       "   'http://stanbol.apache.org/ontology/entityhub/query#score': [{'type': 'value',\n",
       "     'value': 19.751102,\n",
       "     'xsd:datatype': 'xsd:double'}],\n",
       "   'id': 'http://sws.geonames.org/5278998/',\n",
       "   'lat': [{'type': 'text', 'value': '44.90203'}],\n",
       "   'long': [{'type': 'text', 'value': '-90.0229'}]}]}"
      ]
     },
     "execution_count": 54,
     "metadata": {},
     "output_type": "execute_result"
    }
   ],
   "source": [
    "res.json()"
   ]
  },
  {
   "cell_type": "markdown",
   "metadata": {},
   "source": [
    "#### same for the already extracted entities"
   ]
  },
  {
   "cell_type": "code",
   "execution_count": 55,
   "metadata": {},
   "outputs": [
    {
     "name": "stdout",
     "output_type": "stream",
     "text": [
      "1860,Innsbruck,http://sws.geonames.org/2775220/\n",
      "1862,Paris,http://sws.geonames.org/2988507/\n",
      "1867,München,http://sws.geonames.org/2867714/\n"
     ]
    }
   ],
   "source": [
    "for ent in year_place[1:]:\n",
    "    params['name'] = ent[1]\n",
    "    res = requests.get(url, params=params, headers=headers)\n",
    "    result = res.json()\n",
    "    print('{},{},{}'.format(ent[0], ent[1], result['results'][0]['id']))"
   ]
  },
  {
   "cell_type": "code",
   "execution_count": null,
   "metadata": {
    "collapsed": true
   },
   "outputs": [],
   "source": []
  }
 ],
 "metadata": {
  "kernelspec": {
   "display_name": "Python 3",
   "language": "python",
   "name": "python3"
  },
  "language_info": {
   "codemirror_mode": {
    "name": "ipython",
    "version": 3
   },
   "file_extension": ".py",
   "mimetype": "text/x-python",
   "name": "python",
   "nbconvert_exporter": "python",
   "pygments_lexer": "ipython3",
   "version": "3.4.3"
  }
 },
 "nbformat": 4,
 "nbformat_minor": 2
}
