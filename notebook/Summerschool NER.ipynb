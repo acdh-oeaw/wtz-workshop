{
 "cells": [
  {
   "cell_type": "code",
   "execution_count": 1,
   "metadata": {},
   "outputs": [],
   "source": [
    "import spacy"
   ]
  },
  {
   "cell_type": "markdown",
   "metadata": {},
   "source": [
    "*Load the language model*"
   ]
  },
  {
   "cell_type": "code",
   "execution_count": 2,
   "metadata": {},
   "outputs": [],
   "source": [
    "nlp = spacy.load('de')"
   ]
  },
  {
   "cell_type": "markdown",
   "metadata": {},
   "source": [
    "### load a text\n",
    "*import the requests library*"
   ]
  },
  {
   "cell_type": "code",
   "execution_count": 3,
   "metadata": {},
   "outputs": [],
   "source": [
    "import requests"
   ]
  },
  {
   "cell_type": "markdown",
   "metadata": {},
   "source": [
    "*load a derstandard article with a get request*"
   ]
  },
  {
   "cell_type": "code",
   "execution_count": 4,
   "metadata": {},
   "outputs": [],
   "source": [
    "article = requests.get('http://derstandard.at/2000064258034/Vier-Jahre-Schwarz-Rot-in-Deutschland-Die-groesste-Aufgabe-stand')"
   ]
  },
  {
   "cell_type": "code",
   "execution_count": 5,
   "metadata": {},
   "outputs": [
    {
     "data": {
      "text/plain": [
       "'<!DOCTYPE html PUBLIC \"-//W3C//DTD HTML 4.01 Transitional//EN\" \"http://www.w3.org/TR/html4/loose.dtd\"><html xmlns:fb=\"http://www.facebook.com/2008/fbml\" xmlns:og=\"http://opengraphprotocol.org/schema/\"><head><META http-equiv=\"Content-Type\" content=\"text/html; charset=utf-8\"><meta property=\"fb:pages\" content=\"122737471962,805265769646722,111038215602766,117367668346158,140319642625,178293428957930\"><meta name=\"Author\" content=\"STANDARD Verlagsgesellschaft m.b.H.\"><meta name=\"viewport\" content=\"width=975\"><link rel=\"canonical\" href=\"http://derstandard.at/2000064258034/Vier-Jahre-Schwarz-Rot-in-Deutschland-Die-groesste-Aufgabe-stand\"><link rel=\"alternate\" hreflang=\"de-AT\" href=\"http://derstandard.at/2000064258034/Vier-Jahre-Schwarz-Rot-in-Deutschland-Die-groesste-Aufgabe-stand\"><link rel=\"alternate\" hreflang=\"de-DE\" href=\"https://www.derstandard.de/story/2000064258034/Vier-Jahre-Schwarz-Rot-in-Deutschland-Die-groesste-Aufgabe-stand\"><link rel=\"amphtml\" href=\"http://mobil.derstandard.at/2000064258034/Vier-Jahre-Schwarz-Rot-in-Deutschland-Die-groesste-Aufgabe-stand?amplified=true\"><meta name=\"title\" content=\"Vier Jahre Schwarz-Rot in Deutschland: Die größte Aufgabe stand nicht im Koalitionsplan\"><meta property=\"og:title\" content=\"Vier Jahre Schwarz-Rot in Deutschland: Die größte Aufgabe stand nicht im Koalitionsplan\"><meta name=\"twitter:title\" content=\"Vier Jahre Schwarz-Rot in Deutschland: Die größte Aufgabe stand nicht im Koalitionsplan\"><meta name=\"description\" content=\"Die große Koalition arbeitete zunächst einiges aus dem Koalitionsvertrag zügig ab. Auf die vielen Flüchtlinge war sie jedoch nicht vorbereitet\"><meta property=\"og:description\" content=\"Die große Koalition arbeitete zunächst einiges aus dem Koalitionsvertrag zügig ab. Auf die vielen Flüchtlinge war sie jedoch nicht vorbereitet\"><meta name=\"twitter:description\" content=\"Die große Koalition arbeitete zunächst einiges aus dem Koalitionsvertrag zügig ab. Auf die vielen Flüchtlinge war sie jedoch nicht vorbereitet\"><meta name=\"medium\" content=\"news\"><meta property=\"og:type\" content=\"article\"><meta name=\"twitter:site\" content=\"@derStandardat\"><meta property=\"og:image\" content=\"http://images.derstandard.at/2017/09/18/APO--EPAPETER-KNEFFEL.jpg\"><meta property=\"og:image:width\" content=\"1576\"><meta property=\"og:image:height\" content=\"800\"><meta name=\"twitter:image\" content=\"http://images.derstandard.at/2017/09/18/APO--EPAPETER-KNEFFEL.jpg\"><meta name=\"twitter:card\" content=\"summary\"><meta property=\"og:site_name\" content=\"derStandard.at\"><meta property=\"og:url\" content=\"http://derstandard.at/2000064258034/Vier-Jahre-Schwarz-Rot-in-Deutschland-Die-groesste-Aufgabe-stand\"><meta name=\"twitter:url\" content=\"http://derstandard.at/2000064258034/Vier-Jahre-Schwarz-Rot-in-Deutschland-Die-groesste-Aufgabe-stand\"><meta property=\"al:ios:url\" content=\"iStandard://2000064258034/Vier-Jahre-Schwarz-Rot-in-Deutschland-Die-groesste-Aufgabe-stand\"><meta property=\"al:ios:app_store_id\" content=\"376832518\"><meta property=\"al:ios:app_name\" content=\"iStandard\"><link rel=\"alternate\" href=\"android-app://derstandard.at.istandardx/http/derstandard.at/2000064258034/Vier-Jahre-Schwarz-Rot-in-Deutschland-Die-groesste-Aufgabe-stand\"><title>Vier Jahre Schwarz-Rot in Deutschland: Die größte Aufgabe stand nicht im Koalitionsplan - Wahlen in Deutschland - derStandard.at › International</title><link sizes=\"16x16\" rel=\"icon\" type=\"image/png\" href=\"//at.staticfiles.at/sites/mainweb/img/icons/dst/dst-16.png\"><link sizes=\"32x32\" rel=\"icon\" type=\"image/png\" href=\"//at.staticfiles.at/sites/mainweb/img/icons/dst/dst-32.png\"><link sizes=\"96x96\" rel=\"icon\" type=\"image/png\" href=\"//at.staticfiles.at/sites/mainweb/img/icons/dst/dst-96.png\"><link sizes=\"128x128\" rel=\"icon\" href=\"//at.staticfiles.at/sites/mainweb/img/icons/dst/dst-128.png\"><link sizes=\"192x192\" rel=\"icon\" href=\"//at.staticfiles.at/sites/mainweb/img/icons/dst/dst-192.png\"><link sizes=\"228x228\" rel=\"icon\" href=\"//at.staticfiles.at/sites/mainweb/img/icons/dst/dst-228.png\"><link rel=\"apple-touch-icon\" href=\"//at.staticfiles.at/sites/mainweb/img/icons/dst/dst-60@2x.png\"><link sizes=\"180x180\" rel=\"apple-touch-icon\" href=\"//at.staticfiles.at/sites/mainweb/img/icons/dst/dst-60@3x.png\"><link sizes=\"167x167\" rel=\"apple-touch-icon\" href=\"//at.staticfiles.at/sites/mainweb/img/icons/dst/dst-167.png\"><link sizes=\"152x152\" rel=\"apple-touch-icon\" href=\"//at.staticfiles.at/sites/mainweb/img/icons/dst/dst-76@2x.png\"><link sizes=\"16x16\" rel=\"icon\" href=\"//at.staticfiles.at/sites/mainweb/img/icons/dst/dst-16.ico\"><link rel=\"alternate\" media=\"only screen and (max-width: 640px)\" href=\"http://mobil.derstandard.at/2000064258034/Vier-Jahre-Schwarz-Rot-in-Deutschland-Die-groesste-Aufgabe-stand\"><link rel=\"alternate\" type=\"application/rss+xml\" title=\"derStandard.at\" href=\"/?page=rss&amp;ressort=Seite1\"><link rel=\"alternate\" type=\"application/rss+xml\" title=\"derStandard.at/International\" href=\"/?page=rss&amp;ressort=International\"><link rel=\"alternate\" type=\"application/rss+xml\" title=\"derStandard.at/Europa\" href=\"/?page=rss&amp;ressort=Europa\"><link rel=\"manifest\" href=\"/js/manifest.json\"><link rel=\"stylesheet\" type=\"text/css\" href=\"//at.staticfiles.at/sites/mainweb/css/desktop/general.css?v=498\"><link rel=\"stylesheet\" type=\"text/css\" href=\"//at.staticfiles.at/sites/mainweb/css/desktop/dialog.css?v=498\"><link rel=\"stylesheet\" type=\"text/css\" href=\"//at.staticfiles.at/sites/mainweb/css/bundles/components-bundle.min.css?v=498\"><link rel=\"stylesheet\" type=\"text/css\" media=\"screen and (min-device-height: 700px)\" href=\"//at.staticfiles.at/sites/mainweb/css/desktop/fixed-ui.css?v=498\"><link rel=\"stylesheet\" type=\"text/css\" media=\"print\" href=\"//at.staticfiles.at/sites/mainweb/css/print.css?v=498\"><link rel=\"stylesheet\" type=\"text/css\" href=\"//at.staticfiles.at/sites/mainweb/css/themes/themes_bundle.css?v=498\"><!--/css/themes/theme_international.css--><link rel=\"stylesheet\" type=\"text/css\" href=\"//at.staticfiles.at/sites/mainweb/css/themes/theme_international.css?v=498\"><link rel=\"stylesheet\" type=\"text/css\" href=\"//at.staticfiles.at/sites/mainweb/css/desktop/objects.css?v=498\"><link rel=\"stylesheet\" type=\"text/css\" href=\"//at.staticfiles.at/sites/mainweb/css/desktop/lightbox.css?v=498\"><link rel=\"stylesheet\" type=\"text/css\" href=\"//at.staticfiles.at/sites/mainweb/css/desktop/article.css?v=498\"><link rel=\"stylesheet\" type=\"text/css\" href=\"//at.staticfiles.at/sites/mainweb/css/adv.css?v=498\"><script type=\"text/javascript\">\\n\\t\\t\\t\\n\\t\\t\\tfunction embedSSOTrackingCookieCheck()\\n\\t\\t\\t{\\n\\t\\t\\t\\tvar script = document.createElement(\\'script\\');\\n\\t\\t\\t\\tscript.src = \"http://derstandard.\" + location.host.split(\\'.\\').reverse()[0] + \"/TrackingCookieCheck.ashx?target=\" + encodeURIComponent(document.URL);\\n\\t\\t\\t\\tvar head = document.getElementsByTagName(\\'head\\')[0];\\n\\t\\t\\t\\thead.appendChild(script);\\n\\t\\t\\t}\\n\\t\\t\\tif (document.cookie.indexOf(\"TrackingCookie\") < 0 && location.host.toLowerCase().indexOf(\"derstandard.\") < 0){\\n\\t\\t\\t\\tembedSSOTrackingCookieCheck();\\n\\t\\t\\t}\\n\\t\\t\\n\\t\\t</script><script type=\"text/javascript\" src=\"/js/fixedfixed.js\"></script><script type=\"text/javascript\" src=\"/js/prototype.js?v=1.7\"></script><script type=\"text/javascript\" src=\"/js/uuid.js\"></script><script type=\"text/javascript\">\\n\\t\\t\\t\\n\\t\\t\\t\\tfunction generateGuid()\\n\\t\\t\\t\\t{\\n\\t\\t\\t\\t\\treturn uuid.v4();\\n\\t\\t\\t\\t}\\n\\t\\t\\t\\t\\n\\t\\t\\t</script><script id=\"PageProperties\" type=\"text/javascript\">\\n\\t\\t\\tvar PageProperties = {\\n\\t\\t\\tDOMLoaded: false,\\n\\t\\t\\tversion: {\\'detected\\':null, \\'preferred\\':null},\\n\\t\\t\\tjsVersion: \\'?v=451\\',\\n\\t\\t\\tdate: {\\n\\t\\t\\tlocal: new Date(),\\n\\t\\t\\tupdate: new Date(1505970000000)\\n\\t\\t\\t},\\n\\t\\t\\tViewGuid: generateGuid(),\\n\\t\\t\\tHost: \\'derstandard.at\\',\\n\\t\\t\\tContentTypeLc: \\'artikel\\',\\n\\n\\t\\t\\tgreenlife: \\'\\',\\n\\t\\t\\tdiaListView: false,\\n\\t\\t\\tisEnhanced: false,\\n\\t\\t\\tisRessort: false,\\n\\t\\t\\tisObject: true,\\n\\t\\t\\tisAdRessort: false,\\n\\t\\t\\tshowForum: true,\\n\\t\\t\\tauthenticationRequired:false,\\n\\t\\t\\tobjectID: 2000064258034,\\n\\t\\t\\tchannelID: 657,ressortID: 2000060871543,\\n\\t\\t\\tressortName: \\'deutschlandwahl\\',\\n\\t\\t\\tURI: \\'/2000064258034/Vier-Jahre-Schwarz-Rot-in-Deutschland-Die-groesste-Aufgabe-stand\\',\\n\\t\\t\\trecommendations: {},\\n\\t\\t\\tOEWAContingent: \\'RedCont/Politik/PolitikAusland\\',\\n\\t\\t\\tblockTemplateUrlEncoded: \\'_ressort%20einspaltig\\',\\n\\t\\t\\tsearchTerm: false,\\n\\t\\t\\tprintContent: true,\\n\\t\\t\\tisChronology: false,\\n\\t\\t\\tetatMaus: \\'\\'\\n\\t\\t\\t};\\n\\t\\t\\t\\n\\t\\t\\tfunction isTouchDevice()\\n\\t\\t\\t{\\n\\t\\t\\t\\tif (document.createElement)\\n\\t\\t\\t\\t{\\n\\t\\t\\t\\tvar el = document.createElement(\\'div\\');\\n\\t\\t\\t\\tif (typeof el.ontouchmove != \"undefined\") return true;\\n\\t\\t\\t\\t}\\n\\t\\t\\t\\treturn false;\\n\\t\\t\\t}\\n\\n\\t\\t\\tfunction hasLocalStorage()\\n\\t\\t\\t{\\n\\t\\t\\t\\t// Due to an unfortunate bug in older versions of Firefox,\\n\\t\\t\\t\\t// this test will raise an exception if cookies are disabled,\\n\\t\\t\\t\\t// so the entire test is wrapped in a try..catch statement.\\n\\t\\t\\t\\ttry {\\n\\t\\t\\t\\t\\treturn \\'localStorage\\' in window && window[\\'localStorage\\'] !== null;\\n\\t\\t\\t\\t} catch(e){\\n\\t\\t\\t\\t\\treturn false;\\n\\t\\t\\t\\t}\\n\\t\\t\\t}\\n\\n\\t\\t\\tvar ua = navigator.userAgent.toLowerCase();\\n\\t\\t\\tvar is_iphone = ((ua.indexOf(\\'iphone\\') != -1));\\n\\t\\t\\tvar is_ipad = ((ua.indexOf(\\'ipad\\') != -1));\\n\\t\\t\\tvar is_ios = (is_iphone || is_ipad);\\n\\t\\t\\tvar is_android = ((ua.indexOf(\\'android\\') != -1));\\n\\t\\t\\tvar is_chrome = ((ua.indexOf(\\'chrome\\') != -1));\\n\\t\\t\\tvar is_ie6 = (navigator.appVersion.indexOf(\\'MSIE 6.0\\') == -1) ? false : true;\\n\\t\\t\\tvar is_touch = isTouchDevice();\\n\\n\\t\\t\\tfunction launchAppPromotion()\\n\\t\\t\\t{\\n\\t\\t\\t\\tvar state = localStorage.getItem(\\'AppPromoDelivered\\');\\n\\t\\t\\t\\tif (state !== \\'done\\')\\n\\t\\t\\t\\t{\\n\\t\\t\\t\\t\\tvar check = confirm(\\'Wollen Sie die iStandard+ App für\\\\\\'s iPad laden?\\');\\n\\t\\t\\t\\t\\tif (check) document.location = \\'http://itunes.apple.com/app/istandard/id430617253?mt=8\\';\\n\\t\\t\\t\\t\\tlocalStorage.setItem(\\'AppPromoDelivered\\', \\'done\\');\\n\\t\\t\\t\\t}\\n\\t\\t\\t}\\n\\t\\t\\t\\n\\t\\t</script><script type=\"text/javascript\" src=\"/js/STD_shared.js?v=451\"></script><script type=\"text/javascript\" src=\"/js/Application.js?v=451\"></script><script type=\"text/javascript\" src=\"/js/desktop/STD.js?v=451\"></script><script type=\"text/javascript\" src=\"/forum/loader\"></script><script type=\"text/javascript\">var MIN_HEIGHT_FIXED_NAV = 810;var BREADCRUMB_WIDTH = 514;\\n\\t\\t\\t\\t\\n\\t\\t\\t\\t//document.observe(\\'dom:loaded\\', switchPositioning);\\n\\t\\t\\t\\t//Event.observe(document.onresize ? document : window, \"resize\", switchPositioning);\\n\\t\\t\\t\\t\\n\\t\\t\\t</script><script type=\"text/javascript\" src=\"/js/desktop/MAS.js?v=451\"></script><script type=\"text/javascript\">if (document.location.pathname.split(\\'/\\')[1].toLowerCase() !== \\'immostandard\\' && document.location.pathname.split(\\'/\\')[1].toLowerCase() !== \\'jobstandard\\') {var oMAS = new MAS(\\'derstandard.at\\',\\'newsroom/international/europa/deutschland/deutschlandwahl\\',\\'true\\');}</script><script type=\"text/javascript\">\\n\\t\\t\\t\\tdocument.observe(\"dom:loaded\", STD.UI.adjustYoutubeEmbed);\\n\\t\\t\\t</script><script type=\"text/javascript\">\\n\\t\\t\\n\\t\\t\\t(function(i,s,o,g,r,a,m){i[\\'GoogleAnalyticsObject\\']=r;i[r]=i[r]||function(){\\n\\t\\t\\t(i[r].q=i[r].q||[]).push(arguments)},i[r].l=1*new Date();a=s.createElement(o),\\n\\t\\t\\tm=s.getElementsByTagName(o)[0];a.async=1;a.src=g;m.parentNode.insertBefore(a,m)\\n\\t\\t\\t})(window,document,\\'script\\',\\'//www.google-analytics.com/analytics.js\\',\\'ga\\');\\n\\t\\t\\n\\n\\t\\tga(\\'create\\', \\'UA-448394-1\\', \\'derstandard.at\\');ga(\\'send\\', \\'pageview\\');</script><script type=\"text/javascript\" src=\"//dispatcher.oewabox.at/oewa.js\"></script><script type=\"application/ld+json\">\\n\\t\\t\\t\\t{\\n\\t\\t\\t\\t\\t\"@context\": \"http://schema.org\",\\n\\t\\t\\t\\t\\t\"@type\": \"NewsArticle\",\\n\\t\\t\\t\\t\\t\\n\\t\\t\\t\\t\\t\\t\"mainEntityOfPage\": \"http://derstandard.at/2000064258034/Vier-Jahre-Schwarz-Rot-in-Deutschland-Die-groesste-Aufgabe-stand\",\\n\\t\\t\\t\\t\\t\\n\\t\\t\\t\\t\\t\"headline\": \"Vier Jahre Schwarz-Rot in Deutschland: Die größte Aufgabe stand nicht im Koalitionsplan\",\\n\\t\\t\\t\\t\\t\"datePublished\": \"2017-09-19T06:43:52Z\",\\n\\t\\t\\t\\t\\t\"dateModified\": \"2017-09-20T06:00:22.717Z\",\\n\\t\\t\\t\\t\\t\"description\": \"Die große Koalition arbeitete zunächst einiges aus dem Koalitionsvertrag zügig ab. Auf die vielen Flüchtlinge war sie jedoch nicht vorbereitet\",\\n\\t\\t\\t\\t\\t\"author\": {\\n\\t\\t\\t\\t\\t\\t\"@type\": \"Person\",\\n\\t\\t\\t\\t\\t\\t\"name\": \"Birgit Baumann aus Berlin\"\\n\\t\\t\\t\\t\\t},\\n\\t\\t\\t\\t\\t\"publisher\": {\\n\\t\\t\\t\\t\\t\\t\"@type\": \"Organization\",\\n\\t\\t\\t\\t\\t\\t\"name\": \"derStandard.at\",\\n\\t\\t\\t\\t\\t\\t\"url\":\"http://derstandard.at\",\\n\\t\\t\\t\\t\\t\\t\"sameAs\":[\"https://www.facebook.com/derStandardat\",\"https://twitter.com/derstandardat\",\"https://www.youtube.com/user/derStandardatWeb\"],\\n\\t\\t\\t\\t\\t\\t\"logo\": {\\n\\t\\t\\t\\t\\t\\t\\t\"@type\": \"ImageObject\",\\n\\t\\t\\t\\t\\t\\t\\t\"url\": \"http://derstandard.at/img/desktop/logo_derstandardat_blau.png\",\\n\\t\\t\\t\\t\\t\\t\\t\"width\": 177,\\n\\t\\t\\t\\t\\t\\t\\t\"height\": 32\\n\\t\\t\\t\\t\\t\\t}\\n\\t\\t\\t\\t\\t},\\n\\t\\t\\t\\t\\t\"image\": {\\n\\t\\t\\t\\t\"@type\": \"ImageObject\",\\n\\t\\t\\t\\t\"url\": \"http://images.derstandard.at/2017/09/18/APO--EPAPETER-KNEFFEL.jpg\",\"height\": 800,\"width\": 1576}\\n\\t\\t\\t\\t}\\n\\t\\t\\t</script></head><body id=\"body\" class=\"object opaque\"><div id=\"ivw\"><script type=\"text/javascript\">\\n\\t\\t\\t\\tvar iam_position_top\\t= 20; /* Abstand zum oberen Rand (0 > x > 600) drölf? */\\n\\t\\t\\t\\tvar iam_position_left\\t= 20; /* Abstand zum linken Rand (0 > x > 600) */\\n\\t\\t\\t\\tvar iam_fadeout_form\\t= false; /* Probleme mit Login beheben */\\n\\t\\t\\t\\tvar iam_fadeout_flash\\t= false; /* Probleme mit Videos/Spielen beheben */\\n\\t\\t\\t\\tvar iam_fadeout_iframe\\t= false; /* Probleme mit Videos beheben */\\n\\t\\t\\t\\tvar iam_zindex\\t\\t\\t= 199; /* Probleme mit Headerüberlagerung beheben */\\n\\t\\t\\t\\t\\n\\t\\t\\t\\t\\tvar OEWA = {\\n\\t\\t\\t\\t\\t\\t\\'s\\': \\'derstand\\',\\n\\t\\t\\t\\t\\t\\t\\'cp\\': \\'RedCont/Politik/PolitikAusland\\'\\r\\n\\r\\n\\t\\t\\t\\t\\t};\\r\\n\\t\\t\\t\\t\\tif (typeof oewa !== \\'undefined\\' && typeof oewa.c !== \\'undefined\\') {\\r\\n\\t\\t\\t\\t\\t\\toewa.c({}, OEWA, 2);\\r\\n\\t\\t\\t\\t\\t}\\r\\n\\t\\t\\t\\t\\n\\t\\t\\tvar timestampBi = new Date();\\n\\t\\t\\ttimestampBi = timestampBi.getTime();\\n\\t\\t\\tvar referrerString = \\'\\';\\n\\t\\t\\tvar hasReferrer = document.referrer.length > 0;\\n\\t\\t\\tvar paramPrefix = \\'?\\';\\n\\t\\t\\tvar url = encodeURIComponent(document.URL).substring(0,1024);\\n\\n\\t\\t\\tif (hasReferrer)\\n\\t\\t\\t{\\n\\t\\t\\t\\treferrerString = paramPrefix + \\'referrer=\\' + encodeURIComponent(document.referrer).substring(0,1024);\\n\\t\\t\\t\\tparamPrefix = \\'&\\';\\n\\t\\t\\t}\\n\\n\\t\\t\\tvar viewGuidString = \\'\\';\\n\\t\\t\\tvar ViewGuidT  = \\'\\';\\n\\t\\t\\tvar hasViewGuid= false;\\n\\n\\t\\t\\ttry\\n\\t\\t\\t{\\n\\t\\t\\t\\tViewGuidT = typeof(PageProperties.ViewGuid);\\n\\t\\t\\t\\thasViewGuid = PageProperties.ViewGuid.length>0;\\n\\t\\t\\t}\\n\\t\\t\\t\\tcatch(err)\\n\\t\\t\\t{\\n\\t\\t\\t\\thasViewGuid = false;\\n\\t\\t\\t}\\n\\n\\t\\t\\tif (hasViewGuid)\\n\\t\\t\\t{\\n\\t\\t\\t\\tviewGuidString = \\'/\\' + PageProperties.ViewGuid;\\n\\t\\t\\t}\\n\\t\\t\\telse\\n\\t\\t\\t{\\n\\t\\t\\t\\tviewGuidString = \\'/0\\';\\n\\t\\t\\t}\\n\\n\\t\\t\\tdocument.write(\\'<img id=\"bi\" src=\"/s/2000064258034/2000060871543/1\\' + viewGuidString + \\'/\\' + timestampBi + \\'\\' + referrerString + \\'\\' + paramPrefix + \\'url=\\' + url + \\'\" style=\"width: 1px; height: 1px\" alt=\"\">\\');if (!PageProperties) var PageProperties = {};PageProperties.biObjectId = 2000064258034;PageProperties.biRessortId = 2000060871543;PageProperties.biViewMode = 1;</script><noscript><div><img id=\"bi\" src=\"/s/2000064258034/2000060871543/1/0/1506007780848?url=0\" style=\"width: 1px; height: 1px\" alt=\"\"></div></noscript></div><div id=\"pageTop\" class=\"opaque stdChrome\"><div id=\"breadcrumb\" class=\"lnkcol\" data-role=\"menu\" data-description=\"breadcrumb\" xmlns:v=\"http://rdf.data-vocabulary.org/#\"><a id=\"logo\" class=\"item\" typeof=\"v:Breadcrumb\" rel=\"v:url\" href=\"https://derstandard.at\"><span property=\"title\">derStandard.at</span></a>›<span class=\"item\" typeof=\"v:Breadcrumb\"><a href=\"/International\" rel=\"v:url\" property=\"v:title\">International</a></span>›<span class=\"item\" typeof=\"v:Breadcrumb\"><a href=\"/r514/Europa\" rel=\"v:url\" property=\"v:title\">Europa</a></span>›<span class=\"item\" typeof=\"v:Breadcrumb\"><a href=\"/r1712/Deutschland\" rel=\"v:url\" property=\"v:title\">Deutschland</a></span>›<span class=\"item\" typeof=\"v:Breadcrumb\"><a href=\"/r2000060871543/Wahlen-in-Deutschland\" rel=\"v:url\" property=\"v:title\">Wahlen in Deutschland</a></span></div><div id=\"navigation\" data-role=\"menu\" data-description=\"mainmenu\"><div id=\"navHome\"><a href=\"/\">Seite1</a></div><div id=\"navLine1\" class=\"active\"><ul><li id=\"nav_international\" class=\"active \"><a class=\"\" href=\"/International\">International</a><ul><li id=\"nav_europa\" class=\"active \"><a class=\"\" href=\"/r514/Europa\">Europa</a></li><li id=\"nav_eu\" class=\"\"><a class=\"\" href=\"/r651/EU\">EU</a></li><li id=\"nav_amerika\" class=\"\"><a class=\"\" href=\"/r2288/Amerika\">Amerika</a></li><li id=\"nav_nahost\" class=\"\"><a class=\"\" href=\"/r655/Nahost\">Naher Osten</a></li><li id=\"nav_asien\" class=\"\"><a class=\"\" href=\"/r653/Asien-Pazifik\">Asien & Pazifik</a></li><li id=\"nav_afrika\" class=\"\"><a class=\"\" href=\"/r652/Afrika\">Afrika</a></li></ul></li><li id=\"nav_inland\" class=\"\"><a class=\"\" href=\"/Inland\">Inland</a><ul><li id=\"nav_parteien\" class=\"\"><a class=\"\" href=\"/r2000020665585/Parteien\">Parteien</a></li><li id=\"nav_bundeslaender\" class=\"\"><a class=\"\" href=\"/r5782/Bundeslaender\">Bundesländer</a></li><li id=\"nav_sachpolitik\" class=\"\"><a class=\"\" href=\"/r2000020674748/Sachpolitik\">Sachpolitik</a></li><li id=\"nav_parlament\" class=\"\"><a class=\"\" href=\"/r2000020682620/Parlament\">Parlament</a></li><li id=\"nav_serienblogs\" class=\"\"><a class=\"\" href=\"/r2000020685516/Blogs--Serien\">Blogs & Serien</a></li></ul></li><li id=\"nav_wirtschaft\" class=\"\"><a class=\"\" href=\"/Wirtschaft\">Wirtschaft</a><ul><li id=\"nav_unternehmen\" class=\"\"><a class=\"\" href=\"/r166/Unternehmen\">Unternehmen</a></li><li id=\"nav_finanzen\" class=\"\"><a class=\"\" href=\"/r368/Finanzen--Boerse\">Finanzen & Börse</a></li><li id=\"nav_wirtschaftspolitik\" class=\"\"><a class=\"\" href=\"/r2000026008978/Wirtschaftspolitik\">Wirtschaftspolitik</a></li><li id=\"nav_atx\" class=\"\"><a class=\"\" href=\"/kursinfo/wertpapierdetail.aspx?InstrumentId=526906\">ATX</a></li><li id=\"nav_indizes\" class=\"\"><a class=\"\" href=\"/kursinfo/marktuebersicht.aspx\">Indizes</a></li><li id=\"nav_aktien\" class=\"\"><a class=\"\" href=\"/kursinfo/wertpapiersuche.aspx\">Aktien</a></li><li id=\"nav_fonds\" class=\"\"><a class=\"\" href=\"/r478/Fonds\">Fonds</a></li><li id=\"nav_waehrungen\" class=\"\"><a class=\"\" href=\"/kursinfo/waehrungen.aspx?waehrung=1\">Währungen</a></li><li id=\"nav_rohstoffe\" class=\"\"><a class=\"\" href=\"/kursinfo/rohstoffe.aspx\">Rohstoffe</a></li><li id=\"nav_zinsen\" class=\"\"><a class=\"\" href=\"/kursinfo/zinsen.aspx\">Zinsen</a></li><li id=\"nav_portfolio\" class=\"\"><a class=\"\" href=\"/WatchlistPortfolioInformation\">Watchlist & Portfolio</a></li></ul></li><li id=\"nav_web\" class=\"\"><a class=\"\" href=\"/Web\">Web</a><ul><li id=\"nav_innovationen\" class=\"\"><a class=\"\" href=\"/r249/Innovationen\">Innovationen</a></li><li id=\"nav_itbusiness\" class=\"\"><a class=\"\" href=\"/r375/IT-Business\">IT-Business</a></li><li id=\"nav_telekommunikation\" class=\"\"><a class=\"\" href=\"/r154/Telekom\">Telekom</a></li><li id=\"nav_netzpolitik\" class=\"\"><a class=\"\" href=\"/r406/Netzpolitik\">Netzpolitik</a></li><li id=\"nav_games\" class=\"\"><a class=\"\" href=\"/r271/Games\">Games</a></li><li id=\"nav_webvermischtes\" class=\"\"><a class=\"\" href=\"/r2634/Webmix\">Webmix</a></li></ul></li><li id=\"nav_sport\" class=\"\"><a class=\"\" href=\"/Sport\">Sport</a><ul><li id=\"nav_fussball\" class=\"\"><a class=\"\" href=\"/r246/Fussball\">Fußball</a></li><li id=\"nav_motorsport\" class=\"\"><a class=\"\" href=\"/r4032/Motorsport\">Motorsport</a></li><li id=\"nav_formel1\" class=\"\"><a class=\"\" href=\"/r245/Formel-1\">Formel 1</a></li><li id=\"nav_wintersport\" class=\"\"><a class=\"\" href=\"/r918/Wintersport\">Wintersport</a></li><li id=\"nav_ski\" class=\"\"><a class=\"\" href=\"/r463/Ski-Alpin\">Ski</a></li><li id=\"nav_eishockey\" class=\"\"><a class=\"\" href=\"/r2509/Eishockey\">Eishockey</a></li><li id=\"nav_mehrsport\" class=\"\"><a class=\"\" href=\"/r397/Mehr-Sport\">Mehr Sport</a></li><li id=\"nav_tennis\" class=\"\"><a class=\"\" href=\"/r539/Tennis\">Tennis</a></li><li id=\"nav_sporttabellen\" class=\"\"><a class=\"\" href=\"/Sporttabellen\">Sporttabellen</a></li></ul></li><li id=\"nav_panorama\" class=\"\"><a class=\"\" href=\"/Panorama\">Panorama</a><ul style=\"padding-left: 162px\"><li id=\"nav_chronik\" class=\"\"><a class=\"\" href=\"/r364/Oesterreich\">Österreich</a></li><li id=\"nav_wien\" class=\"\"><a class=\"\" href=\"/r635/Wien\">Wien</a></li><li id=\"nav_weltchronik\" class=\"\"><a class=\"\" href=\"/r1289609261273/Welt-Chronik\">Welt</a></li><li id=\"nav_fluechtlinge\" class=\"\"><a class=\"\" href=\"/r2000031258973/Fluechtlinge\">Flüchtlinge</a></li><li id=\"nav_gesellschaft\" class=\"\"><a class=\"\" href=\"/r2937/Gesellschaft\">Gesellschaft</a></li><li id=\"nav_oekologie\" class=\"\"><a class=\"\" href=\"/r632/Oekologie\">Ökologie</a></li><li id=\"nav_wetter\" class=\"\"><a class=\"\" href=\"/Wetter\">Wetter</a></li></ul></li><li id=\"nav_etat\" class=\"\"><a class=\"\" href=\"/Etat\">Etat</a><ul style=\"padding-left: 205px\"><li id=\"nav_medien\" class=\"\"><a class=\"\" href=\"/r413/Medien\">Medien</a></li><li id=\"nav_orf\" class=\"\"><a class=\"\" href=\"/r1249/ORF\">ORF</a></li><li id=\"nav_tv\" class=\"\"><a class=\"\" href=\"/r640/TV\">TV</a></li><li id=\"nav_tv-programm\" class=\"\"><a class=\"\" href=\"/r2140/TV-Programm-Switchlist\">TV-Programm</a></li><li id=\"nav_radio\" class=\"\"><a class=\"\" href=\"/r641/Radio\">Radio</a></li><li id=\"nav_internet\" class=\"\"><a class=\"\" href=\"/r374/Online\">Internet</a></li><li id=\"nav_medien-blogs\" class=\"\"><a class=\"\" href=\"/r2000013759905/Medien-Blogs\">Medien-Blogs</a></li><li id=\"nav_werbung\" class=\"\"><a class=\"\" href=\"/r316/Werbung\">Werbung</a></li></ul></li><li id=\"nav_kultur\" class=\"\"><a class=\"\" href=\"/Kultur\">Kultur</a><ul style=\"padding-left: 230px\"><li id=\"nav_film\" class=\"\"><a class=\"\" href=\"/r664/Film\">Film</a></li><li id=\"nav_kino\" class=\"\"><a class=\"\" href=\"/kinoprogramm\">Kinoprogramm</a></li><li id=\"nav_musikkultur\" class=\"\"><a class=\"\" href=\"/r658/Musik\">Musik</a></li><li id=\"nav_buehne\" class=\"\"><a class=\"\" href=\"/r665/Buehne\">Bühne</a></li><li id=\"nav_kunstkultur\" class=\"\"><a class=\"\" href=\"/r661/Bildende-Kunst\">Bildende Kunst</a></li><li id=\"nav_literatur\" class=\"\"><a class=\"\" href=\"/r659/Literatur\">Literatur</a></li><li id=\"nav_kulturpolitik\" class=\"\"><a class=\"\" href=\"/r727/Kultur--Politik\">Kulturpolitik</a></li></ul></li><li id=\"nav_wissenschaft\" class=\"\"><a class=\"\" href=\"/Wissenschaft\">Wissenschaft</a><ul style=\"padding-left: 296px\"><li id=\"nav_mensch\" class=\"\"><a class=\"\" href=\"/r626/Mensch\">Mensch</a></li><li id=\"nav_natur\" class=\"\"><a class=\"\" href=\"/r627/Natur\">Natur</a></li><li id=\"nav_raum\" class=\"\"><a class=\"\" href=\"/r1223/Raum\">Raum</a></li><li id=\"nav_technik\" class=\"\"><a class=\"\" href=\"/r628/Technik\">Technik</a></li><li id=\"nav_welt\" class=\"\"><a class=\"\" href=\"/r629/Welt\">Welt</a></li><li id=\"nav_zeit\" class=\"\"><a class=\"\" href=\"/r1317/Zeit\">Zeit</a></li><li id=\"nav_forschungspezial\" class=\"\"><a class=\"\" href=\"/r2765/Forschung-Spezial\">Forschung Spezial</a></li><li id=\"nav_wissens-blogs\" class=\"\"><a class=\"\" href=\"/r4218/Wissens-Blogs\">Wissens-Blogs</a></li></ul></li><li id=\"nav_gesundheit\" class=\"\"><a class=\"\" href=\"/Gesundheit\">Gesundheit</a><ul style=\"padding-left: 427px\"><li id=\"nav_gesundheit-1\" class=\"\"><a class=\"\" href=\"/r1237228970612/Krankheit\">Krankheit</a></li><li id=\"nav_gesundheit-2\" class=\"\"><a class=\"\" href=\"/r1234509373726/Therapie--Medikamente\">Therapie & Medikamente</a></li><li id=\"nav_gesundheit-3\" class=\"\"><a class=\"\" href=\"/r2000003726191/Familie--Gesundheit\">Familie & Gesundheit</a></li><li id=\"nav_gesundheit-4\" class=\"\"><a class=\"\" href=\"/r4409/Gesund-bleiben \">Gesund bleiben</a></li></ul></li><li id=\"nav_bildung\" class=\"\"><a class=\"\" href=\"/Bildung\">Bildung</a><ul style=\"padding-left: 493px\"><li id=\"nav_r5666\" class=\"\"><a class=\"\" href=\"/r5666/Vorschule--Kindergarten\">Kindergarten</a></li><li id=\"nav_r65\" class=\"\"><a class=\"\" href=\"/r65/Schule\">Schule</a></li><li id=\"nav_r2000061490143\" class=\"\"><a class=\"\" href=\"/r2000061490143/Hochschule\">Hochschule</a></li><li id=\"nav_r5989\" class=\"\"><a class=\"\" href=\"/r5989/Lehre--Berufsschule\">Lehre & Berufsschule</a></li><li id=\"nav_r5272\" class=\"\"><a class=\"\" href=\"/r5272/Fortbildung\">Weiterbildung</a></li></ul></li><li id=\"nav_reisen\" class=\"\"><a class=\"\" href=\"/Reisen\">Reisen</a><ul style=\"padding-left: 405px\"><li id=\"nav_reiseaktuell\" class=\"\"><a class=\"\" href=\"/r1988/Reisen-aktuell\">Reisen aktuell</a></li><li id=\"nav_oesterreich\" class=\"\"><a class=\"\" href=\"/r838/Urlaub-in-Oesterreich\">Urlaub in Österreich</a></li><li id=\"nav_r-europa\" class=\"\"><a class=\"\" href=\"/r105/Europa-Reisen\">Europa Reisen</a></li><li id=\"nav_r_fernreisen\" class=\"\"><a class=\"\" href=\"/r1339639210855/Fernreisen\">Fernreisen</a></li><li id=\"nav_reiseblogs\" class=\"\"><a class=\"\" href=\"/r1330390480903/Reiseblogs\">Reiseblogs</a></li><li id=\"nav_schulferien-oesterreich\" class=\"\"><a class=\"\" href=\"/1342947485683/Schulferien-Oesterreich\">Schulferien</a></li></ul></li><li id=\"nav_lifestyle\" class=\"\"><a class=\"\" href=\"/Lifestyle\">Lifestyle</a><ul style=\"padding-left: 349px\"><li id=\"nav_essentrinken\" class=\"\"><a class=\"\" href=\"/r1229702248850/Essen--Trinken\">Essen & Trinken</a></li><li id=\"nav_modebeauty\" class=\"\"><a class=\"\" href=\"/r4363/Mode--Kosmetik\">Mode & Kosmetik</a></li><li id=\"nav_designinterieur\" class=\"\"><a class=\"\" href=\"/r4364/Design--Interieur\">Design & Interieur</a></li><li id=\"nav_uhren\" class=\"\"><a class=\"\" href=\"/r1371171167889/Uhren\">Uhren</a></li><li id=\"nav_garten\" class=\"\"><a class=\"\" href=\"/r2215/Garten\">Garten</a></li><li id=\"nav_spielenlesen\" class=\"\"><a class=\"\" href=\"/r1229777262316/Raetsel--Sudoku\">Rätsel & Sudoku</a></li><li id=\"nav_familie\" class=\"\"><a class=\"\" href=\"/Familie\">Familie</a></li></ul></li><li id=\"nav_abo\" class=\"\"><a class=\"hidden \" href=\"/Abo\">Abo</a><ul><li id=\"nav_derstandard\" class=\"\"><a class=\"\" href=\"/r2000005931406\">DER STANDARD</a></li><li id=\"nav_derstandardkompakt\" class=\"\"><a class=\"\" href=\"/r2000005931225\">DER STANDARD-Kompakt</a></li><li id=\"nav_derstandardepaper\" class=\"\"><a class=\"\" href=\"/r2000005931332\">DER STANDARD E-Paper</a></li><li id=\"nav_fairuse\" class=\"\"><a class=\"\" href=\"/r2000014988074\">FairUse</a></li><li id=\"nav_aboservice\" class=\"\"><a class=\"\" href=\"/r2000005931660\">Mein Abo</a></li><li id=\"nav_abovorteil\" class=\"\"><a class=\"\" href=\"/r2000005635760\">Abovorteile</a></li></ul></li><li id=\"nav_ueberuns\" class=\"\"><a class=\"hidden \" href=\"/r1263706460176/Ueber-uns\">Über Uns</a><ul><li id=\"nav_dasunternehmen\" class=\"\"><a class=\"\" href=\"/r2000010650212\">Das Unternehmen</a></li><li id=\"nav_redaktion\" class=\"\"><a class=\"\" href=\"/r2000008697019\">Redaktion</a></li><li id=\"nav_events\" class=\"\"><a class=\"\" href=\"/r2000011085784\">Events</a></li><li id=\"nav_shop\" class=\"\"><a class=\"\" href=\"/r2000010648931\">Shop</a></li><li id=\"nav_gewinnspiele\" class=\"\"><a class=\"\" href=\"/r3133\">Gewinnspiele</a></li></ul></li></ul></div><div id=\"navLine2\" class=\"\"><ul><li id=\"nav_meinung\" class=\"\"><a class=\"\" href=\"/Meinung\">Meinung</a></li><li id=\"nav_user\" class=\"\"><a class=\"\" href=\"/User\">User</a></li><li id=\"nav_diestandardcrosslink\" class=\"\"><a class=\"\" href=\"/dieStandard\"><i>die</i>Standard.at</a></li><li id=\"nav_zuzweit\" class=\"right\"><a class=\"special\" href=\"http://zuzweit.parship.at/\">ZuZweit</a></li><li id=\"nav_automobil\" class=\"right\"><a class=\"special\" href=\"/Automobil\">AutoMobil</a></li><li id=\"nav_immobilien\" class=\"right\"><a class=\"special newbadge\" href=\"/Immobilien\">Immobilien</a></li><li id=\"nav_karriere\" class=\"right\"><a class=\"special\" href=\"/Karriere?ref=nav\">Karriere</a></li><li id=\"nav_job\" class=\"right\"><a class=\"special delimiter\" href=\"/karriere/Jobsuche?ref=nav\">Jobs</a><span class=\"delimiter-char\">|</span></li></ul></div></div><script type=\"text/javascript\">\\n\\t\\t\\t\\tnav = new Navigation(\\'navigation\\');\\n\\t\\t\\t\\tvar breadcrumb = new Breadcrumb($(\\'breadcrumb\\'), BREADCRUMB_WIDTH);\\n\\t\\t\\t\\tbreadcrumb.adjust();\\n\\t\\t\\t</script><ul id=\"widgets\"><li id=\"siteSearch\"><form action=\"/\" onsubmit=\"return STD.SiteSearch.validateSearch($(\\'siteSearchQuery\\'));\"><input type=\"hidden\" name=\"page\" value=\"onlinesuche\"><input type=\"text\" id=\"siteSearchQuery\" name=\"query\" title=\"Suchbegriff\"><button id=\"siteSearchButton\" type=\"submit\" title=\"suchen\"><span>suchen</span></button></form></li><li id=\"wetterWidget\" class=\"context\" title=\"Ändern Sie den Ort im Wetter unter &quot;Meine Favoriten&quot;\" onclick=\"location.href=\\'/wetter/?ref=wetterWidget\\';\"><a href=\"/wetter/?region=3&amp;nation=130&amp;bundesland=8\">Wetter Wien</a></li><li class=\"widget widget-kino\"><a href=\"/kinoprogramm?ref=KinoIcon\" title=\"Kinoprogramm\">Kinoprogramm</a></li><li class=\"widget widget-abo\"><a href=\"/Abo?ref=AboWidget\" title=\"Der Standard - Das Abo\">Abo</a></li></ul></div><div id=\"toolbar\" class=\"stdChrome withFlyouts\"><div id=\"toolbarBG\" class=\"opaque\"></div><div id=\"toolbarProfile\" class=\"anonymous\"><ul id=\"TBUser\"><li><a id=\"TBUserprofile\" href=\"/userprofil\"><span id=\"TBDisplayName\"></span></a></li><li><a id=\"TBLogin\" class=\"onclick\" onclick=\"STD.User.login(); return false\">anmelden</a><a id=\"TBLogout\" class=\"onclick\" onclick=\"STD.User.logout(); return false;\">abmelden</a></li><li class=\"entry hidden\" id=\"TBUserFollow\"><a class=\"button\" id=\"TBUserFollowButton\" href=\"#TBUserFollowMenu\"><span><span class=\"count\"></span> Postings</span></a><div class=\"flyout opaque\"><div class=\"wrapper\"><p><em>MitposterInnen, die ich lese:</em></p><div class=\"scroller\"></div><div class=\"default\"><a href=\"/Userprofil/Postings\">Alle meine Postings</a><span onclick=\"STD.FollowingRelationships.getData()\">aktualisieren</span><div class=\"clear\"></div></div></div></div></li></ul></div><ul id=\"toolbarMenu\"><li class=\"entry\" id=\"TBCommunity\"><a class=\"button\" id=\"TBCommunityButton\" href=\"/Community\"><span>Community</span></a><div class=\"flyout\" id=\"TBCommunityMenu\"><div class=\"wrapper\"><p><em>Alles über Community und Foren-Regeln</em></p></div></div></li><li class=\"entry\" id=\"TBNewsletter\"><a class=\"button\" id=\"TBNewsletterButton\" href=\"/r1339639911706/Newsletter\"><span>Newsletter</span></a><div class=\"flyout\" id=\"TBNewsletterMenu\"><div class=\"wrapper\"><p><em>Nachrichten, die zu Ihnen kommen: Newsletter, Feeds und WhatsApp</em></p></div></div></li><li class=\"entry\" id=\"TBMobile\"><a class=\"button\" id=\"TBMobileButton\" href=\"/r2926/Mobil\"><span>Mobil</span></a><div class=\"flyout\" id=\"TBMobileMenu\"><div class=\"wrapper\"><p><em>Alles zu unseren mobilen Angeboten: Apps und Mobilversion</em></p></div></div></li><li class=\"entry\" id=\"TBRadio\"><a class=\"button\" id=\"TBRadioButton\" href=\"/r1341526722513/Radio\"><span>Radio</span></a><div class=\"flyout\" id=\"TBRadioMenu\"><div class=\"wrapper\"><p><em>Unser Radioangebot</em></p></div></div></li><li class=\"entry\" id=\"TBPaper\"><a class=\"button\" id=\"TBPaperButton\" href=\"https://epaper.derstandard.at\" target=\"_blank\"><span>E-Paper</span></a><div class=\"flyout\" id=\"TBPaperMenu\"><div class=\"wrapper\"><p><em>DER STANDARD E-Paper. Das Original in digital</em></p></div></div></li><li class=\"entry\" id=\"TBEditorialStaff\"><a class=\"button\" id=\"TBEditorialStaffButton\" href=\"/r1263706460176/Online-Redaktion\"><span>Über uns</span></a><div class=\"flyout\" id=\"TBEditorialStaffMenu\"><div class=\"wrapper\"><p><em>Alles über den STANDARD und derStandard.at</em></p></div></div></li><li class=\"entry\" id=\"TBSales\"><a class=\"button\" id=\"TBSalesButton\" href=\"/Sales\"><span>Sales</span></a><div class=\"flyout\" id=\"TBSalesMenu\"><div class=\"wrapper\"><p><em>Alles über Werbung, Stellenanzeigen und Immobilieninserate</em></p></div></div></li></ul></div><script type=\"text/javascript\">\\n\\t\\t\\tsetupToolbar();\\n\\t\\t</script><div class=\"IE\"></div><div id=\"lightbox\"></div><div id=\"documentCanvas\" class=\"opaque stdChrome\"><div id=\"weiterLesenAnchor\"></div><div id=\"weiterLesenContainer\"><div id=\"weiterLesen\" class=\"context\"><div id=\"weiterLesenScroll\" class=\"\"><ul></ul></div><script type=\"text/javascript\">\\n\\t\\t\\t\\t\\t\\t\\tPageProperties.recommendations = {\\n\\t\\t\\t\\t\\t\\t\\ten: [{\\n\\t\\toi: 2000064371022,\\n\\t\\tci: 657,\\n\\t\\trk: 1,\\n\\t\\thl: \\'Bundestagswahl\\',\\n\\t\\ttl: \\'Gauland: \\\\\"Angriffe nützen uns, weil die Leute uns als Opfer sehen\\\\\"\\',\\n\\t\\tlt: \\'Den AfD-Spitzenkandidaten stört, dass bei Lob für Soldaten \\\\\"offenbar der selige Adolf\\\\\" wieder aufsteht\\',\\n\\t\\tur: \\'/2000064371022/Gauland-Angriffe-nuetzen-uns-weil-die-Leute-uns-als-Opfer?ref=rec\\',\\n\\t\\tiu: \\'//images.derstandard.at/t/24/2017/09/20/APO--dpa--Daniel-Karmann.jpg\\',\\n\\t\\tpc: 185},{\\n\\t\\toi: 2000064315656,\\n\\t\\tci: 657,\\n\\t\\trk: 2,\\n\\t\\thl: \\'Wahlkampf\\',\\n\\t\\ttl: \\'SPD: Wenn der Erklärbär an der Haustür klingelt\\',\\n\\t\\tlt: \\'Vor allem die Sozialdemokraten setzen auch auf den klassischen Haustürwahlkampf und umwerben Wähler persönlich\\',\\n\\t\\tur: \\'/2000064315656/SPD-Wenn-der-Erklaerbaer-an-der-Haustuer-klingelt?ref=rec\\',\\n\\t\\tiu: \\'//images.derstandard.at/t/24/2017/09/19/hheil.jpg\\',\\n\\t\\tpc: 35},{\\n\\t\\toi: 2000064188786,\\n\\t\\tci: 657,\\n\\t\\trk: 3,\\n\\t\\thl: \\'FDP\\',\\n\\t\\ttl: \\'FDP-Chef Lindner: \\\\\"Uns wählen fleißige Menschen aus der Mitte\\\\\"\\',\\n\\t\\tlt: \\'Die FDP sei nun thematisch breiter aufgestellt, sorge für \\\\\"Rundum-Liberalismus\\\\\" und komme wieder in den Bundestag, sagt Parteichef Christian Lindner. Der Zahnarzt mit Porsche als FDP-Wähler sei ein Klischee\\',\\n\\t\\tur: \\'/2000064188786/Uns-waehlen-fleissige-Menschen-aus-der-Mitte-der-Gesellschaft?ref=rec\\',\\n\\t\\tiu: \\'//images.derstandard.at/t/24/2017/09/17/APOLindnerAFPAndersen.jpg\\',\\n\\t\\tpc: 196},{\\n\\t\\toi: 2000064259451,\\n\\t\\tci: 657,\\n\\t\\trk: 4,\\n\\t\\thl: \\'Wirtschaft\\',\\n\\t\\ttl: \\'Es ist nicht alles Gold am deutschen Arbeitsmarkt\\',\\n\\t\\tlt: \\'Mehr Sozialhilfeempfänger und großer Niedriglohnsektor als Kehrseite des Jobbooms\\',\\n\\t\\tur: \\'/2000064259451/Es-ist-nicht-alles-Gold-am-deutschen-Arbeitsmarkt?ref=rec\\',\\n\\t\\tiu: \\'//images.derstandard.at/t/24/2017/09/18/wirtschaft.jpg\\',\\n\\t\\tpc: 15},{\\n\\t\\toi: 2000064186299,\\n\\t\\tci: 657,\\n\\t\\trk: 5,\\n\\t\\thl: \\'Bundestagswahlen\\',\\n\\t\\ttl: \\'FDP stellt Bedingungen für Regierungsbeteiligung nach Wahl\\',\\n\\t\\tlt: \\'Zehn \\\\\"Trendwenden\\\\\" für Deutschland Messlatte für Koalitionsverhandlungen\\',\\n\\t\\tur: \\'/2000064186299/FDP-stellt-Bedingungen-fuer-Regierungsbeteiligung-nach-Wahl?ref=rec\\',\\n\\t\\tiu: \\'//images.derstandard.at/t/24/2017/09/17/christian-lindner-fdp-rede.jpg\\',\\n\\t\\tpc: 12},{\\n\\t\\toi: 2000064278247,\\n\\t\\tci: 657,\\n\\t\\trk: 6,\\n\\t\\thl: \\'ARD-\\\\\"Wahlarena\\\\\"\\',\\n\\t\\ttl: \\'Schulz attackiert Merkel im Wahlkampffinish\\',\\n\\t\\tlt: \\'SPD-Spitzenkandidat kritisiert deutsche Kanzlerin in Pensions- und Mietpolitik und fordert \\\\\"Neustart in der Pflege\\\\\"\\',\\n\\t\\tur: \\'/2000064278247/Schulz-attackiert-Merkel-im-Wahlkampffinish?ref=rec\\',\\n\\t\\tiu: \\'//images.derstandard.at/t/24/2017/09/19/schulz.jpg\\',\\n\\t\\tpc: 24},{\\n\\t\\toi: 2000064144297,\\n\\t\\tci: 657,\\n\\t\\trk: 7,\\n\\t\\thl: \\'Deutschland\\',\\n\\t\\ttl: \\'Schulz kämpft trotz schlechter Umfragen weiter um Kanzlerschaft\\',\\n\\t\\tlt: \\'Für die SPD hat sich nichts zum Besseren gedreht. Martin Schulz wird zunehmend dünnhäutig, aber er kämpft um jede Stimme\\',\\n\\t\\tur: \\'/2000064144297/Schulz-kaempft-trotz-schlechter-Umfragen-weiter-um-Kanzlerschaft?ref=rec\\',\\n\\t\\tiu: \\'//images.derstandard.at/t/24/2017/09/15/schulz.jpg\\',\\n\\t\\tpc: 228},{\\n\\t\\toi: 2000064122322,\\n\\t\\tci: 657,\\n\\t\\trk: 8,\\n\\t\\thl: \\'Deutschland-Wahl\\',\\n\\t\\ttl: \\'AfD-Spitzenkandidat: \\\\\"Stolz auf Leistungen in zwei Weltkriegen\\\\\"\\',\\n\\t\\tlt: \\'Es solle ein Schlussstrich gezogen werden, fordert Alexander Gauland. SPD: Er entlarvt sich als ultrarechter Militarist\\',\\n\\t\\tur: \\'/2000064122322/AfD-Spitzenkandidat-Stolz-auf-Leistungen-deutscher-Soldaten-in-zwei-Weltkriegen?ref=rec\\',\\n\\t\\tiu: \\'//images.derstandard.at/t/24/2017/09/15/Daniel-Karmanndpa-AP.jpg\\',\\n\\t\\tpc: 492},{\\n\\t\\toi: 2000064107568,\\n\\t\\tci: 657,\\n\\t\\trk: 9,\\n\\t\\thl: \\'Migrationspolitik\\',\\n\\t\\ttl: \\'TV-Debatte: Liebesschwur und keine Tabus für Merkel\\',\\n\\t\\tlt: \\'Deutsche Kanzlerin über Ausländer: \\\\\"Wir sollten nicht alle unter Generalverdacht stellen\\\\\"\\',\\n\\t\\tur: \\'/2000064107568/TV-Debatte-Liebesschwur-und-keine-Tabus-fuer-Merkel?ref=rec\\',\\n\\t\\tiu: \\'//images.derstandard.at/t/24/2017/09/15/merkel001.jpg\\',\\n\\t\\tpc: 124},{\\n\\t\\toi: 2000064080050,\\n\\t\\tci: 657,\\n\\t\\trk: 10,\\n\\t\\thl: \\'Wahlkampf\\',\\n\\t\\ttl: \\'Deutsche FDP: One-Man-Show für die liberale Auferstehung\\',\\n\\t\\tlt: \\'Die FDP kommt wohl wieder in den Bundestag, vielleicht sogar in die Regierung. Parteichef Lindner spricht nicht nur über Geld und hat die Mittelschicht im Blick\\',\\n\\t\\tur: \\'/2000064080050/Deutsche-FDP-One-Man-Show-fuer-die-liberale-Auferstehung?ref=rec\\',\\n\\t\\tiu: \\'//images.derstandard.at/t/24/2017/09/14/APOLindner1409Macdougall.jpg\\',\\n\\t\\tpc: 202},{\\n\\t\\toi: 2000064068482,\\n\\t\\tci: 657,\\n\\t\\trk: 11,\\n\\t\\thl: \\'Außenminister\\',\\n\\t\\ttl: \\'Gabriel gibt Merkel Mitverantwortung an Stärke der AfD\\',\\n\\t\\tlt: \\'Die Kanzlerin habe sich zu wenig um \\\\\"Inländer\\\\\" gekümmert – Bei AfD-Einzug in Bundestag \\\\\"werden dort Nazis sprechen\\\\\"\\',\\n\\t\\tur: \\'/2000064068482/Gabriel-gibt-Merkel-Mitverantwortung-an-Staerke-der-rechten-AfD?ref=rec\\',\\n\\t\\tiu: \\'//images.derstandard.at/t/24/2017/09/14/gabriel-merkel.jpg\\',\\n\\t\\tpc: 68},{\\n\\t\\toi: 2000064076939,\\n\\t\\tci: 657,\\n\\t\\trk: 12,\\n\\t\\thl: \\'\\\\\"Innovativ\\\\\"\\',\\n\\t\\ttl: \\'FDP-Kandidat bot Jungwählern zwei Euro für Stimme\\',\\n\\t\\tlt: \\'Jörg Schnurre zieht Aktion nach Vorwürfen der Wählerbestechung zurück – FDP distanziert sich\\',\\n\\t\\tur: \\'/2000064076939/FDP-Kandidat-bot-Jungwaehlern-zwei-Euro-fuer-Stimme?ref=rec\\',\\n\\t\\tiu: \\'//images.derstandard.at/t/24/2017/09/14/fdp.jpg\\',\\n\\t\\tpc: 38},{\\n\\t\\toi: 2000063967202,\\n\\t\\tci: 657,\\n\\t\\trk: 13,\\n\\t\\thl: \\'Linken-Spitzenkandidat\\',\\n\\t\\ttl: \\'Dietmar Bartsch: \\\\\"Kein Linker verlängert Merkels Kanzlerschaft\\\\\"\\',\\n\\t\\tlt: \\'Wenn alte Menschen Pfandflaschen sammeln, funktioniere der Sozialstaat nicht, sagt Linken-Spitzenkandidat Bartsch. Er hofft auf eine rot-rot-grüne Koalition\\',\\n\\t\\tur: \\'/2000063967202/Dietmar-Bartsch-Kein-Linker-verlaengert-Merkels-Kanzlerschaft?ref=rec\\',\\n\\t\\tiu: \\'//images.derstandard.at/t/24/2017/09/12/APOBartsch2spaScholz_1.jpg\\',\\n\\t\\tpc: 75},{\\n\\t\\toi: 2000063974351,\\n\\t\\tci: 657,\\n\\t\\trk: 14,\\n\\t\\thl: \\'Wahl\\',\\n\\t\\ttl: \\'Harter Kampf um Platz drei im deutschen Bundestag\\',\\n\\t\\tlt: \\'Vor dem Einzug stehen FDP und AfD – sie kämpfen mit Linken und Grünen um den prestigeträchtigen Platz drei\\',\\n\\t\\tur: \\'/2000063974351/Harter-Kampf-um-Platz-drei-im-deutschen-Bundestag?ref=rec\\',\\n\\t\\tiu: \\'//images.derstandard.at/t/24/2017/09/12/APOLindnerNeuAFPMacDougall.jpg\\',\\n\\t\\tpc: 108},{\\n\\t\\toi: 2000063986175,\\n\\t\\tci: 657,\\n\\t\\trk: 15,\\n\\t\\thl: \\'\\\\\"Jederzeit bereit\\\\\"\\',\\n\\t\\ttl: \\'Schulz will zweites TV-Duell mit Merkel\\',\\n\\t\\tlt: \\'SPD-Kandidat möchte über Flüchtlingskrise, Integration und Türkei-Politik diskutieren\\',\\n\\t\\tur: \\'/2000063986175/Schulz-will-zweites-TV-Duell-mit-Merkel?ref=rec\\',\\n\\t\\tiu: \\'//images.derstandard.at/t/24/2017/09/13/martin-schulz-spd-plakat.jpg\\',\\n\\t\\tpc: 14},{\\n\\t\\toi: 2000063936729,\\n\\t\\tci: 657,\\n\\t\\trk: 16,\\n\\t\\thl: \\'Deutschland\\',\\n\\t\\ttl: \\'Von Abtreibung bis Zusammenhalt: Merkels Auftritt in der \\\\\"Wahlarena\\\\\"\\',\\n\\t\\tlt: \\'Die deutsche Kanzlerin sprach sich in der ARD gegen eine Obergrenze für Flüchtlinge und eine Erhöhung des Pensionsantrittsalters aus\\',\\n\\t\\tur: \\'/2000063936729/Von-Abtreibung-bis-Zusammenhalt-Merkels-Auftritt-in-der-Wahlarena?ref=rec\\',\\n\\t\\tiu: \\'//images.derstandard.at/t/24/2017/09/12/merkel.jpg\\',\\n\\t\\tpc: 79},{\\n\\t\\toi: 2000063966683,\\n\\t\\tci: 657,\\n\\t\\trk: 17,\\n\\t\\thl: \\'EuGH-Urteil\\',\\n\\t\\ttl: \\'Merkel und SPD streiten um Umgang mit Ungarn nach Flüchtlings-Urteil\\',\\n\\t\\tlt: \\'SPD-Fraktionsvize wirft Merkel Schutz Orbans vor – Merkel setzt darauf, dass Ungarn nach EuGH-Urteil einlenkt\\',\\n\\t\\tur: \\'/2000063966683/Merkel-und-SPD-streiten-um-Umgang-mit-Ungarn-nach-Fluechtlings?ref=rec\\',\\n\\t\\tiu: \\'//images.derstandard.at/t/24/2017/09/12/merkel-plakat.jpg\\',\\n\\t\\tpc: 12},{\\n\\t\\toi: 2000063855971,\\n\\t\\tci: 657,\\n\\t\\trk: 18,\\n\\t\\thl: \\'Bayerns Innenminister\\',\\n\\t\\ttl: \\'CSU-Spitzenkandidat: \\\\\"Klare Ansagen Österreichs sind gut\\\\\"\\',\\n\\t\\tlt: \\'Joachim Herrmann fordert mehr Polizei und lobt Wien für Kontrollen am Brenner\\',\\n\\t\\tur: \\'/2000063855971/CSU-SpitzenkandidatKlare-Ansagen-Oesterreichs-sind-gut?ref=rec\\',\\n\\t\\tiu: \\'//images.derstandard.at/t/24/2017/09/10/APO-dpa-Sven-hoppe-DEU.jpg\\',\\n\\t\\tpc: 100},{\\n\\t\\toi: 2000063865950,\\n\\t\\tci: 657,\\n\\t\\trk: 19,\\n\\t\\thl: \\'Bundestagswahl\\',\\n\\t\\ttl: \\'Deutschland: Schulz nennt Bedingungen für Koalition\\',\\n\\t\\tlt: \\'Parteien verengen Spielraum für Regierungsbildung – Merkel warnt vor Siegesgewissheit, Grüne und FDP wollen nicht zusammenarbeiten\\',\\n\\t\\tur: \\'/2000063865950/Schulz-nennt-Bedingungen-fuer-Koalition?ref=rec\\',\\n\\t\\tiu: \\'//images.derstandard.at/t/24/2017/09/11/merkel-schulz.jpg\\',\\n\\t\\tpc: 18},{\\n\\t\\toi: 2000063820037,\\n\\t\\tci: 657,\\n\\t\\trk: 20,\\n\\t\\thl: \\'Wahlkampf\\',\\n\\t\\ttl: \\'Pfiffe für \\\\\"Volksverräterin\\\\\" Angela Merkel\\',\\n\\t\\tlt: \\'Angela Merkel ist beliebt, in Umfragen liegt die CDU weit vorne. Doch bei Wahlkampfauftritten wird sie ausgepfiffen – erst recht im Osten\\',\\n\\t\\tur: \\'/2000063820037/Pfiffe-fuer-deutsche-Volksverraeterin-Angela-Merkel?ref=rec\\',\\n\\t\\tiu: \\'//images.derstandard.at/t/24/2017/09/08/Merkel.jpg\\',\\n\\t\\tpc: 626},{\\n\\t\\toi: 2000063833011,\\n\\t\\tci: 657,\\n\\t\\trk: 21,\\n\\t\\thl: \\'Wahlkampf\\',\\n\\t\\ttl: \\'CDU-Generalsekretär greift Demonstranten an:  \\\\\"Schreien und Pöbeln\\\\\"\\',\\n\\t\\tlt: \\'CDU-Generalsekretär Peter Tauber sieht \\\\\"selbsternannten Patrioten\\\\\", die \\\\\"mit der einen Hand AfD-Plakate schwenken und die andere zum Hitlergruß heben\\\\\"\\',\\n\\t\\tur: \\'/2000063833011/CDU-Generalsekretaer-greift-Demonstranten-an-Schreien-und-Poebeln?ref=rec\\',\\n\\t\\tiu: \\'\\',\\n\\t\\tpc: 10},{\\n\\t\\toi: 2000063797687,\\n\\t\\tci: 657,\\n\\t\\trk: 22,\\n\\t\\thl: \\'Bundestagswahl\\',\\n\\t\\ttl: \\'Deutschland: Laut Umfragen nur noch zwei Koalitionen möglich\\',\\n\\t\\tlt: \\'FDP-Chef Lindner fehlt nach eigener Aussage für ein Jamaika-Bündnis mit Union und Grünen \\\\\"die Fantasie\\\\\"\\',\\n\\t\\tur: \\'/2000063797687/Rennen-wird-enger-Laut-Umfragen-nur-noch-zwei-deutsche-Koalitionsvarianten?ref=rec\\',\\n\\t\\tiu: \\'//images.derstandard.at/t/24/2017/09/08/Reuters--Wolfgang-Rattay.jpg\\',\\n\\t\\tpc: 90},{\\n\\t\\toi: 2000063746970,\\n\\t\\tci: 657,\\n\\t\\trk: 23,\\n\\t\\thl: \\'Bundestagswahl\\',\\n\\t\\ttl: \\'Türkisch-deutsche Partei wirbt mit Erdoğan auf Plakaten\\',\\n\\t\\tlt: \\'Die Allianz Deutscher Demokraten tritt bei der Bundestagswahl an. Gegründet wurde sie von AKP-nahen Deutschtürken\\',\\n\\t\\tur: \\'/2000063746970/Tuerkisch-deutsche-Partei-wirbt-mit-Erdogan-Plakaten-fuer-Bundestagswahl?ref=rec\\',\\n\\t\\tiu: \\'//images.derstandard.at/t/24/2017/09/07/AP.jpg\\',\\n\\t\\tpc: 486},{\\n\\t\\toi: 2000063711124,\\n\\t\\tci: 657,\\n\\t\\trk: 24,\\n\\t\\thl: \\'Deutschland\\',\\n\\t\\ttl: \\'Grünen-Fraktionschef: \\\\\"Haben Weltretter-Anspruch\\\\\"\\',\\n\\t\\tlt: \\'Anton Hofreiter will nach der Deutschland-Wahl mitregieren, um die Klimakrise in den Griff zu bekommen. Wenn es nicht anders geht, sogar mit der CSU – aber ohne \\\\\"Schmusekurs\\\\\"\\',\\n\\t\\tur: \\'/2000063711124/Gruenen-Fraktionschef-Haben-Weltretter-Anspruch?ref=rec\\',\\n\\t\\tiu: \\'//images.derstandard.at/t/24/2017/09/07/anton-hofreiter-ostsee-wollhandkrabbe.jpg\\',\\n\\t\\tpc: 288},{\\n\\t\\toi: 2000063737151,\\n\\t\\tci: 657,\\n\\t\\trk: 25,\\n\\t\\thl: \\'Warnung\\',\\n\\t\\ttl: \\'Sicherheitslücken: Deutsche Bundestagswahl kann leicht gehackt werden\\',\\n\\t\\tlt: \\'Änderung des vorläufigen Ergebnisses denkbar – Zählsoftware kann laut Chaos Computer Club leicht manipuliert werden\\',\\n\\t\\tur: \\'/2000063737151/Deutsche-Bundestagswahl-koennte-gehackt-werden?ref=rec\\',\\n\\t\\tiu: \\'//images.derstandard.at/t/24/2017/09/07/pcwahl.jpg\\',\\n\\t\\tpc: 6}]\\n\\t\\t\\t\\t\\t\\t\\t}\\n\\n\\t\\t\\t\\t\\t\\t</script><script src=\"/recommendations/client\"></script><script type=\"text/javascript\">\\n\\t\\t\\t\\t\\tvar oWeiterlesen = new Weiterlesen();\\n\\t\\t\\t\\t</script></div></div><div id=\"objectContent\" class=\"artikel\"><meta itemscope=\"itemscope\" itemprop=\"mainEntityOfPage\" itemType=\"https://schema.org/WebPage\" itemid=\"http://derstandard.at/2000064258034/Vier-Jahre-Schwarz-Rot-in-Deutschland-Die-groesste-Aufgabe-stand\"><div id=\"content-header\" class=\"section\"><div class=\"badges\"><div class=\"clear\"></div></div><h1 itemprop=\"headline\">Vier Jahre Schwarz-Rot in Deutschland: Die größte Aufgabe stand nicht im Koalitionsplan</h1><h6 class=\"info\"><span itemprop=\"author\" itemscope=\"itemscope\" itemtype=\"https://schema.org/Person\"><span class=\"author\" itemprop=\"name\">Birgit Baumann aus Berlin</span></span><span class=\"date\"><meta itemprop=\"datePublished\" content=\"2017-09-19T08:43:52MESZ\"><meta itemprop=\"dateModified\" content=\"2017-09-20T08:00:22MESZ\">19. September 2017, 08:43</span></h6><div class=\"socialsharing\"><script type=\"text/javascript\">\\n\\t\\t\\t\\t\\tfunction popupwin(page, width, height, noscroll)\\n\\t\\t\\t\\t\\t{\\n\\t\\t\\t\\t\\t\\tpopup = window.open(page, \\'popupwin\\', \\'toolbar=no,menubar=no,scrollbars=\\' + (noscroll ? \\'no\\' : \\'yes\\') + \\',resizable=yes,\\' + \\'width=\\' + width + \\',height=\\' + height + \\',left=100,top=160\\');\\n\\t\\t\\t\\t\\t\\tif (popup != null) {\\n\\t\\t\\t\\t\\t\\t\\tpopup.focus();\\n\\t\\t\\t\\t\\t\\t}\\n\\t\\t\\t\\t\\t}\\n\\t\\t\\t\\t</script><a href=\"#forumstart\" class=\"postings\" onclick=\"STD.Tracking.pageActivity({\\'projectName\\': \\'mainweb\\', \\'activityName\\': \\'forum_quickaccess\\', \\'excludeOewa\\': STD.Tracking.getExistingOEWAPath()});\"><strong>182</strong><span> Postings</span></a><div class=\"icons\"><a class=\"twitter\" target=\"_blank\" title=\"Auf Twitter teilen\" href=\"https://twitter.com/share?url=http%3a%2f%2fderstandard.at%2f2000064258034%2fVier-Jahre-Schwarz-Rot-in-Deutschland-Die-groesste-Aufgabe-stand%3fref%3darticle&amp;text=Vier+Jahre+Schwarz-Rot+in+Deutschland%3a+Die+gr%c3%b6%c3%9fte+Aufgabe+stand+nicht+im+Koalitionsplan&amp;related=politikstandard&amp;via=politikstandard\" onclick=\"popupwin(\\'https://twitter.com/share?url=http%3a%2f%2fderstandard.at%2f2000064258034%2fVier-Jahre-Schwarz-Rot-in-Deutschland-Die-groesste-Aufgabe-stand%3fref%3darticle&amp;text=Vier+Jahre+Schwarz-Rot+in+Deutschland%3a+Die+gr%c3%b6%c3%9fte+Aufgabe+stand+nicht+im+Koalitionsplan&amp;related=politikstandard&amp;via=politikstandard\\', 530, 400);if (typeof ga !== \\'undefined\\') ga(\\'send\\', \\'social\\', \\'twitter\\', \\'tweet\\', \\'http://derstandard.at/2000064258034/Vier-Jahre-Schwarz-Rot-in-Deutschland-Die-groesste-Aufgabe-stand?ref=article\\'); return false;\"><span></span></a><a class=\"googleplus\" target=\"_blank\" title=\"Auf Google+ empfehlen\" href=\"https://plus.google.com/share?url=http%3a%2f%2fderstandard.at%2f2000064258034%2fVier-Jahre-Schwarz-Rot-in-Deutschland-Die-groesste-Aufgabe-stand%3fref%3darticle\" onclick=\"popupwin(\\'https://plus.google.com/share?url=http%3a%2f%2fderstandard.at%2f2000064258034%2fVier-Jahre-Schwarz-Rot-in-Deutschland-Die-groesste-Aufgabe-stand%3fref%3darticle\\', 530, 400);if (typeof ga !== \\'undefined\\') ga(\\'send\\', \\'social\\', \\'google\\', \\'share\\', \\'http://derstandard.at/2000064258034/Vier-Jahre-Schwarz-Rot-in-Deutschland-Die-groesste-Aufgabe-stand?ref=article\\'); return false;\"><span></span></a><a class=\"facebook\" target=\"_blank\" title=\"Auf Facebook empfehlen\" href=\"http://www.facebook.com/sharer/sharer.php?u=http%3a%2f%2fderstandard.at%2f2000064258034%2fVier-Jahre-Schwarz-Rot-in-Deutschland-Die-groesste-Aufgabe-stand%3fref%3darticle\" onclick=\"popupwin(\\'http://www.facebook.com/sharer/sharer.php?u=http%3a%2f%2fderstandard.at%2f2000064258034%2fVier-Jahre-Schwarz-Rot-in-Deutschland-Die-groesste-Aufgabe-stand%3fref%3darticle\\', 530, 400); if (typeof ga !== \\'undefined\\') ga(\\'send\\', \\'social\\', \\'facebook\\', \\'share\\', \\'http://derstandard.at/2000064258034/Vier-Jahre-Schwarz-Rot-in-Deutschland-Die-groesste-Aufgabe-stand?ref=article\\'); return false;\"><span></span></a></div></div><div class=\"clear\"></div></div><div id=\"content-main\" class=\"section\" itemprop=\"articleBody\"><div class=\"copytext\"><h2 itemprop=\"description\">Die große Koalition arbeitete zunächst einiges aus dem Koalitionsvertrag zügig ab. Auf die vielen Flüchtlinge war sie jedoch nicht vorbereitet</h2><p>Es begann mit großen Worten. \"Die Koalition aus CDU, CSU und SPD will dafür Sorge tragen, dass die Grundlagen für unseren Wohlstand und den Zusammenhalt gesichert und ausgebaut werden\", steht in der Präambel des Koalitionsvertrages, den CDU-Chefin Angela Merkel, CSU-Vorsitzender Horst Seehofer und SPD-Chef Sigmar Gabriel am 16. Dezember 2013 unterschrieben haben.</p><p>Sekt dazu trank man zwischen Christbäumen im Bundestag. Lange hatte Deutschland auf diese neue Regierung warten müssen. Bevor die Sozialdemokraten grünes Licht gaben, hatten sie noch die Zustimmung ihrer Mitglieder eingeholt.</p><p>Im schwarz-roten Regelwerk für die kommenden vier Jahre fand sich auch etwas zu Flüchtlingen. Man wollte die Asylverfahren verkürzen, mehr Mittel für das Bundesamt für Migration bereitstellen, die Außengrenzen besser kontrollieren. Es steht dort auch jener Satz, den Merkel später noch öfter seufzend Richtung EU-Partner sagen sollte: \"Bei der EU-Flüchtlingspolitik fordern wir mehr Solidarität unter den EU-Mitgliedstaaten.\" Allerdings finden sich diese Passagen erst auf Seite 108. Niemand ahnte, dass das Thema Asyl das zentrale dieser Regierung werden sollte.</p><h3><b>Mindestlohn kam bald </b></h3><p>Zunächst begann die Koalition also den Vertrag abzuarbeiten. Ins Auge stach dabei bald Arbeitsministerin Andrea Nahles (SPD), die rasch ein Gesetz für einen bundeseinheitlichen Mindestlohn vorlegte. \"Damit verbessern wir sofort das Leben von Millionen von Menschen\", sagte sie, als der Beschluss gefasst wurde. Am 1. Jänner 2015 trat das Gesetz in Kraft, zunächst betrug der Mindestlohn 8,50 Euro brutto pro Stunde, 2017 wurde er auf 8,84 Euro erhöht.</p><p>Nahles war es auch, die das Rentenpaket auf den Weg brachte und dabei für die Großkoalitionäre Balance sorgte. Die SPD bekam ihre \"Rente mit 63\", dafür durfte sich die CSU die \"Mütterrente\" auf die Fahnen schreiben. Nicht geschafft hingegen haben die Koalitionäre die \"solidarische Lebensleistungsrente\" für bedürftige Pensionisten und das Rückkehrrecht aus der Teilzeit in Vollzeit.</p><p>In der ersten Hälfte der Legislaturperiode war die SPD Antreiberin in der großen Koalition, sie setzte auch die Mietpreisbremse und die Frauenquote für Aufsichtsräte durch. Doch das änderte sich im Jahr 2015. Plötzlich war vieles, was im Koalitionsvertrag stand, Makulatur. Dass so viele Flüchtlinge nach Deutschland kommen würden, damit hatte niemand gerechnet.</p><h3><b>\"Wir schaffen das\" </b></h3><p>Monatelang drehte sich alles nur noch um den berühmten Merkel-Satz \"Deutschland ist ein starkes Land. Wir haben so vieles geschafft, wir schaffen das\", sagte sie am 31. August 2015. Kein Satz hat die Bürger mehr beschäftigt, keiner hat das Land mehr gespaltet.</p><p>Zunächst stand die Hilfsbereitschaft der Deutschen im Vordergrund, doch als immer mehr Zweifel aufkamen, wie die vielen Menschen (allein im Jahr 2015 waren es 890.000 Asylsuchende) auf Dauer untergebracht und integriert werden sollen, stieg Merkel auf die Bremse.</p><p>Zwar bemühte sich die Regierung um beschleunigte Asylverfahren, doch sie setzte auch die Grenzen enger. Albanien, Kosovo und Montenegro wurden zu sicheren Herkunftsstaaten erklärt, Flüchtlinge müssen sich nun finanziell an Deutschkursen beteiligen, der Familiennachzug wurde eingeschränkt.</p><h3>CDU/CSU-Streit</h3><p>Auch die Sicherheitsgesetze verschärfte Schwarz-Rot – Stichwort Fußfessel und leichtere Abschiebehaft für Extremisten. In Erinnerung ist aus dieser Zeit vor allem der Streit zwischen CDU und CSU. Im Februar 2016 warf Seehofer der Kanzlerin sogar eine \"Herrschaft des Unrechts\" vor.</p><p>Apropos starke Töne. \"Am 1. Januar 2016 wird die Pkw-Maut scharfgestellt\", verkündete Verkehrsminister Alexander Dobrindt (CSU) im Frühjahr 2014 vollmundig. Ein bisserl aber dauert es jetzt noch. Man will jetzt erst im Jahr 2019 starten. (Birgit Baumann aus Berlin, 19.9.2017)</p> </div><div class=\"supplemental\"><p><strong>Weiterlesen:</strong></p><p>CDU-Generalsekretär: <a href=\"/2000064258060\">\"Rechtsradikalen darf man keinen Meter Boden geben\"</a></p></div></div><div id=\"content-aside\"><ul id=\"media-list\"><!--medialist visual template starts\\r\\n<li>\\r\\n\\t<div class=\"visual\" itemprop=\"image\" itemscope=\"\" itemtype=\"https://schema.org/ImageObject\">\\r\\n\\t\\t<meta itemprop=\"url\" content=\"{{imagesource}}\" />\\r\\n\\t\\t<meta itemprop=\"width\" content=\"300\" />\\r\\n\\t\\t<meta itemprop=\"height\" content=\"{{imageheight}}\" />\\r\\n\\t\\t<img itemprop=\"image\" class=\"photo\" width=\"300\" height=\"{{imageheight}}\" data-width=\"300\" src=\"{{imagesource}}\" data-zoomable=\"true\" data-zoom-src=\"{{zoomsrc}}\" alt=\"\" title=\"\">\\r\\n\\t\\t<div class=\"image-zoom\"></div>\\r\\n\\t</div>\\r\\n\\t<div class=\"credits\"></div>\\r\\n\\t<div class=\"description\"></div>\\r\\n</li>\\r\\nmedialist visual template ends--><!--medialist extLink visual template starts\\r\\n\\t\\t\\t\\t\\t\\t<li>\\r\\n\\t\\t\\t\\t\\t\\t\\t<div class=\"visual\" itemprop=\"image\" itemscope=\"\" itemtype=\"https://schema.org/ImageObject\">\\r\\n\\t\\t\\t\\t\\t\\t\\t\\t<meta itemprop=\"url\" content=\"{{imagesource}}\" />\\r\\n\\t\\t\\t\\t\\t\\t\\t\\t<meta itemprop=\"width\" content=\"300\" />\\r\\n\\t\\t\\t\\t\\t\\t\\t\\t<meta itemprop=\"height\" content=\"{{imageheight}}\" />\\r\\n\\t\\t\\t\\t\\t\\t\\t\\t<a href=\"{{imageLink}}\" target=\"_blank\">\\r\\n\\t\\t\\t\\t\\t\\t\\t\\t\\t<img itemprop=\"image\" class=\"photo\" width=\"300\" height=\"{{imageheight}}\" data-width=\"300\" src=\"{{imagesource}}\" alt=\"\" title=\"\">\\r\\n\\t\\t\\t\\t\\t\\t\\t\\t</a>\\r\\n\\t\\t\\t\\t\\t\\t\\t</div>\\r\\n\\t\\t\\t\\t\\t\\t</li>\\r\\n\\t\\t\\t\\t\\t\\tmedialist extLink visual template ends--><!--medialist item visual starts--><li><div class=\"visual\" itemprop=\"image\" itemscope=\"\" itemtype=\"https://schema.org/ImageObject\"><meta itemprop=\"url\" content=\"http://images.derstandard.at/t/12/2017/09/18/APO--EPAPETER-KNEFFEL.jpg\"><meta itemprop=\"width\" content=\"300\"><meta itemprop=\"height\" content=\"152\"><img itemprop=\"image\" class=\"photo\" width=\"300\" height=\"152\" data-width=\"300\" src=\"//images.derstandard.at/t/12/2017/09/18/APO--EPAPETER-KNEFFEL.jpg\" data-zoomable=\"true\" data-zoom-src=\"//images.derstandard.at/2017/09/18/APO--EPAPETER-KNEFFEL.jpg\" alt=\"Monatelang drehte sich in Deutschland alles um das Thema Flüchtlinge – allein im Jahr 2015 kamen 890.000 Asylsuchende nach Deutschland.\" title=\"Monatelang drehte sich in Deutschland alles um das Thema Flüchtlinge – allein im Jahr 2015 kamen 890.000 Asylsuchende nach Deutschland.\"><div class=\"image-zoom\"></div></div><div class=\"credits\">foto: apa/epa / peter kneffel</div><div class=\"description\"><p>Monatelang drehte sich in Deutschland alles um das Thema Flüchtlinge – allein im Jahr 2015 kamen 890.000 Asylsuchende nach Deutschland.</p></div></li><!--medialist item visual ends--></ul></div><div class=\"section\"><ul class=\"lookup-links\"><li><a href=\"//derstandard.at/karriere/Jobsuche?ref=ll\"><img src=\"//derstandard.at/anzeiger/img/special/Karriere-Sessel-20px.png\" border=\"0\"></a> Qualität im Einstieg. Qualität im Aufstieg.</br>Alle Stellenangebote auf <a href=\"//derstandard.at/karriere/Jobsuche?ref=ll\">derStandard.at/Karriere</a>.</li></ul></div><div class=\"clear\"></div></div><div id=\"articleTools\"><div class=\"toolbar\"><div class=\"socialsharing\"><script type=\"text/javascript\">\\n\\t\\t\\t\\t\\tfunction popupwin(page, width, height, noscroll)\\n\\t\\t\\t\\t\\t{\\n\\t\\t\\t\\t\\t\\tpopup = window.open(page, \\'popupwin\\', \\'toolbar=no,menubar=no,scrollbars=\\' + (noscroll ? \\'no\\' : \\'yes\\') + \\',resizable=yes,\\' + \\'width=\\' + width + \\',height=\\' + height + \\',left=100,top=160\\');\\n\\t\\t\\t\\t\\t\\tif (popup != null) {\\n\\t\\t\\t\\t\\t\\t\\tpopup.focus();\\n\\t\\t\\t\\t\\t\\t}\\n\\t\\t\\t\\t\\t}\\n\\t\\t\\t\\t</script><div class=\"icons\"><a class=\"twitter\" target=\"_blank\" title=\"Auf Twitter teilen\" href=\"https://twitter.com/share?url=http%3a%2f%2fderstandard.at%2f2000064258034%2fVier-Jahre-Schwarz-Rot-in-Deutschland-Die-groesste-Aufgabe-stand%3fref%3darticle&amp;text=Vier+Jahre+Schwarz-Rot+in+Deutschland%3a+Die+gr%c3%b6%c3%9fte+Aufgabe+stand+nicht+im+Koalitionsplan&amp;related=politikstandard&amp;via=politikstandard\" onclick=\"popupwin(\\'https://twitter.com/share?url=http%3a%2f%2fderstandard.at%2f2000064258034%2fVier-Jahre-Schwarz-Rot-in-Deutschland-Die-groesste-Aufgabe-stand%3fref%3darticle&amp;text=Vier+Jahre+Schwarz-Rot+in+Deutschland%3a+Die+gr%c3%b6%c3%9fte+Aufgabe+stand+nicht+im+Koalitionsplan&amp;related=politikstandard&amp;via=politikstandard\\', 530, 400);if (typeof ga !== \\'undefined\\') ga(\\'send\\', \\'social\\', \\'twitter\\', \\'tweet\\', \\'http://derstandard.at/2000064258034/Vier-Jahre-Schwarz-Rot-in-Deutschland-Die-groesste-Aufgabe-stand?ref=article\\'); return false;\"><span></span></a><a class=\"googleplus\" target=\"_blank\" title=\"Auf Google+ empfehlen\" href=\"https://plus.google.com/share?url=http%3a%2f%2fderstandard.at%2f2000064258034%2fVier-Jahre-Schwarz-Rot-in-Deutschland-Die-groesste-Aufgabe-stand%3fref%3darticle\" onclick=\"popupwin(\\'https://plus.google.com/share?url=http%3a%2f%2fderstandard.at%2f2000064258034%2fVier-Jahre-Schwarz-Rot-in-Deutschland-Die-groesste-Aufgabe-stand%3fref%3darticle\\', 530, 400);if (typeof ga !== \\'undefined\\') ga(\\'send\\', \\'social\\', \\'google\\', \\'share\\', \\'http://derstandard.at/2000064258034/Vier-Jahre-Schwarz-Rot-in-Deutschland-Die-groesste-Aufgabe-stand?ref=article\\'); return false;\"><span></span></a><a class=\"facebook\" target=\"_blank\" title=\"Auf Facebook empfehlen\" href=\"http://www.facebook.com/sharer/sharer.php?u=http%3a%2f%2fderstandard.at%2f2000064258034%2fVier-Jahre-Schwarz-Rot-in-Deutschland-Die-groesste-Aufgabe-stand%3fref%3darticle\" onclick=\"popupwin(\\'http://www.facebook.com/sharer/sharer.php?u=http%3a%2f%2fderstandard.at%2f2000064258034%2fVier-Jahre-Schwarz-Rot-in-Deutschland-Die-groesste-Aufgabe-stand%3fref%3darticle\\', 530, 400); if (typeof ga !== \\'undefined\\') ga(\\'send\\', \\'social\\', \\'facebook\\', \\'share\\', \\'http://derstandard.at/2000064258034/Vier-Jahre-Schwarz-Rot-in-Deutschland-Die-groesste-Aufgabe-stand?ref=article\\'); return false;\"><span></span></a></div></div><div id=\"tools\"><div id=\"editors-feedback\" class=\"item\"><a title=\"E-Mail an die Redaktion\" href=\"mailto:online.aussenpolitik@derStandard.at?subject=Feedback zu: Vier Jahre Schwarz-Rot in Deutschland: Die gr%C3%B6%C3%9Fte Aufgabe stand nicht im Koalitionsplan\">Feedback</a></div><div id=\"print\" class=\"item\"><a class=\"std-button icon print\" title=\"Drucken\" onclick=\"window.print()\">Artikel drucken</a></div></div></div><div id=\"infoslide\"><span>Share if you care.</span></div><div class=\"links\"><a class=\"fanpage\" target=\"_blank\" href=\"http://www.facebook.com/derStandardatInland\" onclick=\"if (typeof ga !== \\'undefined\\') ga(\\'send\\', \\'event\\', \\'FacebookLinksArtikel\\', \\'Click_FacebookLinksUnderArticles\\',\\'International\\');\">derStandard.at/International auf Facebook</a><a href=\"/userprofil/emailabos/newsletter\" class=\"newsletter onclick\">International Newsletter abonnieren</a></div></div><div class=\"clear\"></div><a id=\"forumstart\" name=\"forumstart\" class=\"offset\"></a><div id=\"communityCanvas\" class=\"communityCanvas\"><div id=\"forumloading\">\\r\\n    <img src=\"/img/ui/icn_pending.gif\" />\\r\\n</div>\\r\\n<div id=\"forumcontainer\"></div>\\r\\n<script type=\"text/javascript\">\\r\\n    (function(forumLoader) {\\r\\n        if (typeof forumLoader !== \"object\") {\\r\\n            document.getElementById(\"forumloading\").innerHTML = \"\";\\r\\n            document.getElementById(\"forumcontainer\").innerHTML = \"<p>Das Forum kann derzeit nicht geladen werden. Bitte versuchen Sie es in ein paar Minuten erneut.</p>\";\\r\\n            throw new Error(\"Forum: ForumLoader not found. Please ensure ForumLoader is referenced before this .js file.\");\\r\\n        }\\r\\n        forumLoader.loadForum({\\r\\n            forumKeyType: 1,\\r\\n            forumKeyId: \\'2000064258034\\',\\r\\n            selectedPostingId: document.location.hash.split(\\'posting-\\')[1],\\r\\n            isDebug: false\\r\\n        });\\r\\n    }(window.ForumLoader));\\r\\n</script>\\r\\n<p id=\"forumdisclaimer\" class=\"context\" style=\"display:none\">\\r\\n    Die Kommentare von Usern und Userinnen geben nicht notwendigerweise die Meinung der Redaktion wieder.\\r\\n    Die Redaktion beh&#228;lt sich vor, Kommentare, welche straf- oder zivilrechtliche Normen verletzen,\\r\\n    den guten Sitten widersprechen oder sonst dem Ansehen des Mediums zuwiderlaufen\\r\\n    (<a target=\"_blank\" href=\"/2934632\"><strong>siehe ausf&#252;hrliche Forenregeln</strong></a>),\\r\\n    zu entfernen. Der/Die Benutzer/in kann diesfalls keine Anspr&#252;che stellen.\\r\\n    Weiters beh&#228;lt sich die STANDARD Verlagsgesellschaft m.b.H. vor, Schadenersatzanspr&#252;che\\r\\n    geltend zu machen und strafrechtlich relevante Tatbest&#228;nde zur Anzeige zu bringen.\\r\\n</p></div><div id=\"footer\" class=\"context stdChrome\"><div class=\"wrapper\"><div class=\"copyright context\"><strong>&copy;&nbsp;STANDARD Verlagsgesellschaft m.b.H. 2017</strong><div>Alle Rechte vorbehalten. Nutzung ausschließlich für den privaten Eigenbedarf.<br>Eine Weiterverwendung und Reproduktion über den persönlichen Gebrauch hinaus ist nicht gestattet.</div></div><div class=\"imprint\"><div><a href=\"/OnlineImpressum\">Impressum &amp; Offenlegung</a></div><div><a href=\"/Datenschutzrichtlinie\">Datenschutzrichtlinie</a></div><div><a href=\"/Agb\">AGB</a></div></div><div class=\"product-menu context\"><ul><li><a href=\"http://derstandard.at\" target=\"_blank\" class=\"context\" title=\"derStandard.at - Nachrichten in Echtzeit\">derStandard.at</a></li><li><a href=\"/dieStandard\" target=\"_blank\" class=\"context\" title=\"dieStandard.at - Nachrichten zu Frauenpolitik und Geschlechterfragen\"><i>die</i>Standard.at\\r\\n\\t\\t\\t\\t\\t\\t\\t</a></li><li><a href=\"https://www.derstandard.de\" target=\"_blank\" class=\"context\" title=\"derStandard.de\">derStandard.de</a></li><li><a href=\"http://www.finden.at\" target=\"_blank\" class=\"context\" title=\"FINDEN.at - Autos, Immobilien, Jobs\"><span>FINDEN</span>.at</a></li><li><a href=\"http://www.autogott.at\" target=\"_blank\" class=\"context\" title=\"Österreichs unabhängiger Neuwagenvermittler\"><span>AUTOGOTT.AT</span></a></li><li><a href=\"http://hausbrot.at/\" target=\"_blank\" class=\"context\" title=\"Frisches Frühstück direkt an die Tür\"><span>HAUS<i>Brot.at</i></span></a></li></ul><div class=\"clear\"></div></div></div></div></div><script type=\"text/javascript\" src=\"/js/Survey.js?v=451\"></script><!--START NUGGAD Survey--><script type=\"text/javascript\">var sur = new Survey(\\'n\\', \\'http://survey.nuggad.net/c/layer-html/s:derstandard.at:derstandard.at/script.js\\');</script><!--ENDE NUGGAD Survey--></body></html>'"
      ]
     },
     "execution_count": 5,
     "metadata": {},
     "output_type": "execute_result"
    }
   ],
   "source": [
    "article.text"
   ]
  },
  {
   "cell_type": "markdown",
   "metadata": {},
   "source": [
    "*use lxml to get the content of the article*"
   ]
  },
  {
   "cell_type": "code",
   "execution_count": 6,
   "metadata": {},
   "outputs": [],
   "source": [
    "from lxml import html"
   ]
  },
  {
   "cell_type": "code",
   "execution_count": 7,
   "metadata": {},
   "outputs": [],
   "source": [
    "root = html.fromstring(article.content)"
   ]
  },
  {
   "cell_type": "code",
   "execution_count": 8,
   "metadata": {},
   "outputs": [
    {
     "data": {
      "text/plain": [
       "<Element html at 0x7fce024ead68>"
      ]
     },
     "execution_count": 8,
     "metadata": {},
     "output_type": "execute_result"
    }
   ],
   "source": [
    "root"
   ]
  },
  {
   "cell_type": "code",
   "execution_count": 9,
   "metadata": {},
   "outputs": [],
   "source": [
    "article_header = root.xpath(\"//div[@id = 'content-header']/h1/text()\")[0]"
   ]
  },
  {
   "cell_type": "code",
   "execution_count": 10,
   "metadata": {},
   "outputs": [
    {
     "data": {
      "text/plain": [
       "'Vier Jahre Schwarz-Rot in Deutschland: Die größte Aufgabe stand nicht im Koalitionsplan'"
      ]
     },
     "execution_count": 10,
     "metadata": {},
     "output_type": "execute_result"
    }
   ],
   "source": [
    "article_header"
   ]
  },
  {
   "cell_type": "code",
   "execution_count": 11,
   "metadata": {},
   "outputs": [],
   "source": [
    "article_text = root.xpath(\"//div[@id = 'content-main']/div\")"
   ]
  },
  {
   "cell_type": "code",
   "execution_count": 12,
   "metadata": {},
   "outputs": [
    {
     "data": {
      "text/plain": [
       "[<Element div at 0x7fce024eaef8>, <Element div at 0x7fce024e8048>]"
      ]
     },
     "execution_count": 12,
     "metadata": {},
     "output_type": "execute_result"
    }
   ],
   "source": [
    "article_text"
   ]
  },
  {
   "cell_type": "code",
   "execution_count": 13,
   "metadata": {},
   "outputs": [],
   "source": [
    "article_text = article_text[0]"
   ]
  },
  {
   "cell_type": "code",
   "execution_count": 14,
   "metadata": {},
   "outputs": [],
   "source": [
    "article_full_text = ''\n",
    "for elem in article_text:\n",
    "    a = elem.xpath('./text()')\n",
    "    if len(a) == 1:\n",
    "        article_full_text += a[0] + ' '"
   ]
  },
  {
   "cell_type": "code",
   "execution_count": 15,
   "metadata": {},
   "outputs": [
    {
     "data": {
      "text/plain": [
       "'Die große Koalition arbeitete zunächst einiges aus dem Koalitionsvertrag zügig ab. Auf die vielen Flüchtlinge war sie jedoch nicht vorbereitet Es begann mit großen Worten. \"Die Koalition aus CDU, CSU und SPD will dafür Sorge tragen, dass die Grundlagen für unseren Wohlstand und den Zusammenhalt gesichert und ausgebaut werden\", steht in der Präambel des Koalitionsvertrages, den CDU-Chefin Angela Merkel, CSU-Vorsitzender Horst Seehofer und SPD-Chef Sigmar Gabriel am 16. Dezember 2013 unterschrieben haben. Sekt dazu trank man zwischen Christbäumen im Bundestag. Lange hatte Deutschland auf diese neue Regierung warten müssen. Bevor die Sozialdemokraten grünes Licht gaben, hatten sie noch die Zustimmung ihrer Mitglieder eingeholt. Im schwarz-roten Regelwerk für die kommenden vier Jahre fand sich auch etwas zu Flüchtlingen. Man wollte die Asylverfahren verkürzen, mehr Mittel für das Bundesamt für Migration bereitstellen, die Außengrenzen besser kontrollieren. Es steht dort auch jener Satz, den Merkel später noch öfter seufzend Richtung EU-Partner sagen sollte: \"Bei der EU-Flüchtlingspolitik fordern wir mehr Solidarität unter den EU-Mitgliedstaaten.\" Allerdings finden sich diese Passagen erst auf Seite 108. Niemand ahnte, dass das Thema Asyl das zentrale dieser Regierung werden sollte. Zunächst begann die Koalition also den Vertrag abzuarbeiten. Ins Auge stach dabei bald Arbeitsministerin Andrea Nahles (SPD), die rasch ein Gesetz für einen bundeseinheitlichen Mindestlohn vorlegte. \"Damit verbessern wir sofort das Leben von Millionen von Menschen\", sagte sie, als der Beschluss gefasst wurde. Am 1. Jänner 2015 trat das Gesetz in Kraft, zunächst betrug der Mindestlohn 8,50 Euro brutto pro Stunde, 2017 wurde er auf 8,84 Euro erhöht. Nahles war es auch, die das Rentenpaket auf den Weg brachte und dabei für die Großkoalitionäre Balance sorgte. Die SPD bekam ihre \"Rente mit 63\", dafür durfte sich die CSU die \"Mütterrente\" auf die Fahnen schreiben. Nicht geschafft hingegen haben die Koalitionäre die \"solidarische Lebensleistungsrente\" für bedürftige Pensionisten und das Rückkehrrecht aus der Teilzeit in Vollzeit. In der ersten Hälfte der Legislaturperiode war die SPD Antreiberin in der großen Koalition, sie setzte auch die Mietpreisbremse und die Frauenquote für Aufsichtsräte durch. Doch das änderte sich im Jahr 2015. Plötzlich war vieles, was im Koalitionsvertrag stand, Makulatur. Dass so viele Flüchtlinge nach Deutschland kommen würden, damit hatte niemand gerechnet. Monatelang drehte sich alles nur noch um den berühmten Merkel-Satz \"Deutschland ist ein starkes Land. Wir haben so vieles geschafft, wir schaffen das\", sagte sie am 31. August 2015. Kein Satz hat die Bürger mehr beschäftigt, keiner hat das Land mehr gespaltet. Zunächst stand die Hilfsbereitschaft der Deutschen im Vordergrund, doch als immer mehr Zweifel aufkamen, wie die vielen Menschen (allein im Jahr 2015 waren es 890.000 Asylsuchende) auf Dauer untergebracht und integriert werden sollen, stieg Merkel auf die Bremse. Zwar bemühte sich die Regierung um beschleunigte Asylverfahren, doch sie setzte auch die Grenzen enger. Albanien, Kosovo und Montenegro wurden zu sicheren Herkunftsstaaten erklärt, Flüchtlinge müssen sich nun finanziell an Deutschkursen beteiligen, der Familiennachzug wurde eingeschränkt. CDU/CSU-Streit Auch die Sicherheitsgesetze verschärfte Schwarz-Rot – Stichwort Fußfessel und leichtere Abschiebehaft für Extremisten. In Erinnerung ist aus dieser Zeit vor allem der Streit zwischen CDU und CSU. Im Februar 2016 warf Seehofer der Kanzlerin sogar eine \"Herrschaft des Unrechts\" vor. Apropos starke Töne. \"Am 1. Januar 2016 wird die Pkw-Maut scharfgestellt\", verkündete Verkehrsminister Alexander Dobrindt (CSU) im Frühjahr 2014 vollmundig. Ein bisserl aber dauert es jetzt noch. Man will jetzt erst im Jahr 2019 starten. (Birgit Baumann aus Berlin, 19.9.2017) '"
      ]
     },
     "execution_count": 15,
     "metadata": {},
     "output_type": "execute_result"
    }
   ],
   "source": [
    "article_full_text"
   ]
  },
  {
   "cell_type": "markdown",
   "metadata": {},
   "source": [
    "### spaCy"
   ]
  },
  {
   "cell_type": "markdown",
   "metadata": {},
   "source": [
    "*run spaCy on the text*"
   ]
  },
  {
   "cell_type": "code",
   "execution_count": 48,
   "metadata": {},
   "outputs": [],
   "source": [
    "txt_nlp = nlp(article_full_text)"
   ]
  },
  {
   "cell_type": "markdown",
   "metadata": {},
   "source": [
    "*the NEs*"
   ]
  },
  {
   "cell_type": "code",
   "execution_count": 49,
   "metadata": {},
   "outputs": [
    {
     "name": "stdout",
     "output_type": "stream",
     "text": [
      "word: CDU, entity: ORG\n",
      "word: CSU, entity: ORG\n",
      "word: SPD, entity: ORG\n",
      "word: Angela Merkel, entity: PERSON\n",
      "word: CSU, entity: ORG\n",
      "word: Horst Seehofer, entity: PERSON\n",
      "word: SPD, entity: ORG\n",
      "word: Lange, entity: PERSON\n",
      "word: Deutschland, entity: LOC\n",
      "word: Bundesamt für Migration, entity: ORG\n",
      "word: Merkel, entity: PERSON\n",
      "word: EU, entity: LOC\n",
      "word: EU, entity: ORG\n",
      "word: EU, entity: ORG\n",
      "word: Andrea Nahles, entity: PERSON\n",
      "word: SPD, entity: ORG\n",
      "word: Nahles, entity: PERSON\n",
      "word: SPD, entity: ORG\n",
      "word: CSU, entity: ORG\n",
      "word: Vollzeit, entity: LOC\n",
      "word: SPD, entity: ORG\n",
      "word: Deutschland, entity: LOC\n",
      "word: Merkel, entity: PERSON\n",
      "word: Deutschland, entity: LOC\n",
      "word: Deutschen, entity: LOC\n",
      "word: Merkel, entity: PERSON\n",
      "word: Albanien, entity: LOC\n",
      "word: Kosovo, entity: LOC\n",
      "word: Montenegro, entity: LOC\n",
      "word: CDU, entity: ORG\n",
      "word: CSU, entity: ORG\n",
      "word: Schwarz, entity: PERSON\n",
      "word: CDU, entity: ORG\n",
      "word: CSU, entity: ORG\n",
      "word: Seehofer, entity: PERSON\n",
      "word: Alexander Dobrindt, entity: PERSON\n",
      "word: CSU, entity: ORG\n",
      "word: Birgit Baumann, entity: PERSON\n",
      "word: Berlin, entity: LOC\n"
     ]
    }
   ],
   "source": [
    "for ent in txt_nlp.ents:\n",
    "    print('word: {}, entity: {}'.format(ent.text, ent.label_))"
   ]
  },
  {
   "cell_type": "markdown",
   "metadata": {},
   "source": [
    "#### the structure of spaCy\n",
    "A document analysed in spaCy is hierarchically structured:\n",
    "* Doc: This is the class of the document. Attributes and functions allow to retrieve the text (Doc.text), the entities (Doc.ents), calculating semantic similarity between texts (Doc.similarity(Doc)) etc.\n",
    "* Token: Class for a single token in a spaCy analysed text. Has several attributes to retrieve things like the shape of the token, if it is part of a NE, the id in the vocabulary, the lemma (unfortunately not yet implemented in the German model) etc.\n",
    "* Span: Class spanning several tokens together. E.g. multi word NEs, sentences"
   ]
  },
  {
   "cell_type": "code",
   "execution_count": 50,
   "metadata": {},
   "outputs": [
    {
     "data": {
      "text/plain": [
       "Bundesamt für Migration"
      ]
     },
     "execution_count": 50,
     "metadata": {},
     "output_type": "execute_result"
    }
   ],
   "source": [
    "txt_nlp.ents[9]"
   ]
  },
  {
   "cell_type": "code",
   "execution_count": 51,
   "metadata": {},
   "outputs": [
    {
     "data": {
      "text/plain": [
       "spacy.tokens.span.Span"
      ]
     },
     "execution_count": 51,
     "metadata": {},
     "output_type": "execute_result"
    }
   ],
   "source": [
    "type(txt_nlp.ents[9])"
   ]
  },
  {
   "cell_type": "code",
   "execution_count": 52,
   "metadata": {},
   "outputs": [
    {
     "name": "stdout",
     "output_type": "stream",
     "text": [
      "token: Bundesamt, id in vocab: 9068, shape: Xxxxx, IOB: B, POS: NOUN\n",
      "token: für, id in vocab: 483, shape: xxx, IOB: I, POS: ADP\n",
      "token: Migration, id in vocab: 9989, shape: Xxxxx, IOB: I, POS: NOUN\n"
     ]
    }
   ],
   "source": [
    "for tok in txt_nlp.ents[9]:\n",
    "    print('token: {}, id in vocab: {}, shape: {}, IOB: {}, POS: {}'.format(tok.orth_,\n",
    "                                                                           tok.orth,\n",
    "                                                                           tok.shape_,\n",
    "                                                                           tok.ent_iob_,\n",
    "                                                                           tok.pos_))"
   ]
  },
  {
   "cell_type": "code",
   "execution_count": 53,
   "metadata": {},
   "outputs": [
    {
     "name": "stdout",
     "output_type": "stream",
     "text": [
      "Die große Koalition arbeitete zunächst einiges aus dem Koalitionsvertrag zügig ab.\n",
      "<class 'spacy.tokens.span.Span'>\n",
      "Auf die vielen Flüchtlinge war sie jedoch nicht vorbereitet\n",
      "<class 'spacy.tokens.span.Span'>\n",
      "Es begann mit großen Worten.\n",
      "<class 'spacy.tokens.span.Span'>\n",
      "\"\n",
      "<class 'spacy.tokens.span.Span'>\n",
      "Die Koalition aus CDU, CSU und SPD will dafür Sorge tragen, dass die Grundlagen für unseren Wohlstand und den Zusammenhalt gesichert und ausgebaut werden\", steht in der Präambel des Koalitionsvertrages, den CDU-Chefin Angela Merkel, CSU-Vorsitzender Horst Seehofer und SPD-Chef Sigmar Gabriel am 16.\n",
      "<class 'spacy.tokens.span.Span'>\n",
      "Dezember 2013 unterschrieben haben.\n",
      "<class 'spacy.tokens.span.Span'>\n",
      "Sekt dazu trank man zwischen Christbäumen im Bundestag.\n",
      "<class 'spacy.tokens.span.Span'>\n"
     ]
    }
   ],
   "source": [
    "for idx, s in enumerate(txt_nlp.sents):\n",
    "    print(s)\n",
    "    print(type(s))\n",
    "    if idx > 5:\n",
    "        break"
   ]
  },
  {
   "cell_type": "code",
   "execution_count": 54,
   "metadata": {},
   "outputs": [
    {
     "name": "stdout",
     "output_type": "stream",
     "text": [
      "token: Die, id in vocab: 493, shape: Xxx, IOB: O, POS: DET\n",
      "token: große, id in vocab: 791, shape: xxxx, IOB: O, POS: ADJ\n",
      "token: Koalition, id in vocab: 5164, shape: Xxxxx, IOB: O, POS: NOUN\n",
      "token: arbeitete, id in vocab: 4455, shape: xxxx, IOB: O, POS: VERB\n",
      "token: zunächst, id in vocab: 1050, shape: xxxx, IOB: O, POS: ADV\n",
      "token: einiges, id in vocab: 1650, shape: xxxx, IOB: O, POS: PRON\n",
      "token: aus, id in vocab: 506, shape: xxx, IOB: O, POS: ADP\n",
      "token: dem, id in vocab: 489, shape: xxx, IOB: O, POS: DET\n",
      "token: Koalitionsvertrag, id in vocab: 19332, shape: Xxxxx, IOB: O, POS: NOUN\n",
      "token: zügig, id in vocab: 7880, shape: xxxx, IOB: O, POS: ADJ\n",
      "token: ab, id in vocab: 604, shape: xx, IOB: O, POS: PART\n",
      "token: ., id in vocab: 1114006, shape: ., IOB: O, POS: PUNCT\n"
     ]
    }
   ],
   "source": [
    "for idx, s in enumerate(txt_nlp.sents):\n",
    "    if idx > 0:\n",
    "        break\n",
    "    for tok in s:\n",
    "        print('token: {}, id in vocab: {}, shape: {}, IOB: {}, POS: {}'.format(tok.orth_,\n",
    "                                                                           tok.orth,\n",
    "                                                                           tok.shape_,\n",
    "                                                                           tok.ent_iob_,\n",
    "                                                                           tok.pos_))"
   ]
  },
  {
   "cell_type": "markdown",
   "metadata": {},
   "source": [
    "### entity linking\n",
    "*put the NEs in a spreadsheet*"
   ]
  },
  {
   "cell_type": "code",
   "execution_count": 55,
   "metadata": {},
   "outputs": [],
   "source": [
    "import pandas as pd"
   ]
  },
  {
   "cell_type": "code",
   "execution_count": 56,
   "metadata": {},
   "outputs": [],
   "source": [
    "df = pd.DataFrame(columns=['id', 'term', 'start char', 'end char', 'type'])"
   ]
  },
  {
   "cell_type": "code",
   "execution_count": 57,
   "metadata": {},
   "outputs": [
    {
     "data": {
      "text/html": [
       "<div>\n",
       "<style>\n",
       "    .dataframe thead tr:only-child th {\n",
       "        text-align: right;\n",
       "    }\n",
       "\n",
       "    .dataframe thead th {\n",
       "        text-align: left;\n",
       "    }\n",
       "\n",
       "    .dataframe tbody tr th {\n",
       "        vertical-align: top;\n",
       "    }\n",
       "</style>\n",
       "<table border=\"1\" class=\"dataframe\">\n",
       "  <thead>\n",
       "    <tr style=\"text-align: right;\">\n",
       "      <th></th>\n",
       "      <th>id</th>\n",
       "      <th>term</th>\n",
       "      <th>start char</th>\n",
       "      <th>end char</th>\n",
       "      <th>type</th>\n",
       "    </tr>\n",
       "  </thead>\n",
       "  <tbody>\n",
       "  </tbody>\n",
       "</table>\n",
       "</div>"
      ],
      "text/plain": [
       "Empty DataFrame\n",
       "Columns: [id, term, start char, end char, type]\n",
       "Index: []"
      ]
     },
     "execution_count": 57,
     "metadata": {},
     "output_type": "execute_result"
    }
   ],
   "source": [
    "df"
   ]
  },
  {
   "cell_type": "code",
   "execution_count": 58,
   "metadata": {},
   "outputs": [],
   "source": [
    "for idx, ent in enumerate(txt_nlp.ents):\n",
    "    ids = [str(e.i) for e in ent]\n",
    "    df = df.append({'id': ','.join(ids),\n",
    "               'term': ent.text,\n",
    "               'start char': ent.start_char,\n",
    "               'end char': ent.end_char,\n",
    "               'type': ent.label_}, ignore_index=True)"
   ]
  },
  {
   "cell_type": "code",
   "execution_count": 59,
   "metadata": {},
   "outputs": [
    {
     "data": {
      "text/html": [
       "<div>\n",
       "<style>\n",
       "    .dataframe thead tr:only-child th {\n",
       "        text-align: right;\n",
       "    }\n",
       "\n",
       "    .dataframe thead th {\n",
       "        text-align: left;\n",
       "    }\n",
       "\n",
       "    .dataframe tbody tr th {\n",
       "        vertical-align: top;\n",
       "    }\n",
       "</style>\n",
       "<table border=\"1\" class=\"dataframe\">\n",
       "  <thead>\n",
       "    <tr style=\"text-align: right;\">\n",
       "      <th></th>\n",
       "      <th>id</th>\n",
       "      <th>term</th>\n",
       "      <th>start char</th>\n",
       "      <th>end char</th>\n",
       "      <th>type</th>\n",
       "    </tr>\n",
       "  </thead>\n",
       "  <tbody>\n",
       "    <tr>\n",
       "      <th>0</th>\n",
       "      <td>31</td>\n",
       "      <td>CDU</td>\n",
       "      <td>191</td>\n",
       "      <td>194</td>\n",
       "      <td>ORG</td>\n",
       "    </tr>\n",
       "    <tr>\n",
       "      <th>1</th>\n",
       "      <td>33</td>\n",
       "      <td>CSU</td>\n",
       "      <td>196</td>\n",
       "      <td>199</td>\n",
       "      <td>ORG</td>\n",
       "    </tr>\n",
       "    <tr>\n",
       "      <th>2</th>\n",
       "      <td>35</td>\n",
       "      <td>SPD</td>\n",
       "      <td>204</td>\n",
       "      <td>207</td>\n",
       "      <td>ORG</td>\n",
       "    </tr>\n",
       "    <tr>\n",
       "      <th>3</th>\n",
       "      <td>67,68</td>\n",
       "      <td>Angela Merkel</td>\n",
       "      <td>391</td>\n",
       "      <td>404</td>\n",
       "      <td>PERSON</td>\n",
       "    </tr>\n",
       "    <tr>\n",
       "      <th>4</th>\n",
       "      <td>70</td>\n",
       "      <td>CSU</td>\n",
       "      <td>406</td>\n",
       "      <td>409</td>\n",
       "      <td>ORG</td>\n",
       "    </tr>\n",
       "    <tr>\n",
       "      <th>5</th>\n",
       "      <td>73,74</td>\n",
       "      <td>Horst Seehofer</td>\n",
       "      <td>423</td>\n",
       "      <td>437</td>\n",
       "      <td>PERSON</td>\n",
       "    </tr>\n",
       "    <tr>\n",
       "      <th>6</th>\n",
       "      <td>76</td>\n",
       "      <td>SPD</td>\n",
       "      <td>442</td>\n",
       "      <td>445</td>\n",
       "      <td>ORG</td>\n",
       "    </tr>\n",
       "    <tr>\n",
       "      <th>7</th>\n",
       "      <td>98</td>\n",
       "      <td>Lange</td>\n",
       "      <td>565</td>\n",
       "      <td>570</td>\n",
       "      <td>PERSON</td>\n",
       "    </tr>\n",
       "    <tr>\n",
       "      <th>8</th>\n",
       "      <td>100</td>\n",
       "      <td>Deutschland</td>\n",
       "      <td>577</td>\n",
       "      <td>588</td>\n",
       "      <td>LOC</td>\n",
       "    </tr>\n",
       "    <tr>\n",
       "      <th>9</th>\n",
       "      <td>151,152,153</td>\n",
       "      <td>Bundesamt für Migration</td>\n",
       "      <td>889</td>\n",
       "      <td>912</td>\n",
       "      <td>ORG</td>\n",
       "    </tr>\n",
       "    <tr>\n",
       "      <th>10</th>\n",
       "      <td>169</td>\n",
       "      <td>Merkel</td>\n",
       "      <td>1002</td>\n",
       "      <td>1008</td>\n",
       "      <td>PERSON</td>\n",
       "    </tr>\n",
       "    <tr>\n",
       "      <th>11</th>\n",
       "      <td>175</td>\n",
       "      <td>EU</td>\n",
       "      <td>1045</td>\n",
       "      <td>1047</td>\n",
       "      <td>LOC</td>\n",
       "    </tr>\n",
       "    <tr>\n",
       "      <th>12</th>\n",
       "      <td>184</td>\n",
       "      <td>EU</td>\n",
       "      <td>1079</td>\n",
       "      <td>1081</td>\n",
       "      <td>ORG</td>\n",
       "    </tr>\n",
       "    <tr>\n",
       "      <th>13</th>\n",
       "      <td>193</td>\n",
       "      <td>EU</td>\n",
       "      <td>1140</td>\n",
       "      <td>1142</td>\n",
       "      <td>ORG</td>\n",
       "    </tr>\n",
       "    <tr>\n",
       "      <th>14</th>\n",
       "      <td>237,238</td>\n",
       "      <td>Andrea Nahles</td>\n",
       "      <td>1404</td>\n",
       "      <td>1417</td>\n",
       "      <td>PERSON</td>\n",
       "    </tr>\n",
       "    <tr>\n",
       "      <th>15</th>\n",
       "      <td>240</td>\n",
       "      <td>SPD</td>\n",
       "      <td>1419</td>\n",
       "      <td>1422</td>\n",
       "      <td>ORG</td>\n",
       "    </tr>\n",
       "    <tr>\n",
       "      <th>16</th>\n",
       "      <td>304</td>\n",
       "      <td>Nahles</td>\n",
       "      <td>1751</td>\n",
       "      <td>1757</td>\n",
       "      <td>PERSON</td>\n",
       "    </tr>\n",
       "    <tr>\n",
       "      <th>17</th>\n",
       "      <td>325</td>\n",
       "      <td>SPD</td>\n",
       "      <td>1866</td>\n",
       "      <td>1869</td>\n",
       "      <td>ORG</td>\n",
       "    </tr>\n",
       "    <tr>\n",
       "      <th>18</th>\n",
       "      <td>338</td>\n",
       "      <td>CSU</td>\n",
       "      <td>1919</td>\n",
       "      <td>1922</td>\n",
       "      <td>ORG</td>\n",
       "    </tr>\n",
       "    <tr>\n",
       "      <th>19</th>\n",
       "      <td>369</td>\n",
       "      <td>Vollzeit</td>\n",
       "      <td>2125</td>\n",
       "      <td>2133</td>\n",
       "      <td>LOC</td>\n",
       "    </tr>\n",
       "    <tr>\n",
       "      <th>20</th>\n",
       "      <td>379</td>\n",
       "      <td>SPD</td>\n",
       "      <td>2186</td>\n",
       "      <td>2189</td>\n",
       "      <td>ORG</td>\n",
       "    </tr>\n",
       "    <tr>\n",
       "      <th>21</th>\n",
       "      <td>422</td>\n",
       "      <td>Deutschland</td>\n",
       "      <td>2440</td>\n",
       "      <td>2451</td>\n",
       "      <td>LOC</td>\n",
       "    </tr>\n",
       "    <tr>\n",
       "      <th>22</th>\n",
       "      <td>440</td>\n",
       "      <td>Merkel</td>\n",
       "      <td>2553</td>\n",
       "      <td>2559</td>\n",
       "      <td>PERSON</td>\n",
       "    </tr>\n",
       "    <tr>\n",
       "      <th>23</th>\n",
       "      <td>444</td>\n",
       "      <td>Deutschland</td>\n",
       "      <td>2566</td>\n",
       "      <td>2577</td>\n",
       "      <td>LOC</td>\n",
       "    </tr>\n",
       "    <tr>\n",
       "      <th>24</th>\n",
       "      <td>489</td>\n",
       "      <td>Deutschen</td>\n",
       "      <td>2800</td>\n",
       "      <td>2809</td>\n",
       "      <td>LOC</td>\n",
       "    </tr>\n",
       "    <tr>\n",
       "      <th>25</th>\n",
       "      <td>523</td>\n",
       "      <td>Merkel</td>\n",
       "      <td>3000</td>\n",
       "      <td>3006</td>\n",
       "      <td>PERSON</td>\n",
       "    </tr>\n",
       "    <tr>\n",
       "      <th>26</th>\n",
       "      <td>545</td>\n",
       "      <td>Albanien</td>\n",
       "      <td>3127</td>\n",
       "      <td>3135</td>\n",
       "      <td>LOC</td>\n",
       "    </tr>\n",
       "    <tr>\n",
       "      <th>27</th>\n",
       "      <td>547</td>\n",
       "      <td>Kosovo</td>\n",
       "      <td>3137</td>\n",
       "      <td>3143</td>\n",
       "      <td>LOC</td>\n",
       "    </tr>\n",
       "    <tr>\n",
       "      <th>28</th>\n",
       "      <td>549</td>\n",
       "      <td>Montenegro</td>\n",
       "      <td>3148</td>\n",
       "      <td>3158</td>\n",
       "      <td>LOC</td>\n",
       "    </tr>\n",
       "    <tr>\n",
       "      <th>29</th>\n",
       "      <td>570</td>\n",
       "      <td>CDU</td>\n",
       "      <td>3313</td>\n",
       "      <td>3316</td>\n",
       "      <td>ORG</td>\n",
       "    </tr>\n",
       "    <tr>\n",
       "      <th>30</th>\n",
       "      <td>572</td>\n",
       "      <td>CSU</td>\n",
       "      <td>3317</td>\n",
       "      <td>3320</td>\n",
       "      <td>ORG</td>\n",
       "    </tr>\n",
       "    <tr>\n",
       "      <th>31</th>\n",
       "      <td>579</td>\n",
       "      <td>Schwarz</td>\n",
       "      <td>3368</td>\n",
       "      <td>3375</td>\n",
       "      <td>PERSON</td>\n",
       "    </tr>\n",
       "    <tr>\n",
       "      <th>32</th>\n",
       "      <td>602</td>\n",
       "      <td>CDU</td>\n",
       "      <td>3511</td>\n",
       "      <td>3514</td>\n",
       "      <td>ORG</td>\n",
       "    </tr>\n",
       "    <tr>\n",
       "      <th>33</th>\n",
       "      <td>604</td>\n",
       "      <td>CSU</td>\n",
       "      <td>3519</td>\n",
       "      <td>3522</td>\n",
       "      <td>ORG</td>\n",
       "    </tr>\n",
       "    <tr>\n",
       "      <th>34</th>\n",
       "      <td>610</td>\n",
       "      <td>Seehofer</td>\n",
       "      <td>3545</td>\n",
       "      <td>3553</td>\n",
       "      <td>PERSON</td>\n",
       "    </tr>\n",
       "    <tr>\n",
       "      <th>35</th>\n",
       "      <td>642,643</td>\n",
       "      <td>Alexander Dobrindt</td>\n",
       "      <td>3713</td>\n",
       "      <td>3731</td>\n",
       "      <td>PERSON</td>\n",
       "    </tr>\n",
       "    <tr>\n",
       "      <th>36</th>\n",
       "      <td>645</td>\n",
       "      <td>CSU</td>\n",
       "      <td>3733</td>\n",
       "      <td>3736</td>\n",
       "      <td>ORG</td>\n",
       "    </tr>\n",
       "    <tr>\n",
       "      <th>37</th>\n",
       "      <td>670,671</td>\n",
       "      <td>Birgit Baumann</td>\n",
       "      <td>3849</td>\n",
       "      <td>3863</td>\n",
       "      <td>PERSON</td>\n",
       "    </tr>\n",
       "    <tr>\n",
       "      <th>38</th>\n",
       "      <td>673</td>\n",
       "      <td>Berlin</td>\n",
       "      <td>3868</td>\n",
       "      <td>3874</td>\n",
       "      <td>LOC</td>\n",
       "    </tr>\n",
       "  </tbody>\n",
       "</table>\n",
       "</div>"
      ],
      "text/plain": [
       "             id                     term start char end char    type\n",
       "0            31                      CDU        191      194     ORG\n",
       "1            33                      CSU        196      199     ORG\n",
       "2            35                      SPD        204      207     ORG\n",
       "3         67,68            Angela Merkel        391      404  PERSON\n",
       "4            70                      CSU        406      409     ORG\n",
       "5         73,74           Horst Seehofer        423      437  PERSON\n",
       "6            76                      SPD        442      445     ORG\n",
       "7            98                    Lange        565      570  PERSON\n",
       "8           100              Deutschland        577      588     LOC\n",
       "9   151,152,153  Bundesamt für Migration        889      912     ORG\n",
       "10          169                   Merkel       1002     1008  PERSON\n",
       "11          175                       EU       1045     1047     LOC\n",
       "12          184                       EU       1079     1081     ORG\n",
       "13          193                       EU       1140     1142     ORG\n",
       "14      237,238            Andrea Nahles       1404     1417  PERSON\n",
       "15          240                      SPD       1419     1422     ORG\n",
       "16          304                   Nahles       1751     1757  PERSON\n",
       "17          325                      SPD       1866     1869     ORG\n",
       "18          338                      CSU       1919     1922     ORG\n",
       "19          369                 Vollzeit       2125     2133     LOC\n",
       "20          379                      SPD       2186     2189     ORG\n",
       "21          422              Deutschland       2440     2451     LOC\n",
       "22          440                   Merkel       2553     2559  PERSON\n",
       "23          444              Deutschland       2566     2577     LOC\n",
       "24          489                Deutschen       2800     2809     LOC\n",
       "25          523                   Merkel       3000     3006  PERSON\n",
       "26          545                 Albanien       3127     3135     LOC\n",
       "27          547                   Kosovo       3137     3143     LOC\n",
       "28          549               Montenegro       3148     3158     LOC\n",
       "29          570                      CDU       3313     3316     ORG\n",
       "30          572                      CSU       3317     3320     ORG\n",
       "31          579                  Schwarz       3368     3375  PERSON\n",
       "32          602                      CDU       3511     3514     ORG\n",
       "33          604                      CSU       3519     3522     ORG\n",
       "34          610                 Seehofer       3545     3553  PERSON\n",
       "35      642,643       Alexander Dobrindt       3713     3731  PERSON\n",
       "36          645                      CSU       3733     3736     ORG\n",
       "37      670,671           Birgit Baumann       3849     3863  PERSON\n",
       "38          673                   Berlin       3868     3874     LOC"
      ]
     },
     "execution_count": 59,
     "metadata": {},
     "output_type": "execute_result"
    }
   ],
   "source": [
    "df"
   ]
  },
  {
   "cell_type": "code",
   "execution_count": 60,
   "metadata": {},
   "outputs": [
    {
     "data": {
      "text/plain": [
       "'Alexander Dobrindt'"
      ]
     },
     "execution_count": 60,
     "metadata": {},
     "output_type": "execute_result"
    }
   ],
   "source": [
    "article_full_text[3713:3731]"
   ]
  },
  {
   "cell_type": "markdown",
   "metadata": {},
   "source": [
    "*entity linking Person example*"
   ]
  },
  {
   "cell_type": "code",
   "execution_count": 61,
   "metadata": {},
   "outputs": [],
   "source": [
    "df_person = df[(df['type'] == 'PERSON')]"
   ]
  },
  {
   "cell_type": "code",
   "execution_count": 62,
   "metadata": {},
   "outputs": [
    {
     "data": {
      "text/html": [
       "<div>\n",
       "<style>\n",
       "    .dataframe thead tr:only-child th {\n",
       "        text-align: right;\n",
       "    }\n",
       "\n",
       "    .dataframe thead th {\n",
       "        text-align: left;\n",
       "    }\n",
       "\n",
       "    .dataframe tbody tr th {\n",
       "        vertical-align: top;\n",
       "    }\n",
       "</style>\n",
       "<table border=\"1\" class=\"dataframe\">\n",
       "  <thead>\n",
       "    <tr style=\"text-align: right;\">\n",
       "      <th></th>\n",
       "      <th>id</th>\n",
       "      <th>term</th>\n",
       "      <th>start char</th>\n",
       "      <th>end char</th>\n",
       "      <th>type</th>\n",
       "    </tr>\n",
       "  </thead>\n",
       "  <tbody>\n",
       "    <tr>\n",
       "      <th>3</th>\n",
       "      <td>67,68</td>\n",
       "      <td>Angela Merkel</td>\n",
       "      <td>391</td>\n",
       "      <td>404</td>\n",
       "      <td>PERSON</td>\n",
       "    </tr>\n",
       "    <tr>\n",
       "      <th>5</th>\n",
       "      <td>73,74</td>\n",
       "      <td>Horst Seehofer</td>\n",
       "      <td>423</td>\n",
       "      <td>437</td>\n",
       "      <td>PERSON</td>\n",
       "    </tr>\n",
       "    <tr>\n",
       "      <th>7</th>\n",
       "      <td>98</td>\n",
       "      <td>Lange</td>\n",
       "      <td>565</td>\n",
       "      <td>570</td>\n",
       "      <td>PERSON</td>\n",
       "    </tr>\n",
       "    <tr>\n",
       "      <th>10</th>\n",
       "      <td>169</td>\n",
       "      <td>Merkel</td>\n",
       "      <td>1002</td>\n",
       "      <td>1008</td>\n",
       "      <td>PERSON</td>\n",
       "    </tr>\n",
       "    <tr>\n",
       "      <th>14</th>\n",
       "      <td>237,238</td>\n",
       "      <td>Andrea Nahles</td>\n",
       "      <td>1404</td>\n",
       "      <td>1417</td>\n",
       "      <td>PERSON</td>\n",
       "    </tr>\n",
       "    <tr>\n",
       "      <th>16</th>\n",
       "      <td>304</td>\n",
       "      <td>Nahles</td>\n",
       "      <td>1751</td>\n",
       "      <td>1757</td>\n",
       "      <td>PERSON</td>\n",
       "    </tr>\n",
       "    <tr>\n",
       "      <th>22</th>\n",
       "      <td>440</td>\n",
       "      <td>Merkel</td>\n",
       "      <td>2553</td>\n",
       "      <td>2559</td>\n",
       "      <td>PERSON</td>\n",
       "    </tr>\n",
       "    <tr>\n",
       "      <th>25</th>\n",
       "      <td>523</td>\n",
       "      <td>Merkel</td>\n",
       "      <td>3000</td>\n",
       "      <td>3006</td>\n",
       "      <td>PERSON</td>\n",
       "    </tr>\n",
       "    <tr>\n",
       "      <th>31</th>\n",
       "      <td>579</td>\n",
       "      <td>Schwarz</td>\n",
       "      <td>3368</td>\n",
       "      <td>3375</td>\n",
       "      <td>PERSON</td>\n",
       "    </tr>\n",
       "    <tr>\n",
       "      <th>34</th>\n",
       "      <td>610</td>\n",
       "      <td>Seehofer</td>\n",
       "      <td>3545</td>\n",
       "      <td>3553</td>\n",
       "      <td>PERSON</td>\n",
       "    </tr>\n",
       "    <tr>\n",
       "      <th>35</th>\n",
       "      <td>642,643</td>\n",
       "      <td>Alexander Dobrindt</td>\n",
       "      <td>3713</td>\n",
       "      <td>3731</td>\n",
       "      <td>PERSON</td>\n",
       "    </tr>\n",
       "    <tr>\n",
       "      <th>37</th>\n",
       "      <td>670,671</td>\n",
       "      <td>Birgit Baumann</td>\n",
       "      <td>3849</td>\n",
       "      <td>3863</td>\n",
       "      <td>PERSON</td>\n",
       "    </tr>\n",
       "  </tbody>\n",
       "</table>\n",
       "</div>"
      ],
      "text/plain": [
       "         id                term start char end char    type\n",
       "3     67,68       Angela Merkel        391      404  PERSON\n",
       "5     73,74      Horst Seehofer        423      437  PERSON\n",
       "7        98               Lange        565      570  PERSON\n",
       "10      169              Merkel       1002     1008  PERSON\n",
       "14  237,238       Andrea Nahles       1404     1417  PERSON\n",
       "16      304              Nahles       1751     1757  PERSON\n",
       "22      440              Merkel       2553     2559  PERSON\n",
       "25      523              Merkel       3000     3006  PERSON\n",
       "31      579             Schwarz       3368     3375  PERSON\n",
       "34      610            Seehofer       3545     3553  PERSON\n",
       "35  642,643  Alexander Dobrindt       3713     3731  PERSON\n",
       "37  670,671      Birgit Baumann       3849     3863  PERSON"
      ]
     },
     "execution_count": 62,
     "metadata": {},
     "output_type": "execute_result"
    }
   ],
   "source": [
    "df_person"
   ]
  },
  {
   "cell_type": "code",
   "execution_count": 31,
   "metadata": {},
   "outputs": [
    {
     "data": {
      "text/plain": [
       "'Horst Seehofer'"
      ]
     },
     "execution_count": 31,
     "metadata": {},
     "output_type": "execute_result"
    }
   ],
   "source": [
    "df_person.loc[5, 'term']"
   ]
  },
  {
   "cell_type": "markdown",
   "metadata": {},
   "source": [
    "#### Stanbol\n",
    "Stanbol is a semantic content management system. It provides all its services via REST APIs. While it is also capable of doing NER, we use here only the reference resources. ACDH provides a Stanbol index at http://enrich.acdh.oeaw.ac.at"
   ]
  },
  {
   "cell_type": "code",
   "execution_count": 31,
   "metadata": {},
   "outputs": [],
   "source": [
    "import requests, json"
   ]
  },
  {
   "cell_type": "code",
   "execution_count": 32,
   "metadata": {},
   "outputs": [],
   "source": [
    "headers = {'Content-Type': 'application/json'}"
   ]
  },
  {
   "cell_type": "code",
   "execution_count": 34,
   "metadata": {},
   "outputs": [],
   "source": [
    "query = df_person.loc[5, 'term']\n",
    "query_list = query.split()"
   ]
  },
  {
   "cell_type": "code",
   "execution_count": 35,
   "metadata": {},
   "outputs": [
    {
     "data": {
      "text/plain": [
       "['Horst', 'Seehofer']"
      ]
     },
     "execution_count": 35,
     "metadata": {},
     "output_type": "execute_result"
    }
   ],
   "source": [
    "query_list"
   ]
  },
  {
   "cell_type": "code",
   "execution_count": 36,
   "metadata": {},
   "outputs": [],
   "source": [
    "query = '{}, {}'.format(query_list[1].strip(), query_list[0].strip())\n",
    "constraints = []\n",
    "url='http://enrich.acdh.oeaw.ac.at/entityhub/site/gndPersons/query'\n",
    "constraints.append({\n",
    "            'type': 'text',\n",
    "            'field': 'http://www.w3.org/2000/01/rdf-schema#label',\n",
    "            'text': query})\n",
    "data = {\n",
    "'limit': 20, 'constraints': constraints,\n",
    "'selected': [\n",
    "'http://d-nb.info/standards/elementset/gnd#dateOfBirth',\n",
    "'http://www.w3.org/2000/01/rdf-schema#label'\n",
    "]}"
   ]
  },
  {
   "cell_type": "code",
   "execution_count": 37,
   "metadata": {},
   "outputs": [],
   "source": [
    "r = requests.post(url, data=json.dumps(data), headers=headers)\n",
    "res = r.json()['results']"
   ]
  },
  {
   "cell_type": "code",
   "execution_count": 38,
   "metadata": {},
   "outputs": [
    {
     "data": {
      "text/plain": [
       "[{'http://d-nb.info/standards/elementset/gnd#dateOfBirth': [{'type': 'value',\n",
       "    'value': '1949-07-04T00:00:00.000Z',\n",
       "    'xsd:datatype': 'xsd:dateTime'}],\n",
       "  'http://stanbol.apache.org/ontology/entityhub/query#score': [{'type': 'value',\n",
       "    'value': 41.355167,\n",
       "    'xsd:datatype': 'xsd:float'}],\n",
       "  'http://www.w3.org/2000/01/rdf-schema#label': [{'type': 'value',\n",
       "    'value': 'Seehofer, Horst',\n",
       "    'xsd:datatype': 'xsd:string'},\n",
       "   {'type': 'text', 'value': 'Seehofer, Horst'}],\n",
       "  'id': 'http://d-nb.info/gnd/119526069'}]"
      ]
     },
     "execution_count": 38,
     "metadata": {},
     "output_type": "execute_result"
    }
   ],
   "source": [
    "res"
   ]
  },
  {
   "cell_type": "code",
   "execution_count": 39,
   "metadata": {},
   "outputs": [],
   "source": [
    "query = '{}, {}'.format(query_list[1].strip(), query_list[0].strip())\n",
    "constraints = []\n",
    "url='http://enrich.acdh.oeaw.ac.at/entityhub/site/gndPersons/query'\n",
    "constraints.append({\n",
    "            'type': 'text',\n",
    "            'field': 'http://www.w3.org/2000/01/rdf-schema#label',\n",
    "            'text': query})\n",
    "data = {\n",
    "'limit': 20, 'constraints': constraints,\n",
    "'selected': [\n",
    "'http://d-nb.info/standards/elementset/gnd#dateOfBirth',\n",
    "'http://www.w3.org/2000/01/rdf-schema#label',\n",
    "'http://d-nb.info/standards/elementset/gnd#biographicalOrHistoricalInformation'\n",
    "]}"
   ]
  },
  {
   "cell_type": "code",
   "execution_count": 40,
   "metadata": {},
   "outputs": [],
   "source": [
    "r = requests.post(url, data=json.dumps(data), headers=headers)\n",
    "res = r.json()['results']"
   ]
  },
  {
   "cell_type": "code",
   "execution_count": 41,
   "metadata": {},
   "outputs": [
    {
     "data": {
      "text/plain": [
       "[{'http://d-nb.info/standards/elementset/gnd#biographicalOrHistoricalInformation': [{'type': 'text',\n",
       "    'value': 'Dt. Politiker; ehem. Bundesminister für Ernährung, Landwirtschaft und Verbraucherschutz; bayer. Ministerpräsident (2008-)',\n",
       "    'xml:lang': 'de'}],\n",
       "  'http://d-nb.info/standards/elementset/gnd#dateOfBirth': [{'type': 'value',\n",
       "    'value': '1949-07-04T00:00:00.000Z',\n",
       "    'xsd:datatype': 'xsd:dateTime'}],\n",
       "  'http://stanbol.apache.org/ontology/entityhub/query#score': [{'type': 'value',\n",
       "    'value': 41.355167,\n",
       "    'xsd:datatype': 'xsd:float'}],\n",
       "  'http://www.w3.org/2000/01/rdf-schema#label': [{'type': 'value',\n",
       "    'value': 'Seehofer, Horst',\n",
       "    'xsd:datatype': 'xsd:string'},\n",
       "   {'type': 'text', 'value': 'Seehofer, Horst'}],\n",
       "  'id': 'http://d-nb.info/gnd/119526069'}]"
      ]
     },
     "execution_count": 41,
     "metadata": {},
     "output_type": "execute_result"
    }
   ],
   "source": [
    "res"
   ]
  },
  {
   "cell_type": "code",
   "execution_count": 45,
   "metadata": {},
   "outputs": [],
   "source": [
    "def query_stanbol_gnd(name,\n",
    "                      lower_bound=False,\n",
    "                      url='http://enrich.acdh.oeaw.ac.at/entityhub/site/gndPersons/query'):\n",
    "    name_lst = name.split()\n",
    "    if len(name_lst) < 2:\n",
    "        return False, False\n",
    "    else:\n",
    "        name = name_lst[1]\n",
    "        first_name = name_lst[0]\n",
    "    constraints = []\n",
    "    birth_constraint = False\n",
    "    if lower_bound:\n",
    "        dh = '{}-12-31T23:59:59.000Z'.format(lower_bound)\n",
    "        birth_constraint = {\n",
    "            'type': 'range',\n",
    "            'field': 'http://d-nb.info/standards/elementset/gnd#dateOfBirth',\n",
    "            'upperBound': dh,\n",
    "            'datatype': 'xsd:dateTime'\n",
    "        }\n",
    "    if birth_constraint:\n",
    "        constraints.append(birth_constraint)\n",
    "    if first_name:\n",
    "        query = '{}, {}'.format(name.strip(), first_name.strip())\n",
    "    else:\n",
    "        query = name.strip()\n",
    "    constraints.append({\n",
    "            'type': 'text',\n",
    "            'field': 'http://www.w3.org/2000/01/rdf-schema#label',\n",
    "            'text': query})\n",
    "    data = {\n",
    "    'limit': 20, 'constraints': constraints,\n",
    "    'selected': [\n",
    "    'http://d-nb.info/standards/elementset/gnd#dateOfBirth',\n",
    "    'http://www.w3.org/2000/01/rdf-schema#label'\n",
    "    ]\n",
    "        }\n",
    "    print(constraints)\n",
    "    r = requests.post(url, data=json.dumps(data), headers=headers)\n",
    "    re2 = r.json()['results']\n",
    "    if len(re2) == 1:\n",
    "        return True, re2[0]['id']\n",
    "    if len(re2) > 1:\n",
    "        res = []\n",
    "        for x in re2:\n",
    "            print(x)\n",
    "            res.append(x['id'])\n",
    "        return False, res\n",
    "    if len(re2) == 0:\n",
    "        return False, False"
   ]
  },
  {
   "cell_type": "code",
   "execution_count": 46,
   "metadata": {},
   "outputs": [
    {
     "name": "stdout",
     "output_type": "stream",
     "text": [
      "[{'type': 'range', 'upperBound': '1980-12-31T23:59:59.000Z', 'datatype': 'xsd:dateTime', 'field': 'http://d-nb.info/standards/elementset/gnd#dateOfBirth'}, {'type': 'text', 'text': 'Merkel, Angela', 'field': 'http://www.w3.org/2000/01/rdf-schema#label'}]\n"
     ]
    },
    {
     "data": {
      "text/plain": [
       "(True, 'http://d-nb.info/gnd/119545373')"
      ]
     },
     "execution_count": 46,
     "metadata": {},
     "output_type": "execute_result"
    }
   ],
   "source": [
    "query_stanbol_gnd('Angela Merkel', lower_bound='1980')"
   ]
  },
  {
   "cell_type": "code",
   "execution_count": 129,
   "metadata": {},
   "outputs": [
    {
     "name": "stdout",
     "output_type": "stream",
     "text": [
      "[{'type': 'range', 'upperBound': '1980-12-31T23:59:59.000Z', 'datatype': 'xsd:dateTime', 'field': 'http://d-nb.info/standards/elementset/gnd#dateOfBirth'}, {'type': 'text', 'text': 'Merkel, Angela', 'field': 'http://www.w3.org/2000/01/rdf-schema#label'}]\n",
      "[{'type': 'range', 'upperBound': '1980-12-31T23:59:59.000Z', 'datatype': 'xsd:dateTime', 'field': 'http://d-nb.info/standards/elementset/gnd#dateOfBirth'}, {'type': 'text', 'text': 'Seehofer, Horst', 'field': 'http://www.w3.org/2000/01/rdf-schema#label'}]\n",
      "[{'type': 'range', 'upperBound': '1980-12-31T23:59:59.000Z', 'datatype': 'xsd:dateTime', 'field': 'http://d-nb.info/standards/elementset/gnd#dateOfBirth'}, {'type': 'text', 'text': 'Nahles, Andrea', 'field': 'http://www.w3.org/2000/01/rdf-schema#label'}]\n",
      "[{'type': 'range', 'upperBound': '1980-12-31T23:59:59.000Z', 'datatype': 'xsd:dateTime', 'field': 'http://d-nb.info/standards/elementset/gnd#dateOfBirth'}, {'type': 'text', 'text': 'Dobrindt, Alexander', 'field': 'http://www.w3.org/2000/01/rdf-schema#label'}]\n",
      "[{'type': 'range', 'upperBound': '1980-12-31T23:59:59.000Z', 'datatype': 'xsd:dateTime', 'field': 'http://d-nb.info/standards/elementset/gnd#dateOfBirth'}, {'type': 'text', 'text': 'Baumann, Birgit', 'field': 'http://www.w3.org/2000/01/rdf-schema#label'}]\n"
     ]
    }
   ],
   "source": [
    "df_person_filter = df_person.copy(deep=True)\n",
    "for index, row in df_person.iterrows():\n",
    "    res = query_stanbol_gnd(row['term'], lower_bound='1980')\n",
    "    if res[0]:\n",
    "        if type(res[1]) == str:\n",
    "            df_person_filter.loc[index, ('reference')] = res[1]\n",
    "        else:\n",
    "            df_person_filter.loc[index, ('reference')] = ','.join(res[1])"
   ]
  },
  {
   "cell_type": "code",
   "execution_count": 130,
   "metadata": {},
   "outputs": [
    {
     "data": {
      "text/html": [
       "<div>\n",
       "<style>\n",
       "    .dataframe thead tr:only-child th {\n",
       "        text-align: right;\n",
       "    }\n",
       "\n",
       "    .dataframe thead th {\n",
       "        text-align: left;\n",
       "    }\n",
       "\n",
       "    .dataframe tbody tr th {\n",
       "        vertical-align: top;\n",
       "    }\n",
       "</style>\n",
       "<table border=\"1\" class=\"dataframe\">\n",
       "  <thead>\n",
       "    <tr style=\"text-align: right;\">\n",
       "      <th></th>\n",
       "      <th>id</th>\n",
       "      <th>term</th>\n",
       "      <th>start char</th>\n",
       "      <th>end char</th>\n",
       "      <th>type</th>\n",
       "      <th>reference</th>\n",
       "    </tr>\n",
       "  </thead>\n",
       "  <tbody>\n",
       "    <tr>\n",
       "      <th>3</th>\n",
       "      <td>67,68</td>\n",
       "      <td>Angela Merkel</td>\n",
       "      <td>391</td>\n",
       "      <td>404</td>\n",
       "      <td>PERSON</td>\n",
       "      <td>http://d-nb.info/gnd/119545373</td>\n",
       "    </tr>\n",
       "    <tr>\n",
       "      <th>5</th>\n",
       "      <td>73,74</td>\n",
       "      <td>Horst Seehofer</td>\n",
       "      <td>423</td>\n",
       "      <td>437</td>\n",
       "      <td>PERSON</td>\n",
       "      <td>http://d-nb.info/gnd/119526069</td>\n",
       "    </tr>\n",
       "    <tr>\n",
       "      <th>7</th>\n",
       "      <td>98</td>\n",
       "      <td>Lange</td>\n",
       "      <td>565</td>\n",
       "      <td>570</td>\n",
       "      <td>PERSON</td>\n",
       "      <td>test</td>\n",
       "    </tr>\n",
       "    <tr>\n",
       "      <th>10</th>\n",
       "      <td>169</td>\n",
       "      <td>Merkel</td>\n",
       "      <td>1002</td>\n",
       "      <td>1008</td>\n",
       "      <td>PERSON</td>\n",
       "      <td>NaN</td>\n",
       "    </tr>\n",
       "    <tr>\n",
       "      <th>14</th>\n",
       "      <td>237,238</td>\n",
       "      <td>Andrea Nahles</td>\n",
       "      <td>1404</td>\n",
       "      <td>1417</td>\n",
       "      <td>PERSON</td>\n",
       "      <td>http://d-nb.info/gnd/123778964</td>\n",
       "    </tr>\n",
       "    <tr>\n",
       "      <th>16</th>\n",
       "      <td>304</td>\n",
       "      <td>Nahles</td>\n",
       "      <td>1751</td>\n",
       "      <td>1757</td>\n",
       "      <td>PERSON</td>\n",
       "      <td>NaN</td>\n",
       "    </tr>\n",
       "    <tr>\n",
       "      <th>22</th>\n",
       "      <td>440</td>\n",
       "      <td>Merkel</td>\n",
       "      <td>2553</td>\n",
       "      <td>2559</td>\n",
       "      <td>PERSON</td>\n",
       "      <td>NaN</td>\n",
       "    </tr>\n",
       "    <tr>\n",
       "      <th>25</th>\n",
       "      <td>523</td>\n",
       "      <td>Merkel</td>\n",
       "      <td>3000</td>\n",
       "      <td>3006</td>\n",
       "      <td>PERSON</td>\n",
       "      <td>NaN</td>\n",
       "    </tr>\n",
       "    <tr>\n",
       "      <th>31</th>\n",
       "      <td>579</td>\n",
       "      <td>Schwarz</td>\n",
       "      <td>3368</td>\n",
       "      <td>3375</td>\n",
       "      <td>PERSON</td>\n",
       "      <td>NaN</td>\n",
       "    </tr>\n",
       "    <tr>\n",
       "      <th>34</th>\n",
       "      <td>610</td>\n",
       "      <td>Seehofer</td>\n",
       "      <td>3545</td>\n",
       "      <td>3553</td>\n",
       "      <td>PERSON</td>\n",
       "      <td>NaN</td>\n",
       "    </tr>\n",
       "    <tr>\n",
       "      <th>35</th>\n",
       "      <td>642,643</td>\n",
       "      <td>Alexander Dobrindt</td>\n",
       "      <td>3713</td>\n",
       "      <td>3731</td>\n",
       "      <td>PERSON</td>\n",
       "      <td>http://d-nb.info/gnd/1019544686</td>\n",
       "    </tr>\n",
       "    <tr>\n",
       "      <th>37</th>\n",
       "      <td>670,671</td>\n",
       "      <td>Birgit Baumann</td>\n",
       "      <td>3849</td>\n",
       "      <td>3863</td>\n",
       "      <td>PERSON</td>\n",
       "      <td>http://d-nb.info/gnd/133383350</td>\n",
       "    </tr>\n",
       "  </tbody>\n",
       "</table>\n",
       "</div>"
      ],
      "text/plain": [
       "         id                term start char end char    type  \\\n",
       "3     67,68       Angela Merkel        391      404  PERSON   \n",
       "5     73,74      Horst Seehofer        423      437  PERSON   \n",
       "7        98               Lange        565      570  PERSON   \n",
       "10      169              Merkel       1002     1008  PERSON   \n",
       "14  237,238       Andrea Nahles       1404     1417  PERSON   \n",
       "16      304              Nahles       1751     1757  PERSON   \n",
       "22      440              Merkel       2553     2559  PERSON   \n",
       "25      523              Merkel       3000     3006  PERSON   \n",
       "31      579             Schwarz       3368     3375  PERSON   \n",
       "34      610            Seehofer       3545     3553  PERSON   \n",
       "35  642,643  Alexander Dobrindt       3713     3731  PERSON   \n",
       "37  670,671      Birgit Baumann       3849     3863  PERSON   \n",
       "\n",
       "                          reference  \n",
       "3    http://d-nb.info/gnd/119545373  \n",
       "5    http://d-nb.info/gnd/119526069  \n",
       "7                              test  \n",
       "10                              NaN  \n",
       "14   http://d-nb.info/gnd/123778964  \n",
       "16                              NaN  \n",
       "22                              NaN  \n",
       "25                              NaN  \n",
       "31                              NaN  \n",
       "34                              NaN  \n",
       "35  http://d-nb.info/gnd/1019544686  \n",
       "37   http://d-nb.info/gnd/133383350  "
      ]
     },
     "execution_count": 130,
     "metadata": {},
     "output_type": "execute_result"
    }
   ],
   "source": [
    "df_person_filter"
   ]
  },
  {
   "cell_type": "markdown",
   "metadata": {},
   "source": [
    "### Basic co-reference resolution"
   ]
  },
  {
   "cell_type": "code",
   "execution_count": 135,
   "metadata": {},
   "outputs": [],
   "source": [
    "for index, row in df_person_filter.loc[(pd.isnull(df_person_filter['reference']))].iterrows():\n",
    "    test = df_person_filter.loc[(df_person_filter['term'].str.contains(row['term'])) & (~pd.isnull(df_person_filter['reference']))]\n",
    "    if len(test) > 1:\n",
    "        df_person_filter.loc[index, 'reference'] = test.iloc[0]['reference']"
   ]
  },
  {
   "cell_type": "code",
   "execution_count": 133,
   "metadata": {},
   "outputs": [
    {
     "data": {
      "text/html": [
       "<div>\n",
       "<style>\n",
       "    .dataframe thead tr:only-child th {\n",
       "        text-align: right;\n",
       "    }\n",
       "\n",
       "    .dataframe thead th {\n",
       "        text-align: left;\n",
       "    }\n",
       "\n",
       "    .dataframe tbody tr th {\n",
       "        vertical-align: top;\n",
       "    }\n",
       "</style>\n",
       "<table border=\"1\" class=\"dataframe\">\n",
       "  <thead>\n",
       "    <tr style=\"text-align: right;\">\n",
       "      <th></th>\n",
       "      <th>id</th>\n",
       "      <th>term</th>\n",
       "      <th>start char</th>\n",
       "      <th>end char</th>\n",
       "      <th>type</th>\n",
       "      <th>reference</th>\n",
       "    </tr>\n",
       "  </thead>\n",
       "  <tbody>\n",
       "    <tr>\n",
       "      <th>5</th>\n",
       "      <td>73,74</td>\n",
       "      <td>Horst Seehofer</td>\n",
       "      <td>423</td>\n",
       "      <td>437</td>\n",
       "      <td>PERSON</td>\n",
       "      <td>http://d-nb.info/gnd/119526069</td>\n",
       "    </tr>\n",
       "  </tbody>\n",
       "</table>\n",
       "</div>"
      ],
      "text/plain": [
       "      id            term start char end char    type  \\\n",
       "5  73,74  Horst Seehofer        423      437  PERSON   \n",
       "\n",
       "                        reference  \n",
       "5  http://d-nb.info/gnd/119526069  "
      ]
     },
     "execution_count": 133,
     "metadata": {},
     "output_type": "execute_result"
    }
   ],
   "source": [
    "test"
   ]
  },
  {
   "cell_type": "code",
   "execution_count": 136,
   "metadata": {},
   "outputs": [
    {
     "data": {
      "text/html": [
       "<div>\n",
       "<style>\n",
       "    .dataframe thead tr:only-child th {\n",
       "        text-align: right;\n",
       "    }\n",
       "\n",
       "    .dataframe thead th {\n",
       "        text-align: left;\n",
       "    }\n",
       "\n",
       "    .dataframe tbody tr th {\n",
       "        vertical-align: top;\n",
       "    }\n",
       "</style>\n",
       "<table border=\"1\" class=\"dataframe\">\n",
       "  <thead>\n",
       "    <tr style=\"text-align: right;\">\n",
       "      <th></th>\n",
       "      <th>id</th>\n",
       "      <th>term</th>\n",
       "      <th>start char</th>\n",
       "      <th>end char</th>\n",
       "      <th>type</th>\n",
       "      <th>reference</th>\n",
       "    </tr>\n",
       "  </thead>\n",
       "  <tbody>\n",
       "    <tr>\n",
       "      <th>3</th>\n",
       "      <td>67,68</td>\n",
       "      <td>Angela Merkel</td>\n",
       "      <td>391</td>\n",
       "      <td>404</td>\n",
       "      <td>PERSON</td>\n",
       "      <td>http://d-nb.info/gnd/119545373</td>\n",
       "    </tr>\n",
       "    <tr>\n",
       "      <th>5</th>\n",
       "      <td>73,74</td>\n",
       "      <td>Horst Seehofer</td>\n",
       "      <td>423</td>\n",
       "      <td>437</td>\n",
       "      <td>PERSON</td>\n",
       "      <td>http://d-nb.info/gnd/119526069</td>\n",
       "    </tr>\n",
       "    <tr>\n",
       "      <th>7</th>\n",
       "      <td>98</td>\n",
       "      <td>Lange</td>\n",
       "      <td>565</td>\n",
       "      <td>570</td>\n",
       "      <td>PERSON</td>\n",
       "      <td>test</td>\n",
       "    </tr>\n",
       "    <tr>\n",
       "      <th>10</th>\n",
       "      <td>169</td>\n",
       "      <td>Merkel</td>\n",
       "      <td>1002</td>\n",
       "      <td>1008</td>\n",
       "      <td>PERSON</td>\n",
       "      <td>http://d-nb.info/gnd/119545373</td>\n",
       "    </tr>\n",
       "    <tr>\n",
       "      <th>14</th>\n",
       "      <td>237,238</td>\n",
       "      <td>Andrea Nahles</td>\n",
       "      <td>1404</td>\n",
       "      <td>1417</td>\n",
       "      <td>PERSON</td>\n",
       "      <td>http://d-nb.info/gnd/123778964</td>\n",
       "    </tr>\n",
       "    <tr>\n",
       "      <th>16</th>\n",
       "      <td>304</td>\n",
       "      <td>Nahles</td>\n",
       "      <td>1751</td>\n",
       "      <td>1757</td>\n",
       "      <td>PERSON</td>\n",
       "      <td>http://d-nb.info/gnd/123778964</td>\n",
       "    </tr>\n",
       "    <tr>\n",
       "      <th>22</th>\n",
       "      <td>440</td>\n",
       "      <td>Merkel</td>\n",
       "      <td>2553</td>\n",
       "      <td>2559</td>\n",
       "      <td>PERSON</td>\n",
       "      <td>http://d-nb.info/gnd/119545373</td>\n",
       "    </tr>\n",
       "    <tr>\n",
       "      <th>25</th>\n",
       "      <td>523</td>\n",
       "      <td>Merkel</td>\n",
       "      <td>3000</td>\n",
       "      <td>3006</td>\n",
       "      <td>PERSON</td>\n",
       "      <td>http://d-nb.info/gnd/119545373</td>\n",
       "    </tr>\n",
       "    <tr>\n",
       "      <th>31</th>\n",
       "      <td>579</td>\n",
       "      <td>Schwarz</td>\n",
       "      <td>3368</td>\n",
       "      <td>3375</td>\n",
       "      <td>PERSON</td>\n",
       "      <td>NaN</td>\n",
       "    </tr>\n",
       "    <tr>\n",
       "      <th>34</th>\n",
       "      <td>610</td>\n",
       "      <td>Seehofer</td>\n",
       "      <td>3545</td>\n",
       "      <td>3553</td>\n",
       "      <td>PERSON</td>\n",
       "      <td>http://d-nb.info/gnd/119526069</td>\n",
       "    </tr>\n",
       "    <tr>\n",
       "      <th>35</th>\n",
       "      <td>642,643</td>\n",
       "      <td>Alexander Dobrindt</td>\n",
       "      <td>3713</td>\n",
       "      <td>3731</td>\n",
       "      <td>PERSON</td>\n",
       "      <td>http://d-nb.info/gnd/1019544686</td>\n",
       "    </tr>\n",
       "    <tr>\n",
       "      <th>37</th>\n",
       "      <td>670,671</td>\n",
       "      <td>Birgit Baumann</td>\n",
       "      <td>3849</td>\n",
       "      <td>3863</td>\n",
       "      <td>PERSON</td>\n",
       "      <td>http://d-nb.info/gnd/133383350</td>\n",
       "    </tr>\n",
       "  </tbody>\n",
       "</table>\n",
       "</div>"
      ],
      "text/plain": [
       "         id                term start char end char    type  \\\n",
       "3     67,68       Angela Merkel        391      404  PERSON   \n",
       "5     73,74      Horst Seehofer        423      437  PERSON   \n",
       "7        98               Lange        565      570  PERSON   \n",
       "10      169              Merkel       1002     1008  PERSON   \n",
       "14  237,238       Andrea Nahles       1404     1417  PERSON   \n",
       "16      304              Nahles       1751     1757  PERSON   \n",
       "22      440              Merkel       2553     2559  PERSON   \n",
       "25      523              Merkel       3000     3006  PERSON   \n",
       "31      579             Schwarz       3368     3375  PERSON   \n",
       "34      610            Seehofer       3545     3553  PERSON   \n",
       "35  642,643  Alexander Dobrindt       3713     3731  PERSON   \n",
       "37  670,671      Birgit Baumann       3849     3863  PERSON   \n",
       "\n",
       "                          reference  \n",
       "3    http://d-nb.info/gnd/119545373  \n",
       "5    http://d-nb.info/gnd/119526069  \n",
       "7                              test  \n",
       "10   http://d-nb.info/gnd/119545373  \n",
       "14   http://d-nb.info/gnd/123778964  \n",
       "16   http://d-nb.info/gnd/123778964  \n",
       "22   http://d-nb.info/gnd/119545373  \n",
       "25   http://d-nb.info/gnd/119545373  \n",
       "31                              NaN  \n",
       "34   http://d-nb.info/gnd/119526069  \n",
       "35  http://d-nb.info/gnd/1019544686  \n",
       "37   http://d-nb.info/gnd/133383350  "
      ]
     },
     "execution_count": 136,
     "metadata": {},
     "output_type": "execute_result"
    }
   ],
   "source": [
    "df_person_filter"
   ]
  },
  {
   "cell_type": "markdown",
   "metadata": {},
   "source": [
    "### write out the data"
   ]
  },
  {
   "cell_type": "code",
   "execution_count": 142,
   "metadata": {},
   "outputs": [],
   "source": [
    "text_final = '<html>'\n",
    "idx = 0\n",
    "for index, row in df_person_filter.iterrows():\n",
    "    if not pd.isnull(row['reference']):\n",
    "        text_final += article_full_text[idx:row['start char']]\n",
    "        text_final += '<a href=\"{}\">{}</a>'.format(row['reference'], row['term'])\n",
    "        idx = row['end char']\n",
    "    else:\n",
    "        text_final += row['term']\n",
    "        idx = row['end char']\n",
    "text_final += '</html>'"
   ]
  },
  {
   "cell_type": "code",
   "execution_count": 143,
   "metadata": {},
   "outputs": [
    {
     "data": {
      "text/plain": [
       "'<html>Die große Koalition arbeitete zunächst einiges aus dem Koalitionsvertrag zügig ab. Auf die vielen Flüchtlinge war sie jedoch nicht vorbereitet Es begann mit großen Worten. \"Die Koalition aus CDU, CSU und SPD will dafür Sorge tragen, dass die Grundlagen für unseren Wohlstand und den Zusammenhalt gesichert und ausgebaut werden\", steht in der Präambel des Koalitionsvertrages, den CDU-Chefin <a href=\"http://d-nb.info/gnd/119545373\">Angela Merkel</a>, CSU-Vorsitzender <a href=\"http://d-nb.info/gnd/119526069\">Horst Seehofer</a> und SPD-Chef Sigmar Gabriel am 16. Dezember 2013 unterschrieben haben. Sekt dazu trank man zwischen Christbäumen im Bundestag. <a href=\"test\">Lange</a> hatte Deutschland auf diese neue Regierung warten müssen. Bevor die Sozialdemokraten grünes Licht gaben, hatten sie noch die Zustimmung ihrer Mitglieder eingeholt. Im schwarz-roten Regelwerk für die kommenden vier Jahre fand sich auch etwas zu Flüchtlingen. Man wollte die Asylverfahren verkürzen, mehr Mittel für das Bundesamt für Migration bereitstellen, die Außengrenzen besser kontrollieren. Es steht dort auch jener Satz, den <a href=\"http://d-nb.info/gnd/119545373\">Merkel</a> später noch öfter seufzend Richtung EU-Partner sagen sollte: \"Bei der EU-Flüchtlingspolitik fordern wir mehr Solidarität unter den EU-Mitgliedstaaten.\" Allerdings finden sich diese Passagen erst auf Seite 108. Niemand ahnte, dass das Thema Asyl das zentrale dieser Regierung werden sollte. Zunächst begann die Koalition also den Vertrag abzuarbeiten. Ins Auge stach dabei bald Arbeitsministerin <a href=\"http://d-nb.info/gnd/123778964\">Andrea Nahles</a> (SPD), die rasch ein Gesetz für einen bundeseinheitlichen Mindestlohn vorlegte. \"Damit verbessern wir sofort das Leben von Millionen von Menschen\", sagte sie, als der Beschluss gefasst wurde. Am 1. Jänner 2015 trat das Gesetz in Kraft, zunächst betrug der Mindestlohn 8,50 Euro brutto pro Stunde, 2017 wurde er auf 8,84 Euro erhöht. <a href=\"http://d-nb.info/gnd/123778964\">Nahles</a> war es auch, die das Rentenpaket auf den Weg brachte und dabei für die Großkoalitionäre Balance sorgte. Die SPD bekam ihre \"Rente mit 63\", dafür durfte sich die CSU die \"Mütterrente\" auf die Fahnen schreiben. Nicht geschafft hingegen haben die Koalitionäre die \"solidarische Lebensleistungsrente\" für bedürftige Pensionisten und das Rückkehrrecht aus der Teilzeit in Vollzeit. In der ersten Hälfte der Legislaturperiode war die SPD Antreiberin in der großen Koalition, sie setzte auch die Mietpreisbremse und die Frauenquote für Aufsichtsräte durch. Doch das änderte sich im Jahr 2015. Plötzlich war vieles, was im Koalitionsvertrag stand, Makulatur. Dass so viele Flüchtlinge nach Deutschland kommen würden, damit hatte niemand gerechnet. Monatelang drehte sich alles nur noch um den berühmten <a href=\"http://d-nb.info/gnd/119545373\">Merkel</a>-Satz \"Deutschland ist ein starkes Land. Wir haben so vieles geschafft, wir schaffen das\", sagte sie am 31. August 2015. Kein Satz hat die Bürger mehr beschäftigt, keiner hat das Land mehr gespaltet. Zunächst stand die Hilfsbereitschaft der Deutschen im Vordergrund, doch als immer mehr Zweifel aufkamen, wie die vielen Menschen (allein im Jahr 2015 waren es 890.000 Asylsuchende) auf Dauer untergebracht und integriert werden sollen, stieg <a href=\"http://d-nb.info/gnd/119545373\">Merkel</a>Schwarz-Rot – Stichwort Fußfessel und leichtere Abschiebehaft für Extremisten. In Erinnerung ist aus dieser Zeit vor allem der Streit zwischen CDU und CSU. Im Februar 2016 warf <a href=\"http://d-nb.info/gnd/119526069\">Seehofer</a> der Kanzlerin sogar eine \"Herrschaft des Unrechts\" vor. Apropos starke Töne. \"Am 1. Januar 2016 wird die Pkw-Maut scharfgestellt\", verkündete Verkehrsminister <a href=\"http://d-nb.info/gnd/1019544686\">Alexander Dobrindt</a> (CSU) im Frühjahr 2014 vollmundig. Ein bisserl aber dauert es jetzt noch. Man will jetzt erst im Jahr 2019 starten. (<a href=\"http://d-nb.info/gnd/133383350\">Birgit Baumann</a></html>'"
      ]
     },
     "execution_count": 143,
     "metadata": {},
     "output_type": "execute_result"
    }
   ],
   "source": [
    "text_final"
   ]
  },
  {
   "cell_type": "code",
   "execution_count": 144,
   "metadata": {},
   "outputs": [],
   "source": [
    "with open('output.html', 'w') as output_txt:\n",
    "    output_txt.write(text_final)"
   ]
  },
  {
   "cell_type": "code",
   "execution_count": null,
   "metadata": {},
   "outputs": [],
   "source": []
  }
 ],
 "metadata": {
  "kernelspec": {
   "display_name": "Python 3",
   "language": "python",
   "name": "python3"
  },
  "language_info": {
   "codemirror_mode": {
    "name": "ipython",
    "version": 3
   },
   "file_extension": ".py",
   "mimetype": "text/x-python",
   "name": "python",
   "nbconvert_exporter": "python",
   "pygments_lexer": "ipython3",
   "version": "3.4.3"
  }
 },
 "nbformat": 4,
 "nbformat_minor": 2
}
